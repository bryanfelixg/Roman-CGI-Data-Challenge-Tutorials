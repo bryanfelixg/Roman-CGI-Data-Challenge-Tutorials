{
 "cells": [
  {
   "cell_type": "markdown",
   "metadata": {},
   "source": [
    "## Run all the data analysis notebooks in sequence, and store results and plots in the ./results/ subdirectory.\n",
    "\n",
    "### Note, the orbit fitting stage (notebooks #8 and #9) are relatively slow due to the large number of MCMC samples required. Because the orbit fits are repeated for different combinations of epochs, expect the overall sequence of notebooks to take ~1 hour to complete.\n",
    "\n",
    "- 01-centered_HLC_PSF.ipynb - prepare PSF model  \n",
    "- 02-HLC_RDI.ipynb - Reference differential imaging  \n",
    "- 03-HLC_photometry_astrometry_ep1.ipynb - Photometry and astrometry, epoch 1\n",
    "- 04-HLC_photometry_astrometry_ep2.ipynb - Photometry and astrometry, epoch 2\n",
    "- 05-HLC_photometry_astrometry_ep3.ipynb - Photometry and astrometry, epoch 3\n",
    "- 06-HLC_photometry_astrometry_ep4.ipynb - Photometry and astrometry, epoch 4\n",
    "- 07-starshade_photometry_astrometry_ep5.ipynb - Photometry and astrometry, epoch 5\n",
    "- 08-radial_velocities.ipynb - Radial velocity analysis\n",
    "- 09-orbit.ipynb - Orbit fit analysis, repeated for different numbers of cumulative epochs\n",
    "- 10-phase_curve.ipynb - Photometry and phase curve analysis, albedo inference"
   ]
  },
  {
   "cell_type": "markdown",
   "metadata": {},
   "source": [
    "The nbconvert commands were copied from the example at https://nbconvert.readthedocs.io/en/latest/execute_api.html \n",
    "\n",
    "The nbparameterise commands copied from \n",
    "https://github.com/takluyver/nbparameterise/blob/master/README.rst"
   ]
  },
  {
   "cell_type": "code",
   "execution_count": 1,
   "metadata": {},
   "outputs": [],
   "source": [
    "import os\n",
    "import nbformat\n",
    "from nbconvert.preprocessors import ExecutePreprocessor\n",
    "from nbparameterise import (\n",
    "    extract_parameters, replace_definitions, parameter_values\n",
    ")"
   ]
  },
  {
   "cell_type": "markdown",
   "metadata": {},
   "source": [
    "### Reference PSF subtraction (RDI), photometry, and astrometry"
   ]
  },
  {
   "cell_type": "code",
   "execution_count": 2,
   "metadata": {},
   "outputs": [],
   "source": [
    "nb_run_list = [\n",
    "        '01-centered_HLC_PSF.ipynb',\n",
    "        '02-HLC_RDI.ipynb',\n",
    "        '03-HLC_photometry_astrometry_ep1.ipynb',\n",
    "        '04-HLC_photometry_astrometry_ep2.ipynb',\n",
    "        '05-HLC_photometry_astrometry_ep3.ipynb',\n",
    "        '06-HLC_photometry_astrometry_ep4.ipynb',\n",
    "        '07-starshade_photometry_astrometry_ep5.ipynb'\n",
    "]\n",
    "\n",
    "nb_dir = os.getcwd()"
   ]
  },
  {
   "cell_type": "code",
   "execution_count": 3,
   "metadata": {},
   "outputs": [
    {
     "name": "stdout",
     "output_type": "stream",
     "text": [
      "Finished running 01-centered_HLC_PSF.ipynb\n",
      "Finished running 02-HLC_RDI.ipynb\n",
      "Finished running 03-HLC_photometry_astrometry_ep1.ipynb\n",
      "Finished running 04-HLC_photometry_astrometry_ep2.ipynb\n",
      "Finished running 05-HLC_photometry_astrometry_ep3.ipynb\n",
      "Finished running 06-HLC_photometry_astrometry_ep4.ipynb\n",
      "Finished running 07-starshade_photometry_astrometry_ep5.ipynb\n"
     ]
    }
   ],
   "source": [
    "ep = ExecutePreprocessor(timeout=1200)\n",
    "\n",
    "for nb_fname in nb_run_list:\n",
    "    full_nb_fname = os.path.join(nb_dir, nb_fname)\n",
    "    \n",
    "    with open(nb_fname) as f:\n",
    "        nb = nbformat.read(f, as_version=4)\n",
    "    \n",
    "    _ = ep.preprocess(nb, {'metadata': {'path': nb_dir}})\n",
    "    \n",
    "    with open(nb_fname, 'w', encoding='utf-8') as f:\n",
    "        nbformat.write(nb, f)\n",
    "        \n",
    "    print(\"Finished running {:s}\".format(nb_fname))"
   ]
  },
  {
   "cell_type": "markdown",
   "metadata": {},
   "source": [
    "### Radial velocity analysis"
   ]
  },
  {
   "cell_type": "code",
   "execution_count": 4,
   "metadata": {},
   "outputs": [
    {
     "name": "stdout",
     "output_type": "stream",
     "text": [
      "Finished running 08-radial_velocities.ipynb\n"
     ]
    }
   ],
   "source": [
    "rv_nb_fname = \"08-radial_velocities.ipynb\"\n",
    "with open(rv_nb_fname) as f:\n",
    "    nb = nbformat.read(f, as_version=4)\n",
    "\n",
    "_ = ep.preprocess(nb, {'metadata': {'path': nb_dir}})\n",
    "    \n",
    "with open(nb_fname, 'w', encoding='utf-8') as f:\n",
    "    nbformat.write(nb, f)\n",
    "    \n",
    "print(\"Finished running {:s}\".format(rv_nb_fname))"
   ]
  },
  {
   "cell_type": "markdown",
   "metadata": {},
   "source": [
    "### Loop over the range of observation epochs, repeating the orbit and phase curve fit for each case."
   ]
  },
  {
   "cell_type": "code",
   "execution_count": 5,
   "metadata": {},
   "outputs": [
    {
     "name": "stdout",
     "output_type": "stream",
     "text": [
      "Finished running 09-orbit.ipynb with last epoch = 1\n",
      "Finished running 10-phase_curve.ipynb with last epoch = 1\n",
      "Finished running 09-orbit.ipynb with last epoch = 2\n",
      "Finished running 10-phase_curve.ipynb with last epoch = 2\n",
      "Finished running 09-orbit.ipynb with last epoch = 3\n",
      "Finished running 10-phase_curve.ipynb with last epoch = 3\n",
      "Finished running 09-orbit.ipynb with last epoch = 4\n",
      "Finished running 10-phase_curve.ipynb with last epoch = 4\n",
      "Finished running 09-orbit.ipynb with last epoch = 5\n",
      "Finished running 10-phase_curve.ipynb with last epoch = 5\n"
     ]
    }
   ],
   "source": [
    "ep = ExecutePreprocessor(timeout = 2400)\n",
    "\n",
    "orbit_nb_fname = \"09-orbit.ipynb\"\n",
    "phasecurve_nb_fname = \"10-phase_curve.ipynb\"\n",
    "\n",
    "total_orbits = 40000\n",
    "#total_orbits = 5000\n",
    "\n",
    "for last_epoch in range(1, 6):\n",
    "    with open(orbit_nb_fname) as f:\n",
    "        nb = nbformat.read(f, as_version=4)\n",
    "    \n",
    "    orig_parameters = extract_parameters(nb)\n",
    "    new_params = parameter_values(orig_parameters, last_epoch=last_epoch, total_orbits = total_orbits)\n",
    "    new_nb = replace_definitions(nb, new_params, execute=False)\n",
    "\n",
    "    _ = ep.preprocess(new_nb, {'metadata': {'path': nb_dir}})\n",
    "    \n",
    "    with open(orbit_nb_fname, 'w', encoding='utf-8') as f:\n",
    "        nbformat.write(new_nb, f)\n",
    "        \n",
    "    print(\"Finished running {:s} with last epoch = {:d}\".format(orbit_nb_fname, last_epoch))\n",
    "    \n",
    "    with open(phasecurve_nb_fname) as f:\n",
    "        nb = nbformat.read(f, as_version=4)\n",
    "    \n",
    "    orig_parameters = extract_parameters(nb)\n",
    "    new_params = parameter_values(orig_parameters, last_epoch=last_epoch)\n",
    "    new_nb = replace_definitions(nb, new_params, execute=False)\n",
    "\n",
    "    _ = ep.preprocess(new_nb, {'metadata': {'path': nb_dir}})\n",
    "    \n",
    "    with open(phasecurve_nb_fname, 'w', encoding='utf-8') as f:\n",
    "        nbformat.write(new_nb, f)\n",
    "        \n",
    "    print(\"Finished running {:s} with last epoch = {:d}\".format(phasecurve_nb_fname, last_epoch))"
   ]
  },
  {
   "cell_type": "code",
   "execution_count": null,
   "metadata": {},
   "outputs": [],
   "source": []
  },
  {
   "cell_type": "code",
   "execution_count": null,
   "metadata": {},
   "outputs": [],
   "source": []
  }
 ],
 "metadata": {
  "kernelspec": {
   "display_name": "Python 3",
   "language": "python",
   "name": "python3"
  },
  "language_info": {
   "codemirror_mode": {
    "name": "ipython",
    "version": 3
   },
   "file_extension": ".py",
   "mimetype": "text/x-python",
   "name": "python",
   "nbconvert_exporter": "python",
   "pygments_lexer": "ipython3",
   "version": "3.7.3"
  }
 },
 "nbformat": 4,
 "nbformat_minor": 4
}
