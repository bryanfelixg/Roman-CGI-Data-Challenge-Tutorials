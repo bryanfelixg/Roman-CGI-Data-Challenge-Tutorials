{
 "cells": [
  {
   "cell_type": "markdown",
   "metadata": {},
   "source": [
    "## Epoch 3 -- Quicklook photometry, astrometry, and SNR"
   ]
  },
  {
   "cell_type": "code",
   "execution_count": 1,
   "metadata": {
    "execution": {
     "iopub.execute_input": "2020-11-03T14:44:29.319442Z",
     "iopub.status.busy": "2020-11-03T14:44:29.318796Z",
     "iopub.status.idle": "2020-11-03T14:44:31.062843Z",
     "shell.execute_reply": "2020-11-03T14:44:31.062336Z"
    }
   },
   "outputs": [],
   "source": [
    "import numpy as np\n",
    "import scipy.ndimage\n",
    "import skimage.transform\n",
    "import skimage.registration\n",
    "import os\n",
    "import pandas\n",
    "import csv\n",
    "\n",
    "import matplotlib\n",
    "import matplotlib.pyplot as plt\n",
    "matplotlib.rcParams['image.cmap'] = 'inferno'\n",
    "matplotlib.rcParams['font.size'] = 16\n",
    "matplotlib.rcParams['image.origin'] = 'lower'\n",
    "plt.style.use('dark_background')\n",
    "\n",
    "import astropy.units as u\n",
    "import astropy.constants as c\n",
    "import astropy.io.fits as fits\n",
    "import astropy.table\n",
    "import photutils\n",
    "\n",
    "import scipy.signal"
   ]
  },
  {
   "cell_type": "markdown",
   "metadata": {},
   "source": [
    "### File paths"
   ]
  },
  {
   "cell_type": "code",
   "execution_count": 2,
   "metadata": {
    "execution": {
     "iopub.execute_input": "2020-11-03T14:44:31.067387Z",
     "iopub.status.busy": "2020-11-03T14:44:31.066795Z",
     "iopub.status.idle": "2020-11-03T14:44:31.070307Z",
     "shell.execute_reply": "2020-11-03T14:44:31.069618Z"
    }
   },
   "outputs": [],
   "source": [
    "analysis_results_dir = os.path.relpath(\"./results/\")\n",
    "cal_data_dir = os.path.relpath(\"../../Data/official2019/HLC/HLC CAL/\")\n",
    "\n",
    "rdi_coadd_fname = os.path.join(analysis_results_dir, \"HLC_scistar_RDI_rollcomb_seq.fits\")\n",
    "psf_model_fname = os.path.join(analysis_results_dir, 'hlc_centered_psf.fits')\n",
    "\n",
    "star_cal_fname = os.path.join(cal_data_dir, \"HLC_scistar_unocc_PSF_model.fits\")\n",
    "psf_peak_map_fname = os.path.join(cal_data_dir, 'OS6_HLC_PSF_peak_map.fits')"
   ]
  },
  {
   "cell_type": "code",
   "execution_count": 3,
   "metadata": {
    "execution": {
     "iopub.execute_input": "2020-11-03T14:44:31.074994Z",
     "iopub.status.busy": "2020-11-03T14:44:31.074064Z",
     "iopub.status.idle": "2020-11-03T14:44:31.076658Z",
     "shell.execute_reply": "2020-11-03T14:44:31.077363Z"
    }
   },
   "outputs": [],
   "source": [
    "#os.listdir(cal_data_dir)"
   ]
  },
  {
   "cell_type": "markdown",
   "metadata": {},
   "source": [
    "### Misc. observation and data parameters"
   ]
  },
  {
   "cell_type": "code",
   "execution_count": 4,
   "metadata": {
    "execution": {
     "iopub.execute_input": "2020-11-03T14:44:31.083479Z",
     "iopub.status.busy": "2020-11-03T14:44:31.082638Z",
     "iopub.status.idle": "2020-11-03T14:44:31.086100Z",
     "shell.execute_reply": "2020-11-03T14:44:31.085500Z"
    }
   },
   "outputs": [
    {
     "name": "stdout",
     "output_type": "stream",
     "text": [
      "36.666666666666664 h\n"
     ]
    }
   ],
   "source": [
    "epoch_ind = 2\n",
    "\n",
    "det_qe = 0.75 * u.electron / u.photon # effective QE of detector\n",
    "pc_loss = 0.8 # photon counting coincidence losses\n",
    "tot_inttime = 2 * 66000 * u.second\n",
    "print(tot_inttime.to(u.hour))"
   ]
  },
  {
   "cell_type": "code",
   "execution_count": 5,
   "metadata": {
    "execution": {
     "iopub.execute_input": "2020-11-03T14:44:31.090341Z",
     "iopub.status.busy": "2020-11-03T14:44:31.089770Z",
     "iopub.status.idle": "2020-11-03T14:44:31.106204Z",
     "shell.execute_reply": "2020-11-03T14:44:31.105589Z"
    }
   },
   "outputs": [
    {
     "data": {
      "text/plain": [
       "(4, 45, 45)"
      ]
     },
     "execution_count": 1,
     "metadata": {},
     "output_type": "execute_result"
    }
   ],
   "source": [
    "hdr = fits.getheader(rdi_coadd_fname)\n",
    "pix_scale = (hdr['PIX_AS'] * u.arcsecond).to(u.mas)\n",
    "rdi_coadd_cube = fits.getdata(rdi_coadd_fname)\n",
    "rdi_coadd_cube.shape"
   ]
  },
  {
   "cell_type": "code",
   "execution_count": 6,
   "metadata": {
    "execution": {
     "iopub.execute_input": "2020-11-03T14:44:31.110236Z",
     "iopub.status.busy": "2020-11-03T14:44:31.109679Z",
     "iopub.status.idle": "2020-11-03T14:44:31.120338Z",
     "shell.execute_reply": "2020-11-03T14:44:31.119753Z"
    }
   },
   "outputs": [
    {
     "name": "stdout",
     "output_type": "stream",
     "text": [
      "4.2000023908478346\n"
     ]
    }
   ],
   "source": [
    "psf_peak_map = fits.getdata(psf_peak_map_fname)\n",
    "psf_peak_map_hdr = fits.getheader(psf_peak_map_fname)\n",
    "pixscale_ratio = hdr['PIX_LD'] / psf_peak_map_hdr['PIXSIZE']\n",
    "print(pixscale_ratio)"
   ]
  },
  {
   "cell_type": "code",
   "execution_count": 7,
   "metadata": {
    "execution": {
     "iopub.execute_input": "2020-11-03T14:44:31.142258Z",
     "iopub.status.busy": "2020-11-03T14:44:31.141703Z",
     "iopub.status.idle": "2020-11-03T14:44:31.404482Z",
     "shell.execute_reply": "2020-11-03T14:44:31.403727Z"
    }
   },
   "outputs": [
    {
     "data": {
      "text/plain": [
       "<matplotlib.colorbar.Colorbar at 0x1a1a324190>"
      ]
     },
     "execution_count": 1,
     "metadata": {},
     "output_type": "execute_result"
    },
    {
     "data": {
      "image/png": "[encoded data removed]",
      "text/plain": [
       "<Figure size 864x720 with 2 Axes>"
      ]
     },
     "metadata": {},
     "output_type": "display_data"
    }
   ],
   "source": [
    "plt.figure(figsize=(12,10))\n",
    "plt.imshow(rdi_coadd_cube[epoch_ind])\n",
    "plt.colorbar()"
   ]
  },
  {
   "cell_type": "code",
   "execution_count": 8,
   "metadata": {
    "execution": {
     "iopub.execute_input": "2020-11-03T14:44:31.429112Z",
     "iopub.status.busy": "2020-11-03T14:44:31.428367Z",
     "iopub.status.idle": "2020-11-03T14:44:31.760473Z",
     "shell.execute_reply": "2020-11-03T14:44:31.759934Z"
    }
   },
   "outputs": [
    {
     "name": "stdout",
     "output_type": "stream",
     "text": [
      "Peak col = 11, peak row = 18\n",
      "Source angular separation 11.70 pixels, 246.74 mas\n",
      "Peak value = 344.0\n",
      "Sum in 3 x 3 box = 1752.57 electron\n"
     ]
    },
    {
     "data": {
      "text/plain": [
       "<matplotlib.colorbar.Colorbar at 0x1a194cc450>"
      ]
     },
     "execution_count": 1,
     "metadata": {},
     "output_type": "execute_result"
    },
    {
     "data": {
      "image/png": "[encoded data removed]",
      "text/plain": [
       "<Figure size 864x288 with 4 Axes>"
      ]
     },
     "metadata": {},
     "output_type": "display_data"
    }
   ],
   "source": [
    "rdi_coadd_img = rdi_coadd_cube[epoch_ind]\n",
    "img_width = rdi_coadd_img.shape[0]\n",
    "phot_box_width = 3\n",
    "\n",
    "peak_row = np.nanargmax(np.ravel(rdi_coadd_img)) // img_width\n",
    "peak_col = np.nanargmax(np.ravel(rdi_coadd_img)) % img_width\n",
    "peak_val = rdi_coadd_img[peak_row, peak_col]\n",
    "src_sep_pix = np.sqrt((peak_col - img_width // 2)**2 + (peak_row - img_width // 2)**2)\n",
    "src_sep_mas = src_sep_pix * pix_scale\n",
    "\n",
    "phot_box_sum = np.sum(rdi_coadd_img[peak_row - phot_box_width//2 : peak_row + phot_box_width // 2 + 1,\n",
    "                                    peak_col - phot_box_width//2 : peak_col + phot_box_width // 2 + 1]) * u.electron\n",
    "\n",
    "print(\"Peak col = {:d}, peak row = {:d}\".format(peak_col, peak_row))\n",
    "print(\"Source angular separation {:.2f} pixels, {:.2f}\".format(src_sep_pix, src_sep_mas))\n",
    "print(\"Peak value = {:.1f}\".format(peak_val))\n",
    "print(\"Sum in {:d} x {:d} box = {:.2f}\".format(phot_box_width, phot_box_width, phot_box_sum))\n",
    "\n",
    "plt.figure(figsize=(12, 4))\n",
    "\n",
    "plt.subplot(121)\n",
    "plot_box_width = 7\n",
    "plt.imshow(rdi_coadd_img[peak_row - plot_box_width//2 : peak_row + plot_box_width // 2 + 1,\n",
    "                         peak_col - plot_box_width//2 : peak_col + plot_box_width // 2 + 1])\n",
    "plt.colorbar()\n",
    "\n",
    "plt.subplot(122)\n",
    "plt.imshow(rdi_coadd_img[peak_row - phot_box_width//2 : peak_row + phot_box_width // 2 + 1,\n",
    "                         peak_col - phot_box_width//2 : peak_col + phot_box_width // 2 + 1])\n",
    "plt.colorbar()"
   ]
  },
  {
   "cell_type": "code",
   "execution_count": 9,
   "metadata": {
    "execution": {
     "iopub.execute_input": "2020-11-03T14:44:31.860120Z",
     "iopub.status.busy": "2020-11-03T14:44:31.844269Z",
     "iopub.status.idle": "2020-11-03T14:44:32.198044Z",
     "shell.execute_reply": "2020-11-03T14:44:32.197449Z"
    }
   },
   "outputs": [
    {
     "name": "stdout",
     "output_type": "stream",
     "text": [
      "B.g. estimate = 18.275 electron\n",
      "B.g. std dev = 25.579 electron\n",
      "B.g.-subtracted aperture sum = 1588.091 electron\n",
      "Peak-to-B.g. SNR estimate = 12.7\n"
     ]
    },
    {
     "data": {
      "text/plain": [
       "<matplotlib.colorbar.Colorbar at 0x1a1b658e50>"
      ]
     },
     "execution_count": 1,
     "metadata": {},
     "output_type": "execute_result"
    },
    {
     "data": {
      "image/png": "[encoded data removed]",
      "text/plain": [
       "<Figure size 864x288 with 4 Axes>"
      ]
     },
     "metadata": {},
     "output_type": "display_data"
    }
   ],
   "source": [
    "bg_samp_col = 14\n",
    "bg_samp_row = 13\n",
    "bg_box_width = 5\n",
    "bg_est = np.median(rdi_coadd_img[bg_samp_row - bg_box_width//2 : bg_samp_row + bg_box_width // 2 + 1,\n",
    "                                 bg_samp_col - bg_box_width//2 : bg_samp_col + bg_box_width // 2 + 1]) * u.electron\n",
    "\n",
    "bg_std = np.std(rdi_coadd_img[bg_samp_row - bg_box_width//2 : bg_samp_row + bg_box_width // 2 + 1,\n",
    "                              bg_samp_col - bg_box_width//2 : bg_samp_col + bg_box_width // 2 + 1]) * u.electron\n",
    "\n",
    "peak_to_bg_SNR = (peak_val * u.electron - bg_est) / bg_std\n",
    "\n",
    "phot_box_sum_bgsub = phot_box_sum - bg_est * (phot_box_width * phot_box_width)\n",
    "\n",
    "print(\"B.g. estimate = {:.3f}\".format(bg_est))\n",
    "print(\"B.g. std dev = {:.3f}\".format(bg_std))\n",
    "print(\"B.g.-subtracted aperture sum = {:.3f}\".format(phot_box_sum_bgsub))\n",
    "print(\"Peak-to-B.g. SNR estimate = {:.1f}\".format(peak_to_bg_SNR))\n",
    "\n",
    "plt.figure(figsize=(12, 4))\n",
    "\n",
    "plt.subplot(121)\n",
    "plot_box_width = 10\n",
    "plt.imshow(rdi_coadd_img[bg_samp_row - plot_box_width//2 : bg_samp_row + plot_box_width // 2 + 1,\n",
    "                         bg_samp_col - plot_box_width//2 : bg_samp_col + plot_box_width // 2 + 1])\n",
    "plt.colorbar()\n",
    "\n",
    "plt.subplot(122)\n",
    "plt.imshow(rdi_coadd_img[bg_samp_row - bg_box_width//2 : bg_samp_row + bg_box_width // 2 + 1,\n",
    "                         bg_samp_col - bg_box_width//2 : bg_samp_col + bg_box_width // 2 + 1])\n",
    "plt.colorbar()"
   ]
  },
  {
   "cell_type": "code",
   "execution_count": 10,
   "metadata": {
    "execution": {
     "iopub.execute_input": "2020-11-03T14:44:32.203761Z",
     "iopub.status.busy": "2020-11-03T14:44:32.203197Z",
     "iopub.status.idle": "2020-11-03T14:44:32.206377Z",
     "shell.execute_reply": "2020-11-03T14:44:32.205805Z"
    }
   },
   "outputs": [
    {
     "name": "stdout",
     "output_type": "stream",
     "text": [
      "Source position in peak map: 54, 83\n",
      "Relative PSF attenuation: 0.99\n"
     ]
    }
   ],
   "source": [
    "peak_map_width = psf_peak_map.shape[0]\n",
    "\n",
    "src_peak_map_col = (peak_map_width // 2 \n",
    "                    + int(np.round((peak_col - img_width // 2)\n",
    "                    * pixscale_ratio)))\n",
    "src_peak_map_row = (peak_map_width // 2\n",
    "                    + int(np.round((peak_row - img_width // 2)\n",
    "                    * pixscale_ratio)))\n",
    "\n",
    "print(\"Source position in peak map: {:}, {:}\".format(src_peak_map_col, src_peak_map_row))\n",
    "\n",
    "psf_atten = psf_peak_map[src_peak_map_row, src_peak_map_col] / np.max(psf_peak_map)\n",
    "print(\"Relative PSF attenuation: {:.2f}\".format(psf_atten))"
   ]
  },
  {
   "cell_type": "code",
   "execution_count": 11,
   "metadata": {
    "execution": {
     "iopub.execute_input": "2020-11-03T14:44:32.213035Z",
     "iopub.status.busy": "2020-11-03T14:44:32.211890Z",
     "iopub.status.idle": "2020-11-03T14:44:32.420502Z",
     "shell.execute_reply": "2020-11-03T14:44:32.421017Z"
    }
   },
   "outputs": [
    {
     "name": "stdout",
     "output_type": "stream",
     "text": [
      "25 25\n",
      "Peak col = 25, peak row = 25\n",
      "Star count rate in 3 x 3 box = 5955766.26 ph / s\n"
     ]
    },
    {
     "data": {
      "text/plain": [
       "<matplotlib.colorbar.Colorbar at 0x1a1a9fefd0>"
      ]
     },
     "execution_count": 1,
     "metadata": {},
     "output_type": "execute_result"
    },
    {
     "data": {
      "image/png": "[encoded data removed]",
      "text/plain": [
       "<Figure size 576x432 with 2 Axes>"
      ]
     },
     "metadata": {},
     "output_type": "display_data"
    }
   ],
   "source": [
    "star_cal_img = fits.getdata(star_cal_fname)\n",
    "star_cal_img_width = star_cal_img.shape[0]\n",
    "\n",
    "star_peak_row = np.nanargmax(np.ravel(star_cal_img)) // star_cal_img_width\n",
    "star_peak_col = np.nanargmax(np.ravel(star_cal_img)) % star_cal_img_width\n",
    "print(star_peak_col, star_peak_row)\n",
    "\n",
    "star_phot_box_sum = (np.sum(star_cal_img[star_peak_row - phot_box_width//2 : star_peak_row + phot_box_width // 2 + 1,\n",
    "                                         star_peak_col - phot_box_width//2 : star_peak_col + phot_box_width // 2 + 1])\n",
    "                     * u.photon / u.second)\n",
    "\n",
    "print(\"Peak col = {:d}, peak row = {:d}\".format(star_peak_col, star_peak_row))\n",
    "print(\"Star count rate in {:d} x {:d} box = {:.2f}\".format(phot_box_width, phot_box_width, star_phot_box_sum))\n",
    "\n",
    "plt.figure(figsize=(8, 6))\n",
    "plt.imshow(star_cal_img)\n",
    "plt.colorbar()"
   ]
  },
  {
   "cell_type": "code",
   "execution_count": 12,
   "metadata": {
    "execution": {
     "iopub.execute_input": "2020-11-03T14:44:32.426848Z",
     "iopub.status.busy": "2020-11-03T14:44:32.426264Z",
     "iopub.status.idle": "2020-11-03T14:44:32.429259Z",
     "shell.execute_reply": "2020-11-03T14:44:32.428709Z"
    }
   },
   "outputs": [
    {
     "name": "stdout",
     "output_type": "stream",
     "text": [
      "Planet PSF photon count rate in 3 x 3 box = 2.02E-02 ph / s\n",
      "Measured planet flux ratio = 3.393E-09\n"
     ]
    }
   ],
   "source": [
    "#planet_phot_box_sum = (phot_box_sum / (det_qe * pc_loss * psf_atten)) / tot_inttime\n",
    "\n",
    "planet_phot_box_sum = (phot_box_sum_bgsub / (det_qe * pc_loss * psf_atten)) / tot_inttime\n",
    "\n",
    "print(\"Planet PSF photon count rate in {:d} x {:d} box = {:.2E}\".format(\n",
    "      phot_box_width, phot_box_width, planet_phot_box_sum))\n",
    "\n",
    "planet_flux_ratio = planet_phot_box_sum / star_phot_box_sum\n",
    "print(\"Measured planet flux ratio = {:.3E}\".format(planet_flux_ratio))"
   ]
  },
  {
   "cell_type": "markdown",
   "metadata": {},
   "source": [
    "## Photutils centroid and photometry "
   ]
  },
  {
   "cell_type": "code",
   "execution_count": 13,
   "metadata": {
    "execution": {
     "iopub.execute_input": "2020-11-03T14:44:32.435641Z",
     "iopub.status.busy": "2020-11-03T14:44:32.434952Z",
     "iopub.status.idle": "2020-11-03T14:44:32.439108Z",
     "shell.execute_reply": "2020-11-03T14:44:32.438039Z"
    }
   },
   "outputs": [
    {
     "name": "stdout",
     "output_type": "stream",
     "text": [
      "25.57939517730279\n"
     ]
    }
   ],
   "source": [
    "cut_width = 11\n",
    "src_cutout = rdi_coadd_img[peak_row - cut_width//2 : peak_row + cut_width // 2 + 1,\n",
    "                           peak_col - cut_width//2 : peak_col + cut_width // 2 + 1]\n",
    "\n",
    "\n",
    "bg_box = rdi_coadd_img[bg_samp_row - bg_box_width//2 : bg_samp_row + bg_box_width // 2 + 1,\n",
    "                       bg_samp_col - bg_box_width//2 : bg_samp_col + bg_box_width // 2 + 1]\n",
    "\n",
    "bg_std = np.std(bg_box)\n",
    "print(bg_std)"
   ]
  },
  {
   "cell_type": "code",
   "execution_count": 14,
   "metadata": {
    "execution": {
     "iopub.execute_input": "2020-11-03T14:44:32.444215Z",
     "iopub.status.busy": "2020-11-03T14:44:32.442691Z",
     "iopub.status.idle": "2020-11-03T14:44:32.448882Z",
     "shell.execute_reply": "2020-11-03T14:44:32.448169Z"
    }
   },
   "outputs": [
    {
     "data": {
      "text/plain": [
       "74.8173175702326"
      ]
     },
     "execution_count": 1,
     "metadata": {},
     "output_type": "execute_result"
    }
   ],
   "source": [
    "np.nanstd(rdi_coadd_img)"
   ]
  },
  {
   "cell_type": "code",
   "execution_count": 15,
   "metadata": {
    "execution": {
     "iopub.execute_input": "2020-11-03T14:44:32.489284Z",
     "iopub.status.busy": "2020-11-03T14:44:32.474358Z",
     "iopub.status.idle": "2020-11-03T14:44:32.782779Z",
     "shell.execute_reply": "2020-11-03T14:44:32.783290Z"
    }
   },
   "outputs": [
    {
     "data": {
      "text/plain": [
       "<matplotlib.colorbar.Colorbar at 0x1a1ab65e90>"
      ]
     },
     "execution_count": 1,
     "metadata": {},
     "output_type": "execute_result"
    },
    {
     "data": {
      "image/png": "[encoded data removed]",
      "text/plain": [
       "<Figure size 864x360 with 4 Axes>"
      ]
     },
     "metadata": {},
     "output_type": "display_data"
    }
   ],
   "source": [
    "plt.figure(figsize=(12,5))\n",
    "plt.subplot(121)\n",
    "plt.imshow(src_cutout)\n",
    "plt.colorbar()\n",
    "plt.subplot(122)\n",
    "plt.imshow(bg_box)\n",
    "plt.colorbar()"
   ]
  },
  {
   "cell_type": "code",
   "execution_count": 16,
   "metadata": {
    "execution": {
     "iopub.execute_input": "2020-11-03T14:44:32.791892Z",
     "iopub.status.busy": "2020-11-03T14:44:32.791318Z",
     "iopub.status.idle": "2020-11-03T14:44:32.934057Z",
     "shell.execute_reply": "2020-11-03T14:44:32.933517Z"
    }
   },
   "outputs": [
    {
     "name": "stderr",
     "output_type": "stream",
     "text": [
      "WARNING: AstropyDeprecationWarning: The fit_2dgaussian function is deprecated and may be removed in a future version. [warnings]\n",
      "WARNING: AstropyDeprecationWarning: The GaussianConst2D class is deprecated and may be removed in a future version. [photutils.centroids.gaussian]\n",
      "WARNING: The fit may be unsuccessful; check fit_info['message'] for more information. [astropy.modeling.fitting]\n"
     ]
    }
   ],
   "source": [
    "result = photutils.centroids.fit_2dgaussian(data = src_cutout,\n",
    "                                            error = np.ones_like(src_cutout) * bg_std)"
   ]
  },
  {
   "cell_type": "code",
   "execution_count": 17,
   "metadata": {
    "execution": {
     "iopub.execute_input": "2020-11-03T14:44:32.938816Z",
     "iopub.status.busy": "2020-11-03T14:44:32.938222Z",
     "iopub.status.idle": "2020-11-03T14:44:32.941431Z",
     "shell.execute_reply": "2020-11-03T14:44:32.940924Z"
    }
   },
   "outputs": [
    {
     "data": {
      "text/plain": [
       "<GaussianConst2D(constant=11.37620668, amplitude=347.74095853, x_mean=5.30374754, y_mean=5.15124714, x_stddev=1.12025473, y_stddev=0.88249277, theta=46.42783851)>"
      ]
     },
     "execution_count": 1,
     "metadata": {},
     "output_type": "execute_result"
    }
   ],
   "source": [
    "result"
   ]
  },
  {
   "cell_type": "code",
   "execution_count": 18,
   "metadata": {
    "execution": {
     "iopub.execute_input": "2020-11-03T14:44:32.945583Z",
     "iopub.status.busy": "2020-11-03T14:44:32.945082Z",
     "iopub.status.idle": "2020-11-03T14:44:32.961850Z",
     "shell.execute_reply": "2020-11-03T14:44:32.961283Z"
    }
   },
   "outputs": [],
   "source": [
    "psf_model = fits.getdata(psf_model_fname)\n",
    "psf_model_shift = scipy.ndimage.shift(psf_model, [0.5, 0.5])\n",
    "psf_model_crop = 11\n",
    "psf_model_crop = psf_model_shift[psf_model.shape[0] // 2 - psf_model_crop//2:psf_model.shape[0] // 2 + psf_model_crop//2 + 1,\n",
    "                                 psf_model.shape[0] // 2 - psf_model_crop//2:psf_model.shape[0] // 2 + psf_model_crop//2 + 1]"
   ]
  },
  {
   "cell_type": "code",
   "execution_count": 19,
   "metadata": {
    "execution": {
     "iopub.execute_input": "2020-11-03T14:44:32.965825Z",
     "iopub.status.busy": "2020-11-03T14:44:32.965053Z",
     "iopub.status.idle": "2020-11-03T14:44:32.968452Z",
     "shell.execute_reply": "2020-11-03T14:44:32.969049Z"
    }
   },
   "outputs": [
    {
     "data": {
      "text/plain": [
       "(11, 11)"
      ]
     },
     "execution_count": 1,
     "metadata": {},
     "output_type": "execute_result"
    }
   ],
   "source": [
    "psf_model_crop.shape"
   ]
  },
  {
   "cell_type": "code",
   "execution_count": 20,
   "metadata": {
    "execution": {
     "iopub.execute_input": "2020-11-03T14:44:32.990435Z",
     "iopub.status.busy": "2020-11-03T14:44:32.987613Z",
     "iopub.status.idle": "2020-11-03T14:44:33.115965Z",
     "shell.execute_reply": "2020-11-03T14:44:33.116454Z"
    }
   },
   "outputs": [
    {
     "data": {
      "text/plain": [
       "<matplotlib.image.AxesImage at 0x1a1a83bad0>"
      ]
     },
     "execution_count": 1,
     "metadata": {},
     "output_type": "execute_result"
    },
    {
     "data": {
      "image/png": "[encoded data removed]",
      "text/plain": [
       "<Figure size 576x576 with 1 Axes>"
      ]
     },
     "metadata": {},
     "output_type": "display_data"
    }
   ],
   "source": [
    "plt.figure(figsize=(8,8))\n",
    "plt.imshow(psf_model_crop[:,:])"
   ]
  },
  {
   "cell_type": "code",
   "execution_count": 21,
   "metadata": {
    "execution": {
     "iopub.execute_input": "2020-11-03T14:44:33.119836Z",
     "iopub.status.busy": "2020-11-03T14:44:33.118786Z",
     "iopub.status.idle": "2020-11-03T14:44:33.123043Z",
     "shell.execute_reply": "2020-11-03T14:44:33.122536Z"
    }
   },
   "outputs": [
    {
     "data": {
      "text/plain": [
       "0.0210804"
      ]
     },
     "execution_count": 1,
     "metadata": {},
     "output_type": "execute_result"
    }
   ],
   "source": [
    "hdr['PIX_AS']"
   ]
  },
  {
   "cell_type": "code",
   "execution_count": 22,
   "metadata": {
    "execution": {
     "iopub.execute_input": "2020-11-03T14:44:33.126576Z",
     "iopub.status.busy": "2020-11-03T14:44:33.125979Z",
     "iopub.status.idle": "2020-11-03T14:44:33.129198Z",
     "shell.execute_reply": "2020-11-03T14:44:33.128690Z"
    }
   },
   "outputs": [
    {
     "data": {
      "text/plain": [
       "0.4200002390847835"
      ]
     },
     "execution_count": 1,
     "metadata": {},
     "output_type": "execute_result"
    }
   ],
   "source": [
    "hdr['PIX_LD']"
   ]
  },
  {
   "cell_type": "code",
   "execution_count": 23,
   "metadata": {
    "execution": {
     "iopub.execute_input": "2020-11-03T14:44:33.133290Z",
     "iopub.status.busy": "2020-11-03T14:44:33.132745Z",
     "iopub.status.idle": "2020-11-03T14:44:33.137592Z",
     "shell.execute_reply": "2020-11-03T14:44:33.137059Z"
    }
   },
   "outputs": [
    {
     "data": {
      "text/plain": [
       "(46, 46)"
      ]
     },
     "execution_count": 1,
     "metadata": {},
     "output_type": "execute_result"
    }
   ],
   "source": [
    "scale_fac = hdr['PIX_LD'] / 0.1\n",
    "src_cutout_rescaled = skimage.transform.rescale(src_cutout, scale = scale_fac)\n",
    "src_cutout_rescaled.shape"
   ]
  },
  {
   "cell_type": "code",
   "execution_count": 24,
   "metadata": {
    "execution": {
     "iopub.execute_input": "2020-11-03T14:44:33.156587Z",
     "iopub.status.busy": "2020-11-03T14:44:33.154629Z",
     "iopub.status.idle": "2020-11-03T14:44:33.486754Z",
     "shell.execute_reply": "2020-11-03T14:44:33.486168Z"
    }
   },
   "outputs": [
    {
     "data": {
      "text/plain": [
       "<matplotlib.colorbar.Colorbar at 0x1a1b4fba10>"
      ]
     },
     "execution_count": 1,
     "metadata": {},
     "output_type": "execute_result"
    },
    {
     "data": {
      "image/png": "[encoded data removed]",
      "text/plain": [
       "<Figure size 864x360 with 4 Axes>"
      ]
     },
     "metadata": {},
     "output_type": "display_data"
    }
   ],
   "source": [
    "plt.figure(figsize=(12,5))\n",
    "plt.subplot(121)\n",
    "plt.imshow(src_cutout)\n",
    "plt.colorbar()\n",
    "plt.subplot(122)\n",
    "plt.imshow(src_cutout_rescaled)\n",
    "plt.colorbar()"
   ]
  },
  {
   "cell_type": "code",
   "execution_count": 25,
   "metadata": {
    "execution": {
     "iopub.execute_input": "2020-11-03T14:44:33.492687Z",
     "iopub.status.busy": "2020-11-03T14:44:33.492083Z",
     "iopub.status.idle": "2020-11-03T14:44:33.494919Z",
     "shell.execute_reply": "2020-11-03T14:44:33.494311Z"
    }
   },
   "outputs": [],
   "source": [
    "#src_crop = src_cutout_rescaled.shape[0] - psf_model_crop.shape[0]\n",
    "src_cutout_rescaled_cropped = src_cutout_rescaled[\n",
    "        src_cutout_rescaled.shape[0] // 2 - psf_model_crop.shape[0] // 2:src_cutout_rescaled.shape[0] // 2 + psf_model_crop.shape[0] // 2 + 1,\n",
    "        src_cutout_rescaled.shape[0] // 2 - psf_model_crop.shape[0] // 2:src_cutout_rescaled.shape[0] // 2 + psf_model_crop.shape[0] // 2 + 1]"
   ]
  },
  {
   "cell_type": "code",
   "execution_count": 26,
   "metadata": {
    "execution": {
     "iopub.execute_input": "2020-11-03T14:44:33.516363Z",
     "iopub.status.busy": "2020-11-03T14:44:33.515727Z",
     "iopub.status.idle": "2020-11-03T14:44:33.624281Z",
     "shell.execute_reply": "2020-11-03T14:44:33.623764Z"
    }
   },
   "outputs": [
    {
     "data": {
      "text/plain": [
       "<matplotlib.image.AxesImage at 0x1a1b9e5790>"
      ]
     },
     "execution_count": 1,
     "metadata": {},
     "output_type": "execute_result"
    },
    {
     "data": {
      "image/png": "[encoded data removed]",
      "text/plain": [
       "<Figure size 432x288 with 1 Axes>"
      ]
     },
     "metadata": {},
     "output_type": "display_data"
    }
   ],
   "source": [
    "plt.figure()\n",
    "plt.imshow(src_cutout_rescaled_cropped)"
   ]
  },
  {
   "cell_type": "code",
   "execution_count": 27,
   "metadata": {
    "execution": {
     "iopub.execute_input": "2020-11-03T14:44:33.627838Z",
     "iopub.status.busy": "2020-11-03T14:44:33.627219Z",
     "iopub.status.idle": "2020-11-03T14:44:33.629847Z",
     "shell.execute_reply": "2020-11-03T14:44:33.630340Z"
    }
   },
   "outputs": [
    {
     "data": {
      "text/plain": [
       "(11, 11)"
      ]
     },
     "execution_count": 1,
     "metadata": {},
     "output_type": "execute_result"
    }
   ],
   "source": [
    "src_cutout_rescaled_cropped.shape"
   ]
  },
  {
   "cell_type": "code",
   "execution_count": 28,
   "metadata": {
    "execution": {
     "iopub.execute_input": "2020-11-03T14:44:33.633711Z",
     "iopub.status.busy": "2020-11-03T14:44:33.633215Z",
     "iopub.status.idle": "2020-11-03T14:44:33.638522Z",
     "shell.execute_reply": "2020-11-03T14:44:33.637972Z"
    }
   },
   "outputs": [],
   "source": [
    "cross_corr_result = skimage.registration.phase_cross_correlation(reference_image = psf_model_crop,\n",
    "                                                                 moving_image = src_cutout_rescaled_cropped,\n",
    "                                                                 upsample_factor = 10)"
   ]
  },
  {
   "cell_type": "code",
   "execution_count": 29,
   "metadata": {
    "execution": {
     "iopub.execute_input": "2020-11-03T14:44:33.642621Z",
     "iopub.status.busy": "2020-11-03T14:44:33.642032Z",
     "iopub.status.idle": "2020-11-03T14:44:33.644732Z",
     "shell.execute_reply": "2020-11-03T14:44:33.645254Z"
    }
   },
   "outputs": [
    {
     "data": {
      "text/plain": [
       "(array([-0.4, -0.4]), 0.10618361622568263, 3.7819438240116157e-19)"
      ]
     },
     "execution_count": 1,
     "metadata": {},
     "output_type": "execute_result"
    }
   ],
   "source": [
    "cross_corr_result"
   ]
  },
  {
   "cell_type": "code",
   "execution_count": 30,
   "metadata": {
    "execution": {
     "iopub.execute_input": "2020-11-03T14:44:33.648920Z",
     "iopub.status.busy": "2020-11-03T14:44:33.648413Z",
     "iopub.status.idle": "2020-11-03T14:44:33.650357Z",
     "shell.execute_reply": "2020-11-03T14:44:33.650867Z"
    }
   },
   "outputs": [],
   "source": [
    "src_y = peak_row - cross_corr_result[0][0] / scale_fac\n",
    "src_x = peak_col - cross_corr_result[0][1] / scale_fac"
   ]
  },
  {
   "cell_type": "code",
   "execution_count": 31,
   "metadata": {
    "execution": {
     "iopub.execute_input": "2020-11-03T14:44:33.654512Z",
     "iopub.status.busy": "2020-11-03T14:44:33.653935Z",
     "iopub.status.idle": "2020-11-03T14:44:33.657061Z",
     "shell.execute_reply": "2020-11-03T14:44:33.656527Z"
    }
   },
   "outputs": [
    {
     "data": {
      "text/plain": [
       "(18, 11)"
      ]
     },
     "execution_count": 1,
     "metadata": {},
     "output_type": "execute_result"
    }
   ],
   "source": [
    "peak_row, peak_col"
   ]
  },
  {
   "cell_type": "code",
   "execution_count": 32,
   "metadata": {
    "execution": {
     "iopub.execute_input": "2020-11-03T14:44:33.660708Z",
     "iopub.status.busy": "2020-11-03T14:44:33.660058Z",
     "iopub.status.idle": "2020-11-03T14:44:33.663375Z",
     "shell.execute_reply": "2020-11-03T14:44:33.662841Z"
    }
   },
   "outputs": [
    {
     "data": {
      "text/plain": [
       "(18.09523804102389, 11.09523804102389)"
      ]
     },
     "execution_count": 1,
     "metadata": {},
     "output_type": "execute_result"
    }
   ],
   "source": [
    "src_y, src_x"
   ]
  },
  {
   "cell_type": "code",
   "execution_count": 33,
   "metadata": {
    "execution": {
     "iopub.execute_input": "2020-11-03T14:44:33.667021Z",
     "iopub.status.busy": "2020-11-03T14:44:33.666523Z",
     "iopub.status.idle": "2020-11-03T14:44:33.669153Z",
     "shell.execute_reply": "2020-11-03T14:44:33.668623Z"
    }
   },
   "outputs": [],
   "source": [
    "src_y_offset = (src_y - img_width // 2) * pix_scale\n",
    "src_x_offset = (src_x - img_width // 2) * pix_scale"
   ]
  },
  {
   "cell_type": "code",
   "execution_count": 34,
   "metadata": {
    "execution": {
     "iopub.execute_input": "2020-11-03T14:44:33.673519Z",
     "iopub.status.busy": "2020-11-03T14:44:33.672877Z",
     "iopub.status.idle": "2020-11-03T14:44:33.676328Z",
     "shell.execute_reply": "2020-11-03T14:44:33.675691Z"
    }
   },
   "outputs": [
    {
     "data": {
      "text/plain": [
       "(<Quantity -82.313944 mas>, <Quantity -229.876744 mas>)"
      ]
     },
     "execution_count": 1,
     "metadata": {},
     "output_type": "execute_result"
    }
   ],
   "source": [
    "src_y_offset.to(u.mas), src_x_offset.to(u.mas)"
   ]
  },
  {
   "cell_type": "code",
   "execution_count": 35,
   "metadata": {
    "execution": {
     "iopub.execute_input": "2020-11-03T14:44:33.680041Z",
     "iopub.status.busy": "2020-11-03T14:44:33.679534Z",
     "iopub.status.idle": "2020-11-03T14:44:33.681401Z",
     "shell.execute_reply": "2020-11-03T14:44:33.681915Z"
    }
   },
   "outputs": [],
   "source": [
    "sigma = (1 / hdr['PIX_LD']) / peak_to_bg_SNR * pix_scale"
   ]
  },
  {
   "cell_type": "code",
   "execution_count": 36,
   "metadata": {
    "execution": {
     "iopub.execute_input": "2020-11-03T14:44:33.686266Z",
     "iopub.status.busy": "2020-11-03T14:44:33.685662Z",
     "iopub.status.idle": "2020-11-03T14:44:33.688246Z",
     "shell.execute_reply": "2020-11-03T14:44:33.688765Z"
    }
   },
   "outputs": [
    {
     "data": {
      "text/latex": [
       "$3.9415515 \\; \\mathrm{mas}$"
      ],
      "text/plain": [
       "<Quantity 3.94155152 mas>"
      ]
     },
     "execution_count": 1,
     "metadata": {},
     "output_type": "execute_result"
    }
   ],
   "source": [
    "sigma"
   ]
  }
 ],
 "metadata": {
  "kernelspec": {
   "display_name": "Python 3",
   "language": "python",
   "name": "python3"
  },
  "language_info": {
   "codemirror_mode": {
    "name": "ipython",
    "version": 3
   },
   "file_extension": ".py",
   "mimetype": "text/x-python",
   "name": "python",
   "nbconvert_exporter": "python",
   "pygments_lexer": "ipython3",
   "version": "3.7.9"
  }
 },
 "nbformat": 4,
 "nbformat_minor": 4
}
