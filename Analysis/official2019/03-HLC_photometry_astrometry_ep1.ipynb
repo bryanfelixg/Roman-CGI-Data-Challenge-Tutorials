{
 "cells": [
  {
   "cell_type": "markdown",
   "metadata": {},
   "source": [
    "## Epoch 1 -- Quicklook photometry, astrometry, and SNR"
   ]
  },
  {
   "cell_type": "code",
   "execution_count": 1,
   "metadata": {
    "execution": {
     "iopub.execute_input": "2020-11-03T14:44:16.046914Z",
     "iopub.status.busy": "2020-11-03T14:44:16.046192Z",
     "iopub.status.idle": "2020-11-03T14:44:18.099366Z",
     "shell.execute_reply": "2020-11-03T14:44:18.098772Z"
    }
   },
   "outputs": [],
   "source": [
    "import numpy as np\n",
    "import scipy.ndimage\n",
    "import skimage.transform\n",
    "import skimage.registration\n",
    "import os\n",
    "import pandas\n",
    "import csv\n",
    "\n",
    "import matplotlib\n",
    "import matplotlib.pyplot as plt\n",
    "matplotlib.rcParams['image.cmap'] = 'inferno'\n",
    "matplotlib.rcParams['font.size'] = 16\n",
    "matplotlib.rcParams['image.origin'] = 'lower'\n",
    "plt.style.use('dark_background')\n",
    "\n",
    "import astropy.units as u\n",
    "import astropy.constants as c\n",
    "import astropy.io.fits as fits\n",
    "import astropy.table\n",
    "import photutils\n",
    "\n",
    "import scipy.signal\n",
    "import scipy.interpolate"
   ]
  },
  {
   "cell_type": "markdown",
   "metadata": {},
   "source": [
    "### File paths"
   ]
  },
  {
   "cell_type": "code",
   "execution_count": 2,
   "metadata": {
    "execution": {
     "iopub.execute_input": "2020-11-03T14:44:18.103718Z",
     "iopub.status.busy": "2020-11-03T14:44:18.103189Z",
     "iopub.status.idle": "2020-11-03T14:44:18.107207Z",
     "shell.execute_reply": "2020-11-03T14:44:18.106626Z"
    }
   },
   "outputs": [],
   "source": [
    "analysis_results_dir = os.path.relpath(\"./results/\")\n",
    "cal_data_dir = os.path.relpath(\"../../Data/official2019/HLC/HLC CAL/\")\n",
    "\n",
    "rdi_coadd_fname = os.path.join(analysis_results_dir, \"HLC_scistar_RDI_rollcomb_seq.fits\")\n",
    "psf_model_fname = os.path.join(analysis_results_dir, 'hlc_centered_psf.fits')\n",
    "\n",
    "star_cal_fname = os.path.join(cal_data_dir, \"HLC_scistar_unocc_PSF_model.fits\")\n",
    "psf_peak_map_fname = os.path.join(cal_data_dir, 'OS6_HLC_PSF_peak_map.fits')"
   ]
  },
  {
   "cell_type": "code",
   "execution_count": 3,
   "metadata": {
    "execution": {
     "iopub.execute_input": "2020-11-03T14:44:18.110802Z",
     "iopub.status.busy": "2020-11-03T14:44:18.110253Z",
     "iopub.status.idle": "2020-11-03T14:44:18.112806Z",
     "shell.execute_reply": "2020-11-03T14:44:18.112227Z"
    }
   },
   "outputs": [],
   "source": [
    "#os.listdir(cal_data_dir)"
   ]
  },
  {
   "cell_type": "markdown",
   "metadata": {},
   "source": [
    "### Misc. observation and data parameters"
   ]
  },
  {
   "cell_type": "code",
   "execution_count": 4,
   "metadata": {
    "execution": {
     "iopub.execute_input": "2020-11-03T14:44:18.117568Z",
     "iopub.status.busy": "2020-11-03T14:44:18.117017Z",
     "iopub.status.idle": "2020-11-03T14:44:18.120123Z",
     "shell.execute_reply": "2020-11-03T14:44:18.119549Z"
    }
   },
   "outputs": [
    {
     "name": "stdout",
     "output_type": "stream",
     "text": [
      "36.666666666666664 h\n"
     ]
    }
   ],
   "source": [
    "epoch_ind = 0\n",
    "\n",
    "det_qe = 0.75 * u.electron / u.photon # effective QE of detector\n",
    "pc_loss = 0.8 # photon counting coincidence losses\n",
    "tot_inttime = 2 * 66000 * u.second\n",
    "print(tot_inttime.to(u.hour))"
   ]
  },
  {
   "cell_type": "code",
   "execution_count": 5,
   "metadata": {
    "execution": {
     "iopub.execute_input": "2020-11-03T14:44:18.124331Z",
     "iopub.status.busy": "2020-11-03T14:44:18.123799Z",
     "iopub.status.idle": "2020-11-03T14:44:18.148163Z",
     "shell.execute_reply": "2020-11-03T14:44:18.147556Z"
    }
   },
   "outputs": [
    {
     "data": {
      "text/plain": [
       "(4, 45, 45)"
      ]
     },
     "execution_count": 1,
     "metadata": {},
     "output_type": "execute_result"
    }
   ],
   "source": [
    "hdr = fits.getheader(rdi_coadd_fname)\n",
    "pix_scale = (hdr['PIX_AS'] * u.arcsecond).to(u.mas)\n",
    "rdi_coadd_cube = fits.getdata(rdi_coadd_fname)\n",
    "img_width = rdi_coadd_cube.shape[-1]\n",
    "rdi_coadd_cube.shape"
   ]
  },
  {
   "cell_type": "code",
   "execution_count": 6,
   "metadata": {
    "execution": {
     "iopub.execute_input": "2020-11-03T14:44:18.152449Z",
     "iopub.status.busy": "2020-11-03T14:44:18.151835Z",
     "iopub.status.idle": "2020-11-03T14:44:18.157728Z",
     "shell.execute_reply": "2020-11-03T14:44:18.157159Z"
    }
   },
   "outputs": [
    {
     "name": "stdout",
     "output_type": "stream",
     "text": [
      "4.2000023908478346\n"
     ]
    }
   ],
   "source": [
    "psf_peak_map = fits.getdata(psf_peak_map_fname)\n",
    "psf_peak_map_hdr = fits.getheader(psf_peak_map_fname)\n",
    "pixscale_ratio = hdr['PIX_LD'] / psf_peak_map_hdr['PIXSIZE']\n",
    "print(pixscale_ratio)"
   ]
  },
  {
   "cell_type": "code",
   "execution_count": 7,
   "metadata": {
    "execution": {
     "iopub.execute_input": "2020-11-03T14:44:18.180304Z",
     "iopub.status.busy": "2020-11-03T14:44:18.179530Z",
     "iopub.status.idle": "2020-11-03T14:44:18.455940Z",
     "shell.execute_reply": "2020-11-03T14:44:18.456423Z"
    }
   },
   "outputs": [
    {
     "data": {
      "text/plain": [
       "<matplotlib.colorbar.Colorbar at 0x1a226ee190>"
      ]
     },
     "execution_count": 1,
     "metadata": {},
     "output_type": "execute_result"
    },
    {
     "data": {
      "image/png": "[encoded data removed]",
      "text/plain": [
       "<Figure size 864x720 with 2 Axes>"
      ]
     },
     "metadata": {},
     "output_type": "display_data"
    }
   ],
   "source": [
    "plt.figure(figsize=(12,10))\n",
    "plt.imshow(rdi_coadd_cube[epoch_ind])\n",
    "plt.colorbar()"
   ]
  },
  {
   "cell_type": "code",
   "execution_count": 8,
   "metadata": {
    "execution": {
     "iopub.execute_input": "2020-11-03T14:44:18.462248Z",
     "iopub.status.busy": "2020-11-03T14:44:18.461735Z",
     "iopub.status.idle": "2020-11-03T14:44:18.466582Z",
     "shell.execute_reply": "2020-11-03T14:44:18.466033Z"
    }
   },
   "outputs": [
    {
     "name": "stdout",
     "output_type": "stream",
     "text": [
      "(45, 45)\n",
      "0.0006340347470915223 0.00063388371031199\n"
     ]
    }
   ],
   "source": [
    "peak_map_width = psf_peak_map.shape[0]\n",
    "\n",
    "peak_map_xs = ((np.arange(peak_map_width) - peak_map_width // 2) \n",
    "               * pix_scale.value / pixscale_ratio)\n",
    "\n",
    "peak_map_interp_func = scipy.interpolate.RegularGridInterpolator(\n",
    "        (peak_map_xs, peak_map_xs), psf_peak_map)\n",
    "\n",
    "data_xs = ((np.arange(img_width) - img_width // 2)\n",
    "           * pix_scale.value)\n",
    "\n",
    "data_YYs, data_XXs = np.meshgrid(data_xs, data_xs, indexing='ij')\n",
    "data_interp_grid = (data_YYs.ravel(), data_XXs.ravel())\n",
    "\n",
    "peak_map_interp_result = peak_map_interp_func(data_interp_grid)\n",
    "peak_map_interp = peak_map_interp_result.reshape(data_XXs.shape)\n",
    "peak_map_interp_norm = peak_map_interp / np.max(peak_map_interp)\n",
    "\n",
    "print(peak_map_interp.shape)\n",
    "print(psf_peak_map.max(), peak_map_interp.max())"
   ]
  },
  {
   "cell_type": "code",
   "execution_count": 9,
   "metadata": {
    "execution": {
     "iopub.execute_input": "2020-11-03T14:44:18.483516Z",
     "iopub.status.busy": "2020-11-03T14:44:18.483020Z",
     "iopub.status.idle": "2020-11-03T14:44:18.851003Z",
     "shell.execute_reply": "2020-11-03T14:44:18.852041Z"
    }
   },
   "outputs": [
    {
     "data": {
      "text/plain": [
       "<matplotlib.colorbar.Colorbar at 0x1a2391e190>"
      ]
     },
     "execution_count": 1,
     "metadata": {},
     "output_type": "execute_result"
    },
    {
     "data": {
      "image/png": "[encoded data removed]",
      "text/plain": [
       "<Figure size 864x360 with 4 Axes>"
      ]
     },
     "metadata": {},
     "output_type": "display_data"
    }
   ],
   "source": [
    "plt.figure(figsize=(12,5))\n",
    "plt.subplot(121)\n",
    "plt.imshow(psf_peak_map)\n",
    "plt.colorbar()\n",
    "plt.subplot(122)\n",
    "plt.imshow(peak_map_interp_norm)\n",
    "plt.colorbar()"
   ]
  },
  {
   "cell_type": "code",
   "execution_count": 10,
   "metadata": {
    "execution": {
     "iopub.execute_input": "2020-11-03T14:44:18.941525Z",
     "iopub.status.busy": "2020-11-03T14:44:18.917084Z",
     "iopub.status.idle": "2020-11-03T14:44:19.222775Z",
     "shell.execute_reply": "2020-11-03T14:44:19.222305Z"
    }
   },
   "outputs": [
    {
     "name": "stdout",
     "output_type": "stream",
     "text": [
      "Peak col = 16, peak row = 27\n",
      "Peak value = 273.1\n"
     ]
    },
    {
     "data": {
      "text/plain": [
       "<matplotlib.colorbar.Colorbar at 0x1a239c6890>"
      ]
     },
     "execution_count": 1,
     "metadata": {},
     "output_type": "execute_result"
    },
    {
     "data": {
      "image/png": "[encoded data removed]",
      "text/plain": [
       "<Figure size 720x288 with 4 Axes>"
      ]
     },
     "metadata": {},
     "output_type": "display_data"
    }
   ],
   "source": [
    "rdi_coadd_img = rdi_coadd_cube[epoch_ind]\n",
    "img_width = rdi_coadd_img.shape[0]\n",
    "phot_box_width = 3\n",
    "\n",
    "XXs, YYs = np.meshgrid(np.arange(img_width), np.arange(img_width))\n",
    "\n",
    "upperleft_quad_mask = ((XXs < img_width // 2) & (YYs > img_width // 2))\n",
    "\n",
    "peak_row = np.nanargmax(np.ravel(rdi_coadd_img * upperleft_quad_mask)) // img_width\n",
    "peak_col = np.nanargmax(np.ravel(rdi_coadd_img * upperleft_quad_mask)) % img_width\n",
    "peak_val = rdi_coadd_img[peak_row, peak_col]\n",
    "\n",
    "print(\"Peak col = {:d}, peak row = {:d}\".format(peak_col, peak_row))\n",
    "print(\"Peak value = {:.1f}\".format(peak_val))\n",
    "\n",
    "plt.figure(figsize=(10, 4))\n",
    "\n",
    "plt.subplot(121)\n",
    "plot_box_width = 7\n",
    "plt.imshow((rdi_coadd_img)[\n",
    "                    peak_row - plot_box_width//2 : peak_row + plot_box_width // 2 + 1,\n",
    "                    peak_col - plot_box_width//2 : peak_col + plot_box_width // 2 + 1])\n",
    "plt.colorbar()\n",
    "\n",
    "plt.subplot(122)\n",
    "plt.imshow(rdi_coadd_img[\n",
    "                    peak_row - phot_box_width//2 : peak_row + phot_box_width // 2 + 1,\n",
    "                    peak_col - phot_box_width//2 : peak_col + phot_box_width // 2 + 1])\n",
    "plt.colorbar()"
   ]
  },
  {
   "cell_type": "code",
   "execution_count": 11,
   "metadata": {
    "execution": {
     "iopub.execute_input": "2020-11-03T14:44:19.226051Z",
     "iopub.status.busy": "2020-11-03T14:44:19.225111Z",
     "iopub.status.idle": "2020-11-03T14:44:19.317956Z",
     "shell.execute_reply": "2020-11-03T14:44:19.317447Z"
    },
    "scrolled": true
   },
   "outputs": [
    {
     "data": {
      "text/plain": [
       "<matplotlib.image.AxesImage at 0x1a2282dd10>"
      ]
     },
     "execution_count": 1,
     "metadata": {},
     "output_type": "execute_result"
    },
    {
     "data": {
      "image/png": "[encoded data removed]",
      "text/plain": [
       "<Figure size 432x288 with 1 Axes>"
      ]
     },
     "metadata": {},
     "output_type": "display_data"
    }
   ],
   "source": [
    "plt.imshow(upperleft_quad_mask * rdi_coadd_img)"
   ]
  },
  {
   "cell_type": "code",
   "execution_count": 12,
   "metadata": {
    "execution": {
     "iopub.execute_input": "2020-11-03T14:44:19.326658Z",
     "iopub.status.busy": "2020-11-03T14:44:19.325998Z",
     "iopub.status.idle": "2020-11-03T14:44:19.609333Z",
     "shell.execute_reply": "2020-11-03T14:44:19.608465Z"
    }
   },
   "outputs": [
    {
     "name": "stdout",
     "output_type": "stream",
     "text": [
      "B.g. estimate = -67.255 electron\n",
      "B.g. std dev = 38.389 electron\n",
      "B.g.-subtracted aperture sum = 1595.109 electron\n",
      "Peak-to-B.g. SNR estimate = 8.9\n"
     ]
    },
    {
     "data": {
      "text/plain": [
       "<matplotlib.colorbar.Colorbar at 0x1a22d6e050>"
      ]
     },
     "execution_count": 1,
     "metadata": {},
     "output_type": "execute_result"
    },
    {
     "data": {
      "image/png": "[encoded data removed]",
      "text/plain": [
       "<Figure size 864x288 with 4 Axes>"
      ]
     },
     "metadata": {},
     "output_type": "display_data"
    }
   ],
   "source": [
    "bg_samp_col = 15\n",
    "bg_samp_row = 22\n",
    "bg_box_width = 5\n",
    "bg_est = np.median(rdi_coadd_img[\n",
    "                 bg_samp_row - bg_box_width//2 : bg_samp_row + bg_box_width // 2 + 1,\n",
    "                 bg_samp_col - bg_box_width//2 : bg_samp_col + bg_box_width // 2 + 1]) * u.electron\n",
    "\n",
    "bg_std = np.std(rdi_coadd_img[\n",
    "                 bg_samp_row - bg_box_width//2 : bg_samp_row + bg_box_width // 2 + 1,\n",
    "                 bg_samp_col - bg_box_width//2 : bg_samp_col + bg_box_width // 2 + 1]) * u.electron\n",
    "\n",
    "peak_to_bg_SNR = (peak_val * u.electron - bg_est) / bg_std\n",
    "\n",
    "phot_box_sum_bgsub = np.sum((rdi_coadd_img - bg_est.value)[\n",
    "          peak_row - phot_box_width//2 : peak_row + phot_box_width // 2 + 1,\n",
    "          peak_col - phot_box_width//2 : peak_col + phot_box_width // 2 + 1]) * u.electron\n",
    "\n",
    "print(\"B.g. estimate = {:.3f}\".format(bg_est))\n",
    "print(\"B.g. std dev = {:.3f}\".format(bg_std))\n",
    "print(\"B.g.-subtracted aperture sum = {:.3f}\".format(phot_box_sum_bgsub))\n",
    "print(\"Peak-to-B.g. SNR estimate = {:.1f}\".format(peak_to_bg_SNR))\n",
    "\n",
    "plt.figure(figsize=(12, 4))\n",
    "\n",
    "plt.subplot(121)\n",
    "plot_box_width = 10\n",
    "plt.imshow(rdi_coadd_img[bg_samp_row - plot_box_width//2 : bg_samp_row + plot_box_width // 2 + 1,\n",
    "                         bg_samp_col - plot_box_width//2 : bg_samp_col + plot_box_width // 2 + 1])\n",
    "plt.colorbar()\n",
    "\n",
    "plt.subplot(122)\n",
    "plt.imshow(rdi_coadd_img[bg_samp_row - bg_box_width//2 : bg_samp_row + bg_box_width // 2 + 1,\n",
    "                         bg_samp_col - bg_box_width//2 : bg_samp_col + bg_box_width // 2 + 1])\n",
    "plt.colorbar()"
   ]
  },
  {
   "cell_type": "code",
   "execution_count": 13,
   "metadata": {
    "execution": {
     "iopub.execute_input": "2020-11-03T14:44:19.625570Z",
     "iopub.status.busy": "2020-11-03T14:44:19.625099Z",
     "iopub.status.idle": "2020-11-03T14:44:19.778518Z",
     "shell.execute_reply": "2020-11-03T14:44:19.778056Z"
    }
   },
   "outputs": [
    {
     "data": {
      "text/plain": [
       "<matplotlib.colorbar.Colorbar at 0x1a2318ec10>"
      ]
     },
     "execution_count": 1,
     "metadata": {},
     "output_type": "execute_result"
    },
    {
     "data": {
      "image/png": "[encoded data removed]",
      "text/plain": [
       "<Figure size 432x288 with 2 Axes>"
      ]
     },
     "metadata": {},
     "output_type": "display_data"
    }
   ],
   "source": [
    "plt.imshow(((rdi_coadd_img - bg_est.value) / peak_map_interp_norm)[\n",
    "        peak_row - phot_box_width//2 : peak_row + phot_box_width // 2 + 1,\n",
    "        peak_col - phot_box_width//2 : peak_col + phot_box_width // 2 + 1])\n",
    "plt.colorbar()"
   ]
  },
  {
   "cell_type": "code",
   "execution_count": 14,
   "metadata": {
    "execution": {
     "iopub.execute_input": "2020-11-03T14:44:19.783392Z",
     "iopub.status.busy": "2020-11-03T14:44:19.782881Z",
     "iopub.status.idle": "2020-11-03T14:44:19.785323Z",
     "shell.execute_reply": "2020-11-03T14:44:19.785757Z"
    }
   },
   "outputs": [
    {
     "name": "stdout",
     "output_type": "stream",
     "text": [
      "Source position in peak map: 75, 121\n",
      "Relative PSF attenuation: 0.70\n"
     ]
    }
   ],
   "source": [
    "src_peak_map_col = (peak_map_width // 2 \n",
    "                    + int(np.round((peak_col - img_width // 2)\n",
    "                    * pixscale_ratio)))\n",
    "src_peak_map_row = (peak_map_width // 2\n",
    "                    + int(np.round((peak_row - img_width // 2)\n",
    "                    * pixscale_ratio)))\n",
    "\n",
    "print(\"Source position in peak map: {:}, {:}\".format(src_peak_map_col, src_peak_map_row))\n",
    "\n",
    "psf_atten = psf_peak_map[src_peak_map_row, src_peak_map_col] / np.max(psf_peak_map)\n",
    "print(\"Relative PSF attenuation: {:.2f}\".format(psf_atten))"
   ]
  },
  {
   "cell_type": "code",
   "execution_count": 15,
   "metadata": {
    "execution": {
     "iopub.execute_input": "2020-11-03T14:44:19.791301Z",
     "iopub.status.busy": "2020-11-03T14:44:19.790650Z",
     "iopub.status.idle": "2020-11-03T14:44:20.018942Z",
     "shell.execute_reply": "2020-11-03T14:44:20.019488Z"
    }
   },
   "outputs": [
    {
     "name": "stdout",
     "output_type": "stream",
     "text": [
      "25 25\n",
      "Peak col = 25, peak row = 25\n",
      "Star count rate in 3 x 3 box = 5955766.26 ph / s\n"
     ]
    },
    {
     "data": {
      "text/plain": [
       "<matplotlib.colorbar.Colorbar at 0x1a234534d0>"
      ]
     },
     "execution_count": 1,
     "metadata": {},
     "output_type": "execute_result"
    },
    {
     "data": {
      "image/png": "[encoded data removed]",
      "text/plain": [
       "<Figure size 576x432 with 2 Axes>"
      ]
     },
     "metadata": {},
     "output_type": "display_data"
    }
   ],
   "source": [
    "star_cal_img = fits.getdata(star_cal_fname)\n",
    "star_cal_img_width = star_cal_img.shape[0]\n",
    "\n",
    "star_peak_row = np.nanargmax(np.ravel(star_cal_img)) // star_cal_img_width\n",
    "star_peak_col = np.nanargmax(np.ravel(star_cal_img)) % star_cal_img_width\n",
    "print(star_peak_col, star_peak_row)\n",
    "\n",
    "star_phot_box_sum = (np.sum(star_cal_img[star_peak_row - phot_box_width//2 : star_peak_row + phot_box_width // 2 + 1,\n",
    "                                         star_peak_col - phot_box_width//2 : star_peak_col + phot_box_width // 2 + 1])\n",
    "                     * u.photon / u.second)\n",
    "\n",
    "print(\"Peak col = {:d}, peak row = {:d}\".format(star_peak_col, star_peak_row))\n",
    "print(\"Star count rate in {:d} x {:d} box = {:.2f}\".format(phot_box_width, phot_box_width, star_phot_box_sum))\n",
    "\n",
    "plt.figure(figsize=(8,6))\n",
    "plt.imshow(star_cal_img)\n",
    "plt.colorbar()"
   ]
  },
  {
   "cell_type": "code",
   "execution_count": 16,
   "metadata": {
    "execution": {
     "iopub.execute_input": "2020-11-03T14:44:20.024838Z",
     "iopub.status.busy": "2020-11-03T14:44:20.023952Z",
     "iopub.status.idle": "2020-11-03T14:44:20.028345Z",
     "shell.execute_reply": "2020-11-03T14:44:20.027656Z"
    }
   },
   "outputs": [
    {
     "name": "stdout",
     "output_type": "stream",
     "text": [
      "Planet PSF photon count rate in 3 x 3 box = 2.87E-02 ph / s\n",
      "Measured planet flux ratio = 4.822E-09\n"
     ]
    }
   ],
   "source": [
    "planet_phot_box_sum = (phot_box_sum_bgsub / (det_qe * pc_loss) / psf_atten) / tot_inttime\n",
    "print(\"Planet PSF photon count rate in {:d} x {:d} box = {:.2E}\".format(\n",
    "      phot_box_width, phot_box_width, planet_phot_box_sum))\n",
    "\n",
    "planet_flux_ratio = planet_phot_box_sum / star_phot_box_sum\n",
    "print(\"Measured planet flux ratio = {:.3E}\".format(planet_flux_ratio))"
   ]
  },
  {
   "cell_type": "markdown",
   "metadata": {},
   "source": [
    "## Photutils centroid and photometry "
   ]
  },
  {
   "cell_type": "code",
   "execution_count": 17,
   "metadata": {
    "execution": {
     "iopub.execute_input": "2020-11-03T14:44:20.034472Z",
     "iopub.status.busy": "2020-11-03T14:44:20.033685Z",
     "iopub.status.idle": "2020-11-03T14:44:20.036450Z",
     "shell.execute_reply": "2020-11-03T14:44:20.036942Z"
    }
   },
   "outputs": [
    {
     "name": "stdout",
     "output_type": "stream",
     "text": [
      "38.389162025449\n"
     ]
    }
   ],
   "source": [
    "cut_width = 5\n",
    "#src_cutout = ((rdi_coadd_img - bg_est.value) / peak_map_interp_norm)[\n",
    "\n",
    "src_cutout = (rdi_coadd_img - bg_est.value)[\n",
    "        peak_row - cut_width//2 : peak_row + cut_width // 2 + 1,\n",
    "        peak_col - cut_width//2 : peak_col + cut_width // 2 + 1]\n",
    "\n",
    "#src_cutout[src_cutout < 0] = 0\n",
    "\n",
    "bg_box = rdi_coadd_img[bg_samp_row - bg_box_width//2 : bg_samp_row + bg_box_width // 2 + 1,\n",
    "                       bg_samp_col - bg_box_width//2 : bg_samp_col + bg_box_width // 2 + 1]\n",
    "\n",
    "bg_std = np.std(bg_box)\n",
    "print(bg_std)"
   ]
  },
  {
   "cell_type": "code",
   "execution_count": 18,
   "metadata": {
    "execution": {
     "iopub.execute_input": "2020-11-03T14:44:20.041072Z",
     "iopub.status.busy": "2020-11-03T14:44:20.040371Z",
     "iopub.status.idle": "2020-11-03T14:44:20.044333Z",
     "shell.execute_reply": "2020-11-03T14:44:20.044823Z"
    }
   },
   "outputs": [
    {
     "data": {
      "text/plain": [
       "78.9769138495225"
      ]
     },
     "execution_count": 1,
     "metadata": {},
     "output_type": "execute_result"
    }
   ],
   "source": [
    "np.nanstd(rdi_coadd_img)"
   ]
  },
  {
   "cell_type": "code",
   "execution_count": 19,
   "metadata": {
    "execution": {
     "iopub.execute_input": "2020-11-03T14:44:20.065207Z",
     "iopub.status.busy": "2020-11-03T14:44:20.048245Z",
     "iopub.status.idle": "2020-11-03T14:44:20.434895Z",
     "shell.execute_reply": "2020-11-03T14:44:20.434159Z"
    }
   },
   "outputs": [
    {
     "data": {
      "text/plain": [
       "<matplotlib.colorbar.Colorbar at 0x1a23c82090>"
      ]
     },
     "execution_count": 1,
     "metadata": {},
     "output_type": "execute_result"
    },
    {
     "data": {
      "image/png": "[encoded data removed]",
      "text/plain": [
       "<Figure size 864x360 with 4 Axes>"
      ]
     },
     "metadata": {},
     "output_type": "display_data"
    }
   ],
   "source": [
    "plt.figure(figsize=(12,5))\n",
    "plt.subplot(121)\n",
    "plt.imshow(src_cutout)\n",
    "plt.colorbar()\n",
    "plt.subplot(122)\n",
    "plt.imshow(bg_box)\n",
    "plt.colorbar()"
   ]
  },
  {
   "cell_type": "code",
   "execution_count": 20,
   "metadata": {
    "execution": {
     "iopub.execute_input": "2020-11-03T14:44:20.445184Z",
     "iopub.status.busy": "2020-11-03T14:44:20.444272Z",
     "iopub.status.idle": "2020-11-03T14:44:20.614077Z",
     "shell.execute_reply": "2020-11-03T14:44:20.614562Z"
    }
   },
   "outputs": [
    {
     "name": "stderr",
     "output_type": "stream",
     "text": [
      "WARNING: AstropyDeprecationWarning: The fit_2dgaussian function is deprecated and may be removed in a future version. [warnings]\n",
      "WARNING: AstropyDeprecationWarning: The GaussianConst2D class is deprecated and may be removed in a future version. [photutils.centroids.gaussian]\n",
      "WARNING: The fit may be unsuccessful; check fit_info['message'] for more information. [astropy.modeling.fitting]\n"
     ]
    }
   ],
   "source": [
    "result = photutils.centroids.fit_2dgaussian(data = src_cutout,\n",
    "                                            error = np.ones_like(src_cutout) * bg_std)"
   ]
  },
  {
   "cell_type": "code",
   "execution_count": 21,
   "metadata": {
    "execution": {
     "iopub.execute_input": "2020-11-03T14:44:20.619225Z",
     "iopub.status.busy": "2020-11-03T14:44:20.618701Z",
     "iopub.status.idle": "2020-11-03T14:44:20.622687Z",
     "shell.execute_reply": "2020-11-03T14:44:20.622225Z"
    }
   },
   "outputs": [
    {
     "data": {
      "text/plain": [
       "<GaussianConst2D(constant=-47.97306812, amplitude=392.5727075, x_mean=1.77994919, y_mean=2.23619754, x_stddev=0.91111348, y_stddev=1.31726493, theta=43.02413843)>"
      ]
     },
     "execution_count": 1,
     "metadata": {},
     "output_type": "execute_result"
    }
   ],
   "source": [
    "result"
   ]
  },
  {
   "cell_type": "code",
   "execution_count": 22,
   "metadata": {
    "execution": {
     "iopub.execute_input": "2020-11-03T14:44:20.627274Z",
     "iopub.status.busy": "2020-11-03T14:44:20.626798Z",
     "iopub.status.idle": "2020-11-03T14:44:20.644403Z",
     "shell.execute_reply": "2020-11-03T14:44:20.643655Z"
    }
   },
   "outputs": [],
   "source": [
    "psf_model = fits.getdata(psf_model_fname)\n",
    "psf_model_shift = scipy.ndimage.shift(psf_model, [0.5, 0.5])\n",
    "psf_model_crop = 11\n",
    "psf_model_crop = psf_model_shift[psf_model.shape[0] // 2 - psf_model_crop//2:psf_model.shape[0] // 2 + psf_model_crop//2 + 1,\n",
    "                                 psf_model.shape[0] // 2 - psf_model_crop//2:psf_model.shape[0] // 2 + psf_model_crop//2 + 1]"
   ]
  },
  {
   "cell_type": "code",
   "execution_count": 23,
   "metadata": {
    "execution": {
     "iopub.execute_input": "2020-11-03T14:44:20.648635Z",
     "iopub.status.busy": "2020-11-03T14:44:20.648109Z",
     "iopub.status.idle": "2020-11-03T14:44:20.650498Z",
     "shell.execute_reply": "2020-11-03T14:44:20.650931Z"
    }
   },
   "outputs": [
    {
     "data": {
      "text/plain": [
       "(11, 11)"
      ]
     },
     "execution_count": 1,
     "metadata": {},
     "output_type": "execute_result"
    }
   ],
   "source": [
    "psf_model_crop.shape"
   ]
  },
  {
   "cell_type": "code",
   "execution_count": 24,
   "metadata": {
    "execution": {
     "iopub.execute_input": "2020-11-03T14:44:20.668958Z",
     "iopub.status.busy": "2020-11-03T14:44:20.668098Z",
     "iopub.status.idle": "2020-11-03T14:44:20.795827Z",
     "shell.execute_reply": "2020-11-03T14:44:20.795354Z"
    }
   },
   "outputs": [
    {
     "data": {
      "text/plain": [
       "<matplotlib.image.AxesImage at 0x1a22e23f50>"
      ]
     },
     "execution_count": 1,
     "metadata": {},
     "output_type": "execute_result"
    },
    {
     "data": {
      "image/png": "[encoded data removed]",
      "text/plain": [
       "<Figure size 576x576 with 1 Axes>"
      ]
     },
     "metadata": {},
     "output_type": "display_data"
    }
   ],
   "source": [
    "plt.figure(figsize=(8,8))\n",
    "plt.imshow(psf_model_crop[:,:])"
   ]
  },
  {
   "cell_type": "code",
   "execution_count": 25,
   "metadata": {
    "execution": {
     "iopub.execute_input": "2020-11-03T14:44:20.799674Z",
     "iopub.status.busy": "2020-11-03T14:44:20.799213Z",
     "iopub.status.idle": "2020-11-03T14:44:20.805078Z",
     "shell.execute_reply": "2020-11-03T14:44:20.805517Z"
    }
   },
   "outputs": [
    {
     "name": "stdout",
     "output_type": "stream",
     "text": [
      "0.0210804\n",
      "0.4200002390847835\n",
      "(21, 21)\n"
     ]
    }
   ],
   "source": [
    "hdr = fits.getheader(rdi_coadd_fname)\n",
    "print(hdr['PIX_AS'])\n",
    "print(hdr['PIX_LD'])\n",
    "\n",
    "scale_fac = hdr['PIX_LD'] / 0.1\n",
    "src_cutout_rescaled = skimage.transform.rescale(src_cutout, scale = scale_fac)\n",
    "print(src_cutout_rescaled.shape)"
   ]
  },
  {
   "cell_type": "code",
   "execution_count": 26,
   "metadata": {
    "execution": {
     "iopub.execute_input": "2020-11-03T14:44:20.825307Z",
     "iopub.status.busy": "2020-11-03T14:44:20.819727Z",
     "iopub.status.idle": "2020-11-03T14:44:21.209972Z",
     "shell.execute_reply": "2020-11-03T14:44:21.209437Z"
    }
   },
   "outputs": [
    {
     "data": {
      "text/plain": [
       "<matplotlib.colorbar.Colorbar at 0x1a2452c050>"
      ]
     },
     "execution_count": 1,
     "metadata": {},
     "output_type": "execute_result"
    },
    {
     "data": {
      "image/png": "[encoded data removed]",
      "text/plain": [
       "<Figure size 864x360 with 4 Axes>"
      ]
     },
     "metadata": {},
     "output_type": "display_data"
    }
   ],
   "source": [
    "plt.figure(figsize=(12,5))\n",
    "plt.subplot(121)\n",
    "plt.imshow(src_cutout)\n",
    "plt.colorbar()\n",
    "plt.subplot(122)\n",
    "plt.imshow(src_cutout_rescaled)\n",
    "plt.colorbar()"
   ]
  },
  {
   "cell_type": "code",
   "execution_count": 27,
   "metadata": {
    "execution": {
     "iopub.execute_input": "2020-11-03T14:44:21.214830Z",
     "iopub.status.busy": "2020-11-03T14:44:21.214283Z",
     "iopub.status.idle": "2020-11-03T14:44:21.216999Z",
     "shell.execute_reply": "2020-11-03T14:44:21.218038Z"
    }
   },
   "outputs": [],
   "source": [
    "#src_crop = src_cutout_rescaled.shape[0] - psf_model_crop.shape[0]\n",
    "src_cutout_rescaled_cropped = src_cutout_rescaled[\n",
    "        src_cutout_rescaled.shape[0] // 2 - psf_model_crop.shape[0] // 2:src_cutout_rescaled.shape[0] // 2 + psf_model_crop.shape[0] // 2 + 1,\n",
    "        src_cutout_rescaled.shape[0] // 2 - psf_model_crop.shape[0] // 2:src_cutout_rescaled.shape[0] // 2 + psf_model_crop.shape[0] // 2 + 1]"
   ]
  },
  {
   "cell_type": "code",
   "execution_count": 28,
   "metadata": {
    "execution": {
     "iopub.execute_input": "2020-11-03T14:44:21.236868Z",
     "iopub.status.busy": "2020-11-03T14:44:21.236130Z",
     "iopub.status.idle": "2020-11-03T14:44:21.331386Z",
     "shell.execute_reply": "2020-11-03T14:44:21.332060Z"
    }
   },
   "outputs": [
    {
     "data": {
      "text/plain": [
       "<matplotlib.image.AxesImage at 0x1a237d60d0>"
      ]
     },
     "execution_count": 1,
     "metadata": {},
     "output_type": "execute_result"
    },
    {
     "data": {
      "image/png": "[encoded data removed]",
      "text/plain": [
       "<Figure size 432x288 with 1 Axes>"
      ]
     },
     "metadata": {},
     "output_type": "display_data"
    }
   ],
   "source": [
    "plt.figure()\n",
    "plt.imshow(src_cutout_rescaled_cropped)"
   ]
  },
  {
   "cell_type": "code",
   "execution_count": 29,
   "metadata": {
    "execution": {
     "iopub.execute_input": "2020-11-03T14:44:21.336109Z",
     "iopub.status.busy": "2020-11-03T14:44:21.335573Z",
     "iopub.status.idle": "2020-11-03T14:44:21.339398Z",
     "shell.execute_reply": "2020-11-03T14:44:21.338200Z"
    }
   },
   "outputs": [
    {
     "data": {
      "text/plain": [
       "(11, 11)"
      ]
     },
     "execution_count": 1,
     "metadata": {},
     "output_type": "execute_result"
    }
   ],
   "source": [
    "src_cutout_rescaled_cropped.shape"
   ]
  },
  {
   "cell_type": "code",
   "execution_count": 30,
   "metadata": {
    "execution": {
     "iopub.execute_input": "2020-11-03T14:44:21.343614Z",
     "iopub.status.busy": "2020-11-03T14:44:21.342751Z",
     "iopub.status.idle": "2020-11-03T14:44:21.349110Z",
     "shell.execute_reply": "2020-11-03T14:44:21.348532Z"
    }
   },
   "outputs": [],
   "source": [
    "cross_corr_result = skimage.registration.phase_cross_correlation(reference_image = psf_model_crop,\n",
    "                                                                 moving_image = src_cutout_rescaled_cropped,\n",
    "                                                                 upsample_factor = 10)"
   ]
  },
  {
   "cell_type": "code",
   "execution_count": 31,
   "metadata": {
    "execution": {
     "iopub.execute_input": "2020-11-03T14:44:21.352303Z",
     "iopub.status.busy": "2020-11-03T14:44:21.351850Z",
     "iopub.status.idle": "2020-11-03T14:44:21.354446Z",
     "shell.execute_reply": "2020-11-03T14:44:21.353997Z"
    }
   },
   "outputs": [],
   "source": [
    "#help(skimage.registration.phase_cross_correlation)"
   ]
  },
  {
   "cell_type": "code",
   "execution_count": 32,
   "metadata": {
    "execution": {
     "iopub.execute_input": "2020-11-03T14:44:21.358460Z",
     "iopub.status.busy": "2020-11-03T14:44:21.357753Z",
     "iopub.status.idle": "2020-11-03T14:44:21.361034Z",
     "shell.execute_reply": "2020-11-03T14:44:21.360582Z"
    }
   },
   "outputs": [
    {
     "data": {
      "text/plain": [
       "(array([-0.9,  0.8]), 0.16849394234910497, 9.945767370935271e-19)"
      ]
     },
     "execution_count": 1,
     "metadata": {},
     "output_type": "execute_result"
    }
   ],
   "source": [
    "cross_corr_result"
   ]
  },
  {
   "cell_type": "code",
   "execution_count": 33,
   "metadata": {
    "execution": {
     "iopub.execute_input": "2020-11-03T14:44:21.365561Z",
     "iopub.status.busy": "2020-11-03T14:44:21.365080Z",
     "iopub.status.idle": "2020-11-03T14:44:21.367337Z",
     "shell.execute_reply": "2020-11-03T14:44:21.366891Z"
    }
   },
   "outputs": [],
   "source": [
    "src_y = peak_row - cross_corr_result[0][0] / scale_fac\n",
    "src_x = peak_col - cross_corr_result[0][1] / scale_fac"
   ]
  },
  {
   "cell_type": "code",
   "execution_count": 34,
   "metadata": {
    "execution": {
     "iopub.execute_input": "2020-11-03T14:44:21.370950Z",
     "iopub.status.busy": "2020-11-03T14:44:21.370402Z",
     "iopub.status.idle": "2020-11-03T14:44:21.373412Z",
     "shell.execute_reply": "2020-11-03T14:44:21.372966Z"
    }
   },
   "outputs": [
    {
     "data": {
      "text/plain": [
       "(27, 16)"
      ]
     },
     "execution_count": 1,
     "metadata": {},
     "output_type": "execute_result"
    }
   ],
   "source": [
    "peak_row, peak_col"
   ]
  },
  {
   "cell_type": "code",
   "execution_count": 35,
   "metadata": {
    "execution": {
     "iopub.execute_input": "2020-11-03T14:44:21.377398Z",
     "iopub.status.busy": "2020-11-03T14:44:21.376747Z",
     "iopub.status.idle": "2020-11-03T14:44:21.379912Z",
     "shell.execute_reply": "2020-11-03T14:44:21.379458Z"
    }
   },
   "outputs": [
    {
     "data": {
      "text/plain": [
       "(27.214285592303753, 15.809523917952221)"
      ]
     },
     "execution_count": 1,
     "metadata": {},
     "output_type": "execute_result"
    }
   ],
   "source": [
    "src_y, src_x"
   ]
  },
  {
   "cell_type": "code",
   "execution_count": 36,
   "metadata": {
    "execution": {
     "iopub.execute_input": "2020-11-03T14:44:21.384120Z",
     "iopub.status.busy": "2020-11-03T14:44:21.383524Z",
     "iopub.status.idle": "2020-11-03T14:44:21.386117Z",
     "shell.execute_reply": "2020-11-03T14:44:21.386580Z"
    }
   },
   "outputs": [],
   "source": [
    "pix_scale = (hdr['PIX_AS'] * u.arcsecond).to(u.mas)\n",
    "src_y_offset = (src_y - img_width // 2) * pix_scale\n",
    "src_x_offset = (src_x - img_width // 2) * pix_scale"
   ]
  },
  {
   "cell_type": "code",
   "execution_count": 37,
   "metadata": {
    "execution": {
     "iopub.execute_input": "2020-11-03T14:44:21.390888Z",
     "iopub.status.busy": "2020-11-03T14:44:21.390308Z",
     "iopub.status.idle": "2020-11-03T14:44:21.393331Z",
     "shell.execute_reply": "2020-11-03T14:44:21.393845Z"
    }
   },
   "outputs": [
    {
     "data": {
      "text/plain": [
       "(<Quantity 109.919226 mas>, <Quantity -130.497712 mas>)"
      ]
     },
     "execution_count": 1,
     "metadata": {},
     "output_type": "execute_result"
    }
   ],
   "source": [
    "src_y_offset.to(u.mas), src_x_offset.to(u.mas)"
   ]
  },
  {
   "cell_type": "code",
   "execution_count": 38,
   "metadata": {
    "execution": {
     "iopub.execute_input": "2020-11-03T14:44:21.397441Z",
     "iopub.status.busy": "2020-11-03T14:44:21.396976Z",
     "iopub.status.idle": "2020-11-03T14:44:21.399505Z",
     "shell.execute_reply": "2020-11-03T14:44:21.399000Z"
    }
   },
   "outputs": [],
   "source": [
    "sigma = (1 / hdr['PIX_LD']) / peak_to_bg_SNR * pix_scale"
   ]
  },
  {
   "cell_type": "code",
   "execution_count": 39,
   "metadata": {
    "execution": {
     "iopub.execute_input": "2020-11-03T14:44:21.404219Z",
     "iopub.status.busy": "2020-11-03T14:44:21.403400Z",
     "iopub.status.idle": "2020-11-03T14:44:21.406733Z",
     "shell.execute_reply": "2020-11-03T14:44:21.407315Z"
    }
   },
   "outputs": [
    {
     "data": {
      "text/latex": [
       "$5.6611791 \\; \\mathrm{mas}$"
      ],
      "text/plain": [
       "<Quantity 5.66117908 mas>"
      ]
     },
     "execution_count": 1,
     "metadata": {},
     "output_type": "execute_result"
    }
   ],
   "source": [
    "sigma"
   ]
  }
 ],
 "metadata": {
  "kernelspec": {
   "display_name": "Python 3",
   "language": "python",
   "name": "python3"
  },
  "language_info": {
   "codemirror_mode": {
    "name": "ipython",
    "version": 3
   },
   "file_extension": ".py",
   "mimetype": "text/x-python",
   "name": "python",
   "nbconvert_exporter": "python",
   "pygments_lexer": "ipython3",
   "version": "3.7.9"
  }
 },
 "nbformat": 4,
 "nbformat_minor": 4
}
