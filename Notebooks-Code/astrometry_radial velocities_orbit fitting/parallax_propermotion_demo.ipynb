{
 "cells": [
  {
   "cell_type": "markdown",
   "metadata": {},
   "source": [
    "# Demo calculation of parallax and proper motion offset for a nearby star, making use of the Astropy libraries"
   ]
  },
  {
   "cell_type": "code",
   "execution_count": 1,
   "metadata": {},
   "outputs": [],
   "source": [
    "import numpy as np\n",
    "import matplotlib\n",
    "import matplotlib.pyplot as plt\n",
    "\n",
    "import astropy.units as u\n",
    "import astropy.constants as c\n",
    "import astropy.time\n",
    "\n",
    "import astroquery.simbad # To install astroquery: $ conda install -c astropy astroquery"
   ]
  },
  {
   "cell_type": "markdown",
   "metadata": {},
   "source": [
    "#### Plotting cosmetics"
   ]
  },
  {
   "cell_type": "code",
   "execution_count": 2,
   "metadata": {},
   "outputs": [],
   "source": [
    "matplotlib.rcParams['axes.linewidth'] = 2\n",
    "matplotlib.rcParams['lines.linewidth'] = 3\n",
    "matplotlib.rcParams['font.size'] = 20\n",
    "#plt.style.use('dark_background')\n",
    "\n",
    "%matplotlib inline"
   ]
  },
  {
   "cell_type": "markdown",
   "metadata": {},
   "source": [
    "### Set star name and query SIMBAD database (requires internet connection)"
   ]
  },
  {
   "cell_type": "code",
   "execution_count": 3,
   "metadata": {},
   "outputs": [],
   "source": [
    "star_name = \"55 Cnc\"\n",
    "\n",
    "customSimbad = astroquery.simbad.Simbad()\n",
    "customSimbad.add_votable_fields('sptype', 'flux(V)', 'pmra', 'pmdec', 'plx')\n",
    "simbad_table = customSimbad.query_object(star_name)"
   ]
  },
  {
   "cell_type": "markdown",
   "metadata": {},
   "source": [
    "### Get star's proper motion and parallax"
   ]
  },
  {
   "cell_type": "code",
   "execution_count": 4,
   "metadata": {},
   "outputs": [
    {
     "name": "stdout",
     "output_type": "stream",
     "text": [
      "-485.872 mas / yr -233.651 mas / yr 79.4274 mas\n"
     ]
    }
   ],
   "source": [
    "pmra = simbad_table['PMRA'][0] * u.mas / u.yr\n",
    "pmdec = simbad_table['PMDEC'][0] * u.mas / u.yr\n",
    "plx = simbad_table['PLX_VALUE'][0] * u.mas\n",
    "print(pmra, pmdec, plx)"
   ]
  },
  {
   "cell_type": "markdown",
   "metadata": {},
   "source": [
    "### Get star's coordinates"
   ]
  },
  {
   "cell_type": "code",
   "execution_count": 5,
   "metadata": {},
   "outputs": [
    {
     "name": "stdout",
     "output_type": "stream",
     "text": [
      "08h52m35.8113s +28d19m50.9569s\n"
     ]
    }
   ],
   "source": [
    "coord_j2000 = astropy.coordinates.SkyCoord.from_name(star_name)\n",
    "print(coord_j2000.to_string('hmsdms'))"
   ]
  },
  {
   "cell_type": "markdown",
   "metadata": {},
   "source": [
    "### Set time of first epoch and J2000 reference epoch"
   ]
  },
  {
   "cell_type": "code",
   "execution_count": 6,
   "metadata": {},
   "outputs": [],
   "source": [
    "T_epoch1 = astropy.time.Time('2020-04-01T00:00:00', format='isot', scale='utc')\n",
    "T_j2000 = astropy.time.Time('2000-01-01T00:00:00', format='isot', scale='utc')"
   ]
  },
  {
   "cell_type": "code",
   "execution_count": 7,
   "metadata": {},
   "outputs": [],
   "source": [
    "time_span = 365 * u.day\n",
    "time_samp = 1 * u.day\n",
    "\n",
    "dates = T_epoch1 + np.arange(0, time_span.value, time_samp.value) * u.day"
   ]
  },
  {
   "cell_type": "markdown",
   "metadata": {},
   "source": [
    "### Set the epoch of the second observation"
   ]
  },
  {
   "cell_type": "code",
   "execution_count": 8,
   "metadata": {},
   "outputs": [],
   "source": [
    "T_epoch2 = T_epoch1 + 90 * u.day\n",
    "t_ind_epoch2 = np.argmin(np.abs(T_epoch2 - dates))"
   ]
  },
  {
   "cell_type": "markdown",
   "metadata": {},
   "source": [
    "### Apply proper motion to J2000 coordinates"
   ]
  },
  {
   "cell_type": "code",
   "execution_count": 9,
   "metadata": {},
   "outputs": [
    {
     "name": "stdout",
     "output_type": "stream",
     "text": [
      "08h52m35.0662s +28d19m46.2257s\n"
     ]
    }
   ],
   "source": [
    "coord_dec_epoch1 = coord_j2000.dec + (T_epoch1 - T_j2000) * pmdec\n",
    "coord_ra_epoch1 = coord_j2000.ra + (T_epoch1 - T_j2000) * pmra / np.cos(coord_j2000.dec)\n",
    "\n",
    "coord_epoch1 = astropy.coordinates.SkyCoord(\n",
    "        frame='icrs', obstime=T_epoch1,\n",
    "        ra = coord_ra_epoch1, dec = coord_dec_epoch1)\n",
    "\n",
    "print(coord_epoch1.to_string('hmsdms'))"
   ]
  },
  {
   "cell_type": "markdown",
   "metadata": {},
   "source": [
    "#### Sanity check"
   ]
  },
  {
   "cell_type": "code",
   "execution_count": 10,
   "metadata": {},
   "outputs": [],
   "source": [
    "np.testing.assert_almost_equal(\n",
    "        ((T_epoch1 - T_j2000).to(u.yr) * pmdec).to(u.arcsec).value,\n",
    "        (coord_epoch1.dec - coord_j2000.dec).to(u.arcsec).value)"
   ]
  },
  {
   "cell_type": "markdown",
   "metadata": {},
   "source": [
    "## Starting from first epoch, compute the parallax offsets in ecliptic coordinates for an array of dates. "
   ]
  },
  {
   "cell_type": "markdown",
   "metadata": {},
   "source": [
    "### We use the astropy.coordinates solar position lookup function to get the geocentric ecliptic coordinates of the Sun and the star at each date."
   ]
  },
  {
   "cell_type": "code",
   "execution_count": 11,
   "metadata": {},
   "outputs": [],
   "source": [
    "# Get geocentric ecliptic coordinates of Sun \n",
    "sun_loc = astropy.coordinates.get_sun(dates)\n",
    "sun_skycoord = astropy.coordinates.SkyCoord(frame='gcrs', obstime=dates,\n",
    "                                            ra = sun_loc.ra, dec = sun_loc.dec)\n",
    "sun_eclon = sun_skycoord.geocentrictrueecliptic.lon\n",
    "sun_eclat = sun_skycoord.geocentrictrueecliptic.lat\n",
    "\n",
    "# Get geocentric ecliptic coordinates of star\n",
    "star_eclon = coord_epoch1.geocentrictrueecliptic.lon\n",
    "star_eclat = coord_epoch1.geocentrictrueecliptic.lat\n",
    "\n",
    "# This is a low-precision approximation for the annual parallax offset.\n",
    "# These forumlae assume the observer is geocentric. They ingore \n",
    "# the eccentricity of Earth's orbit, and the distinction between \n",
    "# the Sun and the Solar System barycenter.\n",
    "# It is correct to within ~2% of the parallax amplitude.\n",
    "# See, e.g., Chapter 8 of Spherical Astronomy by Robin M. Green for a derivation.\n",
    "plx_delta_eclon = -plx * np.sin(star_eclon - sun_eclon) / np.cos(star_eclat)\n",
    "plx_delta_eclat = -plx * np.cos(star_eclon - sun_eclon) * np.sin(star_eclat)"
   ]
  },
  {
   "cell_type": "markdown",
   "metadata": {},
   "source": [
    "### Plot the parallax offset ellipse in ecliptic coordinates"
   ]
  },
  {
   "cell_type": "markdown",
   "metadata": {},
   "source": [
    "#### Robin M. Green: \"...the annual path of a star due to parallax is an ellipse of semimajor axis $\\pi$, semiminor axis $\\pi\\sin\\beta$, and therefore of eccentricity $\\cos\\beta$\""
   ]
  },
  {
   "cell_type": "code",
   "execution_count": 12,
   "metadata": {},
   "outputs": [
    {
     "data": {
      "text/plain": [
       "Text(0, 0.5, 'Ecliptic latitude offset (mas)')"
      ]
     },
     "execution_count": 12,
     "metadata": {},
     "output_type": "execute_result"
    },
    {
     "data": {
      "image/png": "[encoded data removed]",
      "text/plain": [
       "<Figure size 432x360 with 1 Axes>"
      ]
     },
     "metadata": {
      "needs_background": "light"
     },
     "output_type": "display_data"
    }
   ],
   "source": [
    "plt.figure(figsize=(6, 5))\n",
    "plt.plot((plx_delta_eclon - plx_delta_eclon[0]).to(u.mas).value,\n",
    "         (plx_delta_eclat - plx_delta_eclat[0]).to(u.mas).value)\n",
    "plt.axis('equal')\n",
    "plt.grid(True)\n",
    "plt.xlabel('Ecliptic longitude offset (mas)')\n",
    "plt.ylabel('Ecliptic latitude offset (mas)')"
   ]
  },
  {
   "cell_type": "markdown",
   "metadata": {},
   "source": [
    "## Compute the parallax and proper motion offsets in equatorial coordinates"
   ]
  },
  {
   "cell_type": "code",
   "execution_count": 13,
   "metadata": {},
   "outputs": [],
   "source": [
    "coord_plx = astropy.coordinates.GeocentricTrueEcliptic(\n",
    "        lon = star_eclon + plx_delta_eclon,\n",
    "        lat = star_eclat + plx_delta_eclat)\n",
    "    \n",
    "coord_plx_icrs = coord_plx.transform_to(astropy.coordinates.ICRS)\n",
    "\n",
    "plx_delta_ra = coord_epoch1.spherical_offsets_to(coord_plx_icrs)[0]\n",
    "plx_delta_dec = coord_epoch1.spherical_offsets_to(coord_plx_icrs)[1]\n",
    "\n",
    "pm_delta_ra = pmra * (dates - T_epoch1)\n",
    "pm_delta_dec = pmdec * (dates - T_epoch1)\n",
    "\n",
    "pm_plx_delta_ra = plx_delta_ra + pm_delta_ra\n",
    "pm_plx_delta_dec = plx_delta_dec + pm_delta_dec"
   ]
  },
  {
   "cell_type": "code",
   "execution_count": 14,
   "metadata": {},
   "outputs": [
    {
     "data": {
      "text/plain": [
       "<matplotlib.legend.Legend at 0x121bcf390>"
      ]
     },
     "execution_count": 14,
     "metadata": {},
     "output_type": "execute_result"
    },
    {
     "data": {
      "image/png": "[encoded data removed]",
      "text/plain": [
       "<Figure size 576x432 with 1 Axes>"
      ]
     },
     "metadata": {
      "needs_background": "light"
     },
     "output_type": "display_data"
    }
   ],
   "source": [
    "plt.figure(figsize=(8,6))\n",
    "plt.title('Parallax offset')\n",
    "\n",
    "plt.plot((plx_delta_ra - plx_delta_ra[0]).to(u.mas),\n",
    "         (plx_delta_dec - plx_delta_dec[0]).to(u.mas))\n",
    "\n",
    "plt.plot(0, 0, 'x', markersize=20, markeredgewidth=3)\n",
    "\n",
    "plt.plot((plx_delta_ra[t_ind_epoch2] - plx_delta_ra[0]).to(u.mas),\n",
    "         (plx_delta_dec[t_ind_epoch2] - plx_delta_dec[0]).to(u.mas),\n",
    "         'x', markersize=20, markeredgewidth=3)\n",
    "\n",
    "plt.axis('equal')\n",
    "plt.grid(True)\n",
    "plt.xlabel('RA offset (mas)')\n",
    "plt.ylabel('Dec offset (mas)')\n",
    "plt.legend(['Offset trajectory', 'Epoch 1', 'Epoch 2'])"
   ]
  },
  {
   "cell_type": "markdown",
   "metadata": {},
   "source": [
    "### Plot the combined proper motion and parallax trajectory of the target star"
   ]
  },
  {
   "cell_type": "code",
   "execution_count": 15,
   "metadata": {},
   "outputs": [
    {
     "data": {
      "text/plain": [
       "<matplotlib.legend.Legend at 0x121d15fd0>"
      ]
     },
     "execution_count": 15,
     "metadata": {},
     "output_type": "execute_result"
    },
    {
     "data": {
      "image/png": "[encoded data removed]",
      "text/plain": [
       "<Figure size 576x432 with 1 Axes>"
      ]
     },
     "metadata": {
      "needs_background": "light"
     },
     "output_type": "display_data"
    }
   ],
   "source": [
    "plt.figure(figsize=(8,6))\n",
    "plt.title('Combined proper motion and parallax offset')\n",
    "plt.plot((pm_plx_delta_ra - pm_plx_delta_ra[0]).to(u.mas),\n",
    "         (pm_plx_delta_dec - pm_plx_delta_dec[0]).to(u.mas))\n",
    "\n",
    "plt.plot(0, 0, 'x', markersize=20, markeredgewidth=3)\n",
    "\n",
    "plt.plot((pm_plx_delta_ra[t_ind_epoch2] - pm_plx_delta_ra[0]).to(u.mas),\n",
    "         (pm_plx_delta_dec[t_ind_epoch2] - pm_plx_delta_dec[0]).to(u.mas),\n",
    "         'x', markersize=20, markeredgewidth=3)\n",
    "\n",
    "plt.axis('equal')\n",
    "plt.grid(True)\n",
    "plt.xlabel('RA offset (mas)')\n",
    "plt.ylabel('Dec offset (mas)')\n",
    "plt.legend(['Offset trajectory', 'Epoch 1', 'Epoch 2'])"
   ]
  },
  {
   "cell_type": "markdown",
   "metadata": {},
   "source": [
    "### This is the apparent motion of the target star between the two epochs. "
   ]
  },
  {
   "cell_type": "code",
   "execution_count": 16,
   "metadata": {},
   "outputs": [
    {
     "name": "stdout",
     "output_type": "stream",
     "text": [
      "target star Delta RA: -93.88 mas\n",
      "target star Delta Dec: -84.56 mas\n"
     ]
    }
   ],
   "source": [
    "print('target star Delta RA: {:.2f}'.format(\n",
    "        (pm_plx_delta_ra[t_ind_epoch2] - pm_plx_delta_ra[0]).to(u.mas)))\n",
    "print('target star Delta Dec: {:.2f}'.format(\n",
    "        (pm_plx_delta_dec[t_ind_epoch2]- pm_plx_delta_dec[0]).to(u.mas)))"
   ]
  }
 ],
 "metadata": {
  "kernelspec": {
   "display_name": "Python 3",
   "language": "python",
   "name": "python3"
  },
  "language_info": {
   "codemirror_mode": {
    "name": "ipython",
    "version": 3
   },
   "file_extension": ".py",
   "mimetype": "text/x-python",
   "name": "python",
   "nbconvert_exporter": "python",
   "pygments_lexer": "ipython3",
   "version": "3.7.3"
  }
 },
 "nbformat": 4,
 "nbformat_minor": 4
}
