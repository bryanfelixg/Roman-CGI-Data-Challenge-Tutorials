{
 "cells": [
  {
   "cell_type": "markdown",
   "metadata": {},
   "source": [
    "## Epoch 4 -- Quicklook photometry, astrometry, and SNR"
   ]
  },
  {
   "cell_type": "code",
   "execution_count": 1,
   "metadata": {
    "execution": {
     "iopub.execute_input": "2020-11-03T14:44:35.258882Z",
     "iopub.status.busy": "2020-11-03T14:44:35.257982Z",
     "iopub.status.idle": "2020-11-03T14:44:36.949983Z",
     "shell.execute_reply": "2020-11-03T14:44:36.950679Z"
    }
   },
   "outputs": [],
   "source": [
    "import numpy as np\n",
    "import scipy.ndimage\n",
    "import skimage.transform\n",
    "import skimage.registration\n",
    "import os\n",
    "import pandas\n",
    "import csv\n",
    "\n",
    "import matplotlib\n",
    "import matplotlib.pyplot as plt\n",
    "matplotlib.rcParams['image.cmap'] = 'inferno'\n",
    "matplotlib.rcParams['font.size'] = 16\n",
    "matplotlib.rcParams['image.origin'] = 'lower'\n",
    "plt.style.use('dark_background')\n",
    "\n",
    "import astropy.units as u\n",
    "import astropy.constants as c\n",
    "import astropy.io.fits as fits\n",
    "import astropy.table\n",
    "import photutils\n",
    "\n",
    "import scipy.signal"
   ]
  },
  {
   "cell_type": "markdown",
   "metadata": {},
   "source": [
    "### File paths"
   ]
  },
  {
   "cell_type": "code",
   "execution_count": 2,
   "metadata": {
    "execution": {
     "iopub.execute_input": "2020-11-03T14:44:36.958687Z",
     "iopub.status.busy": "2020-11-03T14:44:36.957838Z",
     "iopub.status.idle": "2020-11-03T14:44:36.961316Z",
     "shell.execute_reply": "2020-11-03T14:44:36.961991Z"
    }
   },
   "outputs": [],
   "source": [
    "analysis_results_dir = os.path.relpath(\"./results/\")\n",
    "cal_data_dir = os.path.relpath(\"../../Data/official2019/HLC/HLC CAL/\")\n",
    "\n",
    "rdi_coadd_fname = os.path.join(analysis_results_dir, \"HLC_scistar_RDI_rollcomb_seq.fits\")\n",
    "psf_model_fname = os.path.join(analysis_results_dir, 'hlc_centered_psf.fits')\n",
    "\n",
    "star_cal_fname = os.path.join(cal_data_dir, \"HLC_scistar_unocc_PSF_model.fits\")\n",
    "psf_peak_map_fname = os.path.join(cal_data_dir, 'OS6_HLC_PSF_peak_map.fits')"
   ]
  },
  {
   "cell_type": "code",
   "execution_count": 3,
   "metadata": {
    "execution": {
     "iopub.execute_input": "2020-11-03T14:44:36.966090Z",
     "iopub.status.busy": "2020-11-03T14:44:36.965338Z",
     "iopub.status.idle": "2020-11-03T14:44:36.970995Z",
     "shell.execute_reply": "2020-11-03T14:44:36.970235Z"
    }
   },
   "outputs": [
    {
     "data": {
      "text/plain": [
       "['OS6_HLC_PSFs_offset.fits',\n",
       " 'OS6_HLC_PSFs_fine_offset_list.fits',\n",
       " 'unocc_star_psf.png',\n",
       " 'OS6_HLC_PSFs_fine_offset.fits',\n",
       " 'OS6_HLC_PSF_peak_map.fits',\n",
       " 'HLC_scistar_unocc_PSF_model.fits',\n",
       " 'OS6_HLC_PSFs_offset_list.fits',\n",
       " 'hlc_psf_peak_map.png']"
      ]
     },
     "execution_count": 1,
     "metadata": {},
     "output_type": "execute_result"
    }
   ],
   "source": [
    "os.listdir(cal_data_dir)"
   ]
  },
  {
   "cell_type": "markdown",
   "metadata": {},
   "source": [
    "### Misc. observation and data parameters"
   ]
  },
  {
   "cell_type": "code",
   "execution_count": 4,
   "metadata": {
    "execution": {
     "iopub.execute_input": "2020-11-03T14:44:36.977521Z",
     "iopub.status.busy": "2020-11-03T14:44:36.976538Z",
     "iopub.status.idle": "2020-11-03T14:44:36.980092Z",
     "shell.execute_reply": "2020-11-03T14:44:36.981098Z"
    }
   },
   "outputs": [
    {
     "name": "stdout",
     "output_type": "stream",
     "text": [
      "36.666666666666664 h\n"
     ]
    }
   ],
   "source": [
    "epoch_ind = 3\n",
    "\n",
    "det_qe = 0.75 * u.electron / u.photon # effective QE of detector\n",
    "pc_loss = 0.8 # photon counting coincidence losses\n",
    "tot_inttime = 2 * 66000 * u.second\n",
    "print(tot_inttime.to(u.hour))"
   ]
  },
  {
   "cell_type": "code",
   "execution_count": 5,
   "metadata": {
    "execution": {
     "iopub.execute_input": "2020-11-03T14:44:36.985430Z",
     "iopub.status.busy": "2020-11-03T14:44:36.984966Z",
     "iopub.status.idle": "2020-11-03T14:44:37.000647Z",
     "shell.execute_reply": "2020-11-03T14:44:36.999993Z"
    }
   },
   "outputs": [
    {
     "data": {
      "text/plain": [
       "(4, 45, 45)"
      ]
     },
     "execution_count": 1,
     "metadata": {},
     "output_type": "execute_result"
    }
   ],
   "source": [
    "hdr = fits.getheader(rdi_coadd_fname)\n",
    "pix_scale = (hdr['PIX_AS'] * u.arcsecond).to(u.mas)\n",
    "rdi_coadd_cube = fits.getdata(rdi_coadd_fname)\n",
    "rdi_coadd_cube.shape"
   ]
  },
  {
   "cell_type": "code",
   "execution_count": 6,
   "metadata": {
    "execution": {
     "iopub.execute_input": "2020-11-03T14:44:37.005919Z",
     "iopub.status.busy": "2020-11-03T14:44:37.004923Z",
     "iopub.status.idle": "2020-11-03T14:44:37.015239Z",
     "shell.execute_reply": "2020-11-03T14:44:37.015865Z"
    }
   },
   "outputs": [
    {
     "name": "stdout",
     "output_type": "stream",
     "text": [
      "4.2000023908478346\n"
     ]
    }
   ],
   "source": [
    "psf_peak_map = fits.getdata(psf_peak_map_fname)\n",
    "psf_peak_map_hdr = fits.getheader(psf_peak_map_fname)\n",
    "pixscale_ratio = hdr['PIX_LD'] / psf_peak_map_hdr['PIXSIZE']\n",
    "print(pixscale_ratio)"
   ]
  },
  {
   "cell_type": "code",
   "execution_count": 7,
   "metadata": {
    "execution": {
     "iopub.execute_input": "2020-11-03T14:44:37.035487Z",
     "iopub.status.busy": "2020-11-03T14:44:37.034556Z",
     "iopub.status.idle": "2020-11-03T14:44:37.329573Z",
     "shell.execute_reply": "2020-11-03T14:44:37.330079Z"
    }
   },
   "outputs": [
    {
     "data": {
      "text/plain": [
       "<matplotlib.colorbar.Colorbar at 0x1a1e0c3f90>"
      ]
     },
     "execution_count": 1,
     "metadata": {},
     "output_type": "execute_result"
    },
    {
     "data": {
      "image/png": "[encoded data removed]",
      "text/plain": [
       "<Figure size 864x720 with 2 Axes>"
      ]
     },
     "metadata": {},
     "output_type": "display_data"
    }
   ],
   "source": [
    "plt.figure(figsize=(12,10))\n",
    "\n",
    "plt.imshow(rdi_coadd_cube[epoch_ind])\n",
    "\n",
    "plt.colorbar()"
   ]
  },
  {
   "cell_type": "code",
   "execution_count": 8,
   "metadata": {
    "execution": {
     "iopub.execute_input": "2020-11-03T14:44:37.338261Z",
     "iopub.status.busy": "2020-11-03T14:44:37.337564Z",
     "iopub.status.idle": "2020-11-03T14:44:37.641783Z",
     "shell.execute_reply": "2020-11-03T14:44:37.641158Z"
    }
   },
   "outputs": [
    {
     "name": "stdout",
     "output_type": "stream",
     "text": [
      "Peak col = 12, peak row = 10\n",
      "Source angular separation 15.62 pixels, 329.29 mas\n",
      "Peak value = 248.8\n",
      "Sum in 3 x 3 box = 1310.02 electron\n"
     ]
    },
    {
     "data": {
      "text/plain": [
       "<matplotlib.colorbar.Colorbar at 0x1a1d290750>"
      ]
     },
     "execution_count": 1,
     "metadata": {},
     "output_type": "execute_result"
    },
    {
     "data": {
      "image/png": "[encoded data removed]",
      "text/plain": [
       "<Figure size 864x288 with 4 Axes>"
      ]
     },
     "metadata": {},
     "output_type": "display_data"
    }
   ],
   "source": [
    "rdi_coadd_img = rdi_coadd_cube[epoch_ind]\n",
    "img_width = rdi_coadd_img.shape[0]\n",
    "phot_box_width = 3\n",
    "\n",
    "peak_row = np.nanargmax(np.ravel(rdi_coadd_img)) // img_width\n",
    "#peak_row = 11\n",
    "peak_col = np.nanargmax(np.ravel(rdi_coadd_img)) % img_width\n",
    "peak_val = rdi_coadd_img[peak_row, peak_col]\n",
    "src_sep_pix = np.sqrt((peak_col - img_width // 2)**2 + (peak_row - img_width // 2)**2)\n",
    "src_sep_mas = src_sep_pix * pix_scale\n",
    "\n",
    "phot_box_sum = np.sum(rdi_coadd_img[peak_row - phot_box_width//2 : peak_row + phot_box_width // 2 + 1,\n",
    "                                    peak_col - phot_box_width//2 : peak_col + phot_box_width // 2 + 1]) * u.electron\n",
    "\n",
    "print(\"Peak col = {:d}, peak row = {:d}\".format(peak_col, peak_row))\n",
    "print(\"Source angular separation {:.2f} pixels, {:.2f}\".format(src_sep_pix, src_sep_mas))\n",
    "print(\"Peak value = {:.1f}\".format(peak_val))\n",
    "print(\"Sum in {:d} x {:d} box = {:.2f}\".format(phot_box_width, phot_box_width, phot_box_sum))\n",
    "\n",
    "plt.figure(figsize=(12, 4))\n",
    "\n",
    "plt.subplot(121)\n",
    "plot_box_width = 7\n",
    "plt.imshow(rdi_coadd_img[peak_row - plot_box_width//2 : peak_row + plot_box_width // 2 + 1,\n",
    "                         peak_col - plot_box_width//2 : peak_col + plot_box_width // 2 + 1])\n",
    "plt.colorbar()\n",
    "\n",
    "plt.subplot(122)\n",
    "plt.imshow(rdi_coadd_img[peak_row - phot_box_width//2 : peak_row + phot_box_width // 2 + 1,\n",
    "                         peak_col - phot_box_width//2 : peak_col + phot_box_width // 2 + 1])\n",
    "plt.colorbar()"
   ]
  },
  {
   "cell_type": "code",
   "execution_count": 9,
   "metadata": {
    "execution": {
     "iopub.execute_input": "2020-11-03T14:44:37.723753Z",
     "iopub.status.busy": "2020-11-03T14:44:37.721922Z",
     "iopub.status.idle": "2020-11-03T14:44:37.980672Z",
     "shell.execute_reply": "2020-11-03T14:44:37.980063Z"
    }
   },
   "outputs": [
    {
     "name": "stdout",
     "output_type": "stream",
     "text": [
      "B.g. estimate = 55.949 electron\n",
      "B.g. std dev = 34.206 electron\n",
      "B.g.-subtracted aperture sum = 806.478 electron\n",
      "Peak-to-B.g. SNR estimate = 5.6\n"
     ]
    },
    {
     "data": {
      "text/plain": [
       "<matplotlib.colorbar.Colorbar at 0x1a1f411890>"
      ]
     },
     "execution_count": 1,
     "metadata": {},
     "output_type": "execute_result"
    },
    {
     "data": {
      "image/png": "[encoded data removed]",
      "text/plain": [
       "<Figure size 864x288 with 4 Axes>"
      ]
     },
     "metadata": {},
     "output_type": "display_data"
    }
   ],
   "source": [
    "bg_samp_col = 10\n",
    "bg_samp_row = 17\n",
    "bg_box_width = 5\n",
    "bg_est = np.median(rdi_coadd_img[bg_samp_row - bg_box_width//2 : bg_samp_row + bg_box_width // 2 + 1,\n",
    "                                 bg_samp_col - bg_box_width//2 : bg_samp_col + bg_box_width // 2 + 1]) * u.electron\n",
    "\n",
    "bg_std = np.std(rdi_coadd_img[bg_samp_row - bg_box_width//2 : bg_samp_row + bg_box_width // 2 + 1,\n",
    "                              bg_samp_col - bg_box_width//2 : bg_samp_col + bg_box_width // 2 + 1]) * u.electron\n",
    "\n",
    "peak_to_bg_SNR = (peak_val * u.electron - bg_est) / bg_std\n",
    "\n",
    "phot_box_sum_bgsub = phot_box_sum - bg_est * (phot_box_width * phot_box_width)\n",
    "\n",
    "print(\"B.g. estimate = {:.3f}\".format(bg_est))\n",
    "print(\"B.g. std dev = {:.3f}\".format(bg_std))\n",
    "print(\"B.g.-subtracted aperture sum = {:.3f}\".format(phot_box_sum_bgsub))\n",
    "print(\"Peak-to-B.g. SNR estimate = {:.1f}\".format(peak_to_bg_SNR))\n",
    "\n",
    "plt.figure(figsize=(12, 4))\n",
    "\n",
    "plt.subplot(121)\n",
    "plot_box_width = 10\n",
    "plt.imshow(rdi_coadd_img[bg_samp_row - plot_box_width//2 : bg_samp_row + plot_box_width // 2 + 1,\n",
    "                         bg_samp_col - plot_box_width//2 : bg_samp_col + plot_box_width // 2 + 1])\n",
    "plt.colorbar()\n",
    "\n",
    "plt.subplot(122)\n",
    "plt.imshow(rdi_coadd_img[bg_samp_row - bg_box_width//2 : bg_samp_row + bg_box_width // 2 + 1,\n",
    "                         bg_samp_col - bg_box_width//2 : bg_samp_col + bg_box_width // 2 + 1])\n",
    "plt.colorbar()"
   ]
  },
  {
   "cell_type": "code",
   "execution_count": 10,
   "metadata": {
    "execution": {
     "iopub.execute_input": "2020-11-03T14:44:37.986012Z",
     "iopub.status.busy": "2020-11-03T14:44:37.985291Z",
     "iopub.status.idle": "2020-11-03T14:44:37.989714Z",
     "shell.execute_reply": "2020-11-03T14:44:37.989160Z"
    }
   },
   "outputs": [
    {
     "name": "stdout",
     "output_type": "stream",
     "text": [
      "Source position in peak map: 58, 50\n",
      "Relative PSF attenuation: 0.99\n"
     ]
    }
   ],
   "source": [
    "peak_map_width = psf_peak_map.shape[0]\n",
    "\n",
    "src_peak_map_col = (peak_map_width // 2 \n",
    "                    + int(np.round((peak_col - img_width // 2)\n",
    "                    * pixscale_ratio)))\n",
    "src_peak_map_row = (peak_map_width // 2\n",
    "                    + int(np.round((peak_row - img_width // 2)\n",
    "                    * pixscale_ratio)))\n",
    "\n",
    "print(\"Source position in peak map: {:}, {:}\".format(src_peak_map_col, src_peak_map_row))\n",
    "\n",
    "psf_atten = psf_peak_map[src_peak_map_row, src_peak_map_col] / np.max(psf_peak_map)\n",
    "print(\"Relative PSF attenuation: {:.2f}\".format(psf_atten))"
   ]
  },
  {
   "cell_type": "code",
   "execution_count": 11,
   "metadata": {
    "execution": {
     "iopub.execute_input": "2020-11-03T14:44:37.995545Z",
     "iopub.status.busy": "2020-11-03T14:44:37.994947Z",
     "iopub.status.idle": "2020-11-03T14:44:38.171802Z",
     "shell.execute_reply": "2020-11-03T14:44:38.172516Z"
    }
   },
   "outputs": [
    {
     "name": "stdout",
     "output_type": "stream",
     "text": [
      "25 25\n",
      "Peak col = 25, peak row = 25\n",
      "Star count rate in 3 x 3 box = 5955766.26 ph / s\n"
     ]
    },
    {
     "data": {
      "text/plain": [
       "<matplotlib.colorbar.Colorbar at 0x1a1e7237d0>"
      ]
     },
     "execution_count": 1,
     "metadata": {},
     "output_type": "execute_result"
    },
    {
     "data": {
      "image/png": "[encoded data removed]",
      "text/plain": [
       "<Figure size 576x432 with 2 Axes>"
      ]
     },
     "metadata": {},
     "output_type": "display_data"
    }
   ],
   "source": [
    "star_cal_img = fits.getdata(star_cal_fname)\n",
    "star_cal_img_width = star_cal_img.shape[0]\n",
    "\n",
    "star_peak_row = np.nanargmax(np.ravel(star_cal_img)) // star_cal_img_width\n",
    "star_peak_col = np.nanargmax(np.ravel(star_cal_img)) % star_cal_img_width\n",
    "print(star_peak_col, star_peak_row)\n",
    "\n",
    "star_phot_box_sum = (np.sum(star_cal_img[star_peak_row - phot_box_width//2 : star_peak_row + phot_box_width // 2 + 1,\n",
    "                                         star_peak_col - phot_box_width//2 : star_peak_col + phot_box_width // 2 + 1])\n",
    "                     * u.photon / u.second)\n",
    "\n",
    "print(\"Peak col = {:d}, peak row = {:d}\".format(star_peak_col, star_peak_row))\n",
    "print(\"Star count rate in {:d} x {:d} box = {:.2f}\".format(phot_box_width, phot_box_width, star_phot_box_sum))\n",
    "\n",
    "plt.figure(figsize=(8, 6))\n",
    "plt.imshow(star_cal_img)\n",
    "plt.colorbar()"
   ]
  },
  {
   "cell_type": "code",
   "execution_count": 12,
   "metadata": {
    "execution": {
     "iopub.execute_input": "2020-11-03T14:44:38.177273Z",
     "iopub.status.busy": "2020-11-03T14:44:38.176734Z",
     "iopub.status.idle": "2020-11-03T14:44:38.179825Z",
     "shell.execute_reply": "2020-11-03T14:44:38.179281Z"
    }
   },
   "outputs": [
    {
     "name": "stdout",
     "output_type": "stream",
     "text": [
      "Planet PSF photon count rate in 3 x 3 box = 1.03E-02 ph / s\n",
      "Measured planet flux ratio = 1.724E-09\n"
     ]
    }
   ],
   "source": [
    "planet_phot_box_sum = (phot_box_sum_bgsub / (det_qe * pc_loss * psf_atten)) / tot_inttime\n",
    "print(\"Planet PSF photon count rate in {:d} x {:d} box = {:.2E}\".format(\n",
    "      phot_box_width, phot_box_width, planet_phot_box_sum))\n",
    "\n",
    "planet_flux_ratio = planet_phot_box_sum / star_phot_box_sum\n",
    "print(\"Measured planet flux ratio = {:.3E}\".format(planet_flux_ratio))"
   ]
  },
  {
   "cell_type": "markdown",
   "metadata": {},
   "source": [
    "## Photutils centroid and photometry "
   ]
  },
  {
   "cell_type": "code",
   "execution_count": 13,
   "metadata": {
    "execution": {
     "iopub.execute_input": "2020-11-03T14:44:38.185002Z",
     "iopub.status.busy": "2020-11-03T14:44:38.184418Z",
     "iopub.status.idle": "2020-11-03T14:44:38.187607Z",
     "shell.execute_reply": "2020-11-03T14:44:38.187003Z"
    }
   },
   "outputs": [
    {
     "name": "stdout",
     "output_type": "stream",
     "text": [
      "34.20630189084178\n"
     ]
    }
   ],
   "source": [
    "cut_width = 11\n",
    "src_cutout = rdi_coadd_img[peak_row - cut_width//2 : peak_row + cut_width // 2 + 1,\n",
    "                           peak_col - cut_width//2 : peak_col + cut_width // 2 + 1]\n",
    "\n",
    "\n",
    "bg_box = rdi_coadd_img[bg_samp_row - bg_box_width//2 : bg_samp_row + bg_box_width // 2 + 1,\n",
    "                       bg_samp_col - bg_box_width//2 : bg_samp_col + bg_box_width // 2 + 1]\n",
    "\n",
    "bg_std = np.std(bg_box)\n",
    "print(bg_std)"
   ]
  },
  {
   "cell_type": "code",
   "execution_count": 14,
   "metadata": {
    "execution": {
     "iopub.execute_input": "2020-11-03T14:44:38.191854Z",
     "iopub.status.busy": "2020-11-03T14:44:38.191259Z",
     "iopub.status.idle": "2020-11-03T14:44:38.193873Z",
     "shell.execute_reply": "2020-11-03T14:44:38.194332Z"
    }
   },
   "outputs": [
    {
     "data": {
      "text/plain": [
       "76.73763301209308"
      ]
     },
     "execution_count": 1,
     "metadata": {},
     "output_type": "execute_result"
    }
   ],
   "source": [
    "np.nanstd(rdi_coadd_img)"
   ]
  },
  {
   "cell_type": "code",
   "execution_count": 15,
   "metadata": {
    "execution": {
     "iopub.execute_input": "2020-11-03T14:44:38.214196Z",
     "iopub.status.busy": "2020-11-03T14:44:38.210900Z",
     "iopub.status.idle": "2020-11-03T14:44:38.506968Z",
     "shell.execute_reply": "2020-11-03T14:44:38.506515Z"
    }
   },
   "outputs": [
    {
     "data": {
      "text/plain": [
       "<matplotlib.colorbar.Colorbar at 0x1a1e90f310>"
      ]
     },
     "execution_count": 1,
     "metadata": {},
     "output_type": "execute_result"
    },
    {
     "data": {
      "image/png": "[encoded data removed]",
      "text/plain": [
       "<Figure size 864x360 with 4 Axes>"
      ]
     },
     "metadata": {},
     "output_type": "display_data"
    }
   ],
   "source": [
    "plt.figure(figsize=(12,5))\n",
    "plt.subplot(121)\n",
    "plt.imshow(src_cutout)\n",
    "plt.colorbar()\n",
    "plt.subplot(122)\n",
    "plt.imshow(bg_box)\n",
    "plt.colorbar()"
   ]
  },
  {
   "cell_type": "code",
   "execution_count": 16,
   "metadata": {
    "execution": {
     "iopub.execute_input": "2020-11-03T14:44:38.514751Z",
     "iopub.status.busy": "2020-11-03T14:44:38.514263Z",
     "iopub.status.idle": "2020-11-03T14:44:38.671852Z",
     "shell.execute_reply": "2020-11-03T14:44:38.672350Z"
    }
   },
   "outputs": [
    {
     "name": "stderr",
     "output_type": "stream",
     "text": [
      "WARNING: AstropyDeprecationWarning: The fit_2dgaussian function is deprecated and may be removed in a future version. [warnings]\n",
      "WARNING: Input data contains non-finite values (e.g., NaN or infs) that were automatically masked. [photutils.centroids.gaussian]\n",
      "WARNING: AstropyDeprecationWarning: The GaussianConst2D class is deprecated and may be removed in a future version. [photutils.centroids.gaussian]\n",
      "WARNING: The fit may be unsuccessful; check fit_info['message'] for more information. [astropy.modeling.fitting]\n"
     ]
    }
   ],
   "source": [
    "result = photutils.centroids.fit_2dgaussian(data = src_cutout,\n",
    "                                            error = np.ones_like(src_cutout) * bg_std)"
   ]
  },
  {
   "cell_type": "code",
   "execution_count": 17,
   "metadata": {
    "execution": {
     "iopub.execute_input": "2020-11-03T14:44:38.677054Z",
     "iopub.status.busy": "2020-11-03T14:44:38.676505Z",
     "iopub.status.idle": "2020-11-03T14:44:38.679543Z",
     "shell.execute_reply": "2020-11-03T14:44:38.679057Z"
    }
   },
   "outputs": [
    {
     "data": {
      "text/plain": [
       "<GaussianConst2D(constant=-1204.02883388, amplitude=1316.00813346, x_mean=7.62744969, y_mean=7.33518288, x_stddev=16.79521848, y_stddev=20.06750903, theta=-36.39905719)>"
      ]
     },
     "execution_count": 1,
     "metadata": {},
     "output_type": "execute_result"
    }
   ],
   "source": [
    "result"
   ]
  },
  {
   "cell_type": "code",
   "execution_count": 18,
   "metadata": {
    "execution": {
     "iopub.execute_input": "2020-11-03T14:44:38.683622Z",
     "iopub.status.busy": "2020-11-03T14:44:38.683057Z",
     "iopub.status.idle": "2020-11-03T14:44:38.696679Z",
     "shell.execute_reply": "2020-11-03T14:44:38.697144Z"
    }
   },
   "outputs": [],
   "source": [
    "psf_model = fits.getdata(psf_model_fname)\n",
    "psf_model_shift = scipy.ndimage.shift(psf_model, [0.5, 0.5])\n",
    "psf_model_crop = 11\n",
    "psf_model_crop = psf_model_shift[psf_model.shape[0] // 2 - psf_model_crop//2:psf_model.shape[0] // 2 + psf_model_crop//2 + 1,\n",
    "                                 psf_model.shape[0] // 2 - psf_model_crop//2:psf_model.shape[0] // 2 + psf_model_crop//2 + 1]"
   ]
  },
  {
   "cell_type": "code",
   "execution_count": 19,
   "metadata": {
    "execution": {
     "iopub.execute_input": "2020-11-03T14:44:38.700549Z",
     "iopub.status.busy": "2020-11-03T14:44:38.700011Z",
     "iopub.status.idle": "2020-11-03T14:44:38.702683Z",
     "shell.execute_reply": "2020-11-03T14:44:38.703210Z"
    }
   },
   "outputs": [
    {
     "data": {
      "text/plain": [
       "(11, 11)"
      ]
     },
     "execution_count": 1,
     "metadata": {},
     "output_type": "execute_result"
    }
   ],
   "source": [
    "psf_model_crop.shape"
   ]
  },
  {
   "cell_type": "code",
   "execution_count": 20,
   "metadata": {
    "execution": {
     "iopub.execute_input": "2020-11-03T14:44:38.721964Z",
     "iopub.status.busy": "2020-11-03T14:44:38.718613Z",
     "iopub.status.idle": "2020-11-03T14:44:38.833716Z",
     "shell.execute_reply": "2020-11-03T14:44:38.834182Z"
    }
   },
   "outputs": [
    {
     "data": {
      "text/plain": [
       "<matplotlib.image.AxesImage at 0x1a1e68ac90>"
      ]
     },
     "execution_count": 1,
     "metadata": {},
     "output_type": "execute_result"
    },
    {
     "data": {
      "image/png": "[encoded data removed]",
      "text/plain": [
       "<Figure size 576x576 with 1 Axes>"
      ]
     },
     "metadata": {},
     "output_type": "display_data"
    }
   ],
   "source": [
    "plt.figure(figsize=(8,8))\n",
    "plt.imshow(psf_model_crop[:,:])"
   ]
  },
  {
   "cell_type": "code",
   "execution_count": 21,
   "metadata": {
    "execution": {
     "iopub.execute_input": "2020-11-03T14:44:38.837676Z",
     "iopub.status.busy": "2020-11-03T14:44:38.837100Z",
     "iopub.status.idle": "2020-11-03T14:44:38.840078Z",
     "shell.execute_reply": "2020-11-03T14:44:38.839612Z"
    }
   },
   "outputs": [
    {
     "data": {
      "text/plain": [
       "0.0210804"
      ]
     },
     "execution_count": 1,
     "metadata": {},
     "output_type": "execute_result"
    }
   ],
   "source": [
    "hdr['PIX_AS']"
   ]
  },
  {
   "cell_type": "code",
   "execution_count": 22,
   "metadata": {
    "execution": {
     "iopub.execute_input": "2020-11-03T14:44:38.843349Z",
     "iopub.status.busy": "2020-11-03T14:44:38.842783Z",
     "iopub.status.idle": "2020-11-03T14:44:38.845270Z",
     "shell.execute_reply": "2020-11-03T14:44:38.845722Z"
    }
   },
   "outputs": [
    {
     "data": {
      "text/plain": [
       "0.4200002390847835"
      ]
     },
     "execution_count": 1,
     "metadata": {},
     "output_type": "execute_result"
    }
   ],
   "source": [
    "hdr['PIX_LD']"
   ]
  },
  {
   "cell_type": "code",
   "execution_count": 23,
   "metadata": {
    "execution": {
     "iopub.execute_input": "2020-11-03T14:44:38.849443Z",
     "iopub.status.busy": "2020-11-03T14:44:38.848971Z",
     "iopub.status.idle": "2020-11-03T14:44:38.853137Z",
     "shell.execute_reply": "2020-11-03T14:44:38.852688Z"
    }
   },
   "outputs": [
    {
     "data": {
      "text/plain": [
       "(46, 46)"
      ]
     },
     "execution_count": 1,
     "metadata": {},
     "output_type": "execute_result"
    }
   ],
   "source": [
    "scale_fac = hdr['PIX_LD'] / 0.1\n",
    "src_cutout_rescaled = skimage.transform.rescale(src_cutout, scale = scale_fac)\n",
    "src_cutout_rescaled.shape"
   ]
  },
  {
   "cell_type": "code",
   "execution_count": 24,
   "metadata": {
    "execution": {
     "iopub.execute_input": "2020-11-03T14:44:38.884358Z",
     "iopub.status.busy": "2020-11-03T14:44:38.883883Z",
     "iopub.status.idle": "2020-11-03T14:44:39.149456Z",
     "shell.execute_reply": "2020-11-03T14:44:39.149001Z"
    }
   },
   "outputs": [
    {
     "data": {
      "text/plain": [
       "<matplotlib.colorbar.Colorbar at 0x1a1efb6850>"
      ]
     },
     "execution_count": 1,
     "metadata": {},
     "output_type": "execute_result"
    },
    {
     "data": {
      "image/png": "[encoded data removed]",
      "text/plain": [
       "<Figure size 864x360 with 4 Axes>"
      ]
     },
     "metadata": {},
     "output_type": "display_data"
    }
   ],
   "source": [
    "plt.figure(figsize=(12,5))\n",
    "plt.subplot(121)\n",
    "plt.imshow(src_cutout)\n",
    "plt.colorbar()\n",
    "plt.subplot(122)\n",
    "plt.imshow(src_cutout_rescaled)\n",
    "plt.colorbar()"
   ]
  },
  {
   "cell_type": "code",
   "execution_count": 25,
   "metadata": {
    "execution": {
     "iopub.execute_input": "2020-11-03T14:44:39.153598Z",
     "iopub.status.busy": "2020-11-03T14:44:39.153133Z",
     "iopub.status.idle": "2020-11-03T14:44:39.155996Z",
     "shell.execute_reply": "2020-11-03T14:44:39.155252Z"
    }
   },
   "outputs": [],
   "source": [
    "#src_crop = src_cutout_rescaled.shape[0] - psf_model_crop.shape[0]\n",
    "src_cutout_rescaled_cropped = src_cutout_rescaled[\n",
    "        src_cutout_rescaled.shape[0] // 2 - psf_model_crop.shape[0] // 2:src_cutout_rescaled.shape[0] // 2 + psf_model_crop.shape[0] // 2 + 1,\n",
    "        src_cutout_rescaled.shape[0] // 2 - psf_model_crop.shape[0] // 2:src_cutout_rescaled.shape[0] // 2 + psf_model_crop.shape[0] // 2 + 1]"
   ]
  },
  {
   "cell_type": "code",
   "execution_count": 26,
   "metadata": {
    "execution": {
     "iopub.execute_input": "2020-11-03T14:44:39.170645Z",
     "iopub.status.busy": "2020-11-03T14:44:39.170160Z",
     "iopub.status.idle": "2020-11-03T14:44:39.255372Z",
     "shell.execute_reply": "2020-11-03T14:44:39.254729Z"
    }
   },
   "outputs": [
    {
     "data": {
      "text/plain": [
       "<matplotlib.image.AxesImage at 0x1a1f20cb10>"
      ]
     },
     "execution_count": 1,
     "metadata": {},
     "output_type": "execute_result"
    },
    {
     "data": {
      "image/png": "[encoded data removed]",
      "text/plain": [
       "<Figure size 432x288 with 1 Axes>"
      ]
     },
     "metadata": {},
     "output_type": "display_data"
    }
   ],
   "source": [
    "plt.figure()\n",
    "plt.imshow(src_cutout_rescaled_cropped)"
   ]
  },
  {
   "cell_type": "code",
   "execution_count": 27,
   "metadata": {
    "execution": {
     "iopub.execute_input": "2020-11-03T14:44:39.258610Z",
     "iopub.status.busy": "2020-11-03T14:44:39.257417Z",
     "iopub.status.idle": "2020-11-03T14:44:39.261303Z",
     "shell.execute_reply": "2020-11-03T14:44:39.261764Z"
    }
   },
   "outputs": [
    {
     "data": {
      "text/plain": [
       "(11, 11)"
      ]
     },
     "execution_count": 1,
     "metadata": {},
     "output_type": "execute_result"
    }
   ],
   "source": [
    "src_cutout_rescaled_cropped.shape"
   ]
  },
  {
   "cell_type": "code",
   "execution_count": 28,
   "metadata": {
    "execution": {
     "iopub.execute_input": "2020-11-03T14:44:39.265100Z",
     "iopub.status.busy": "2020-11-03T14:44:39.264628Z",
     "iopub.status.idle": "2020-11-03T14:44:39.269886Z",
     "shell.execute_reply": "2020-11-03T14:44:39.269367Z"
    }
   },
   "outputs": [],
   "source": [
    "cross_corr_result = skimage.registration.phase_cross_correlation(reference_image = psf_model_crop,\n",
    "                                                                 moving_image = src_cutout_rescaled_cropped,\n",
    "                                                                 upsample_factor = 10)"
   ]
  },
  {
   "cell_type": "code",
   "execution_count": 29,
   "metadata": {
    "execution": {
     "iopub.execute_input": "2020-11-03T14:44:39.273885Z",
     "iopub.status.busy": "2020-11-03T14:44:39.273300Z",
     "iopub.status.idle": "2020-11-03T14:44:39.275855Z",
     "shell.execute_reply": "2020-11-03T14:44:39.276403Z"
    }
   },
   "outputs": [
    {
     "data": {
      "text/plain": [
       "(array([-1.5, -0.3]), 0.13365996883998527, -2.10410207059663e-18)"
      ]
     },
     "execution_count": 1,
     "metadata": {},
     "output_type": "execute_result"
    }
   ],
   "source": [
    "cross_corr_result"
   ]
  },
  {
   "cell_type": "code",
   "execution_count": 30,
   "metadata": {
    "execution": {
     "iopub.execute_input": "2020-11-03T14:44:39.281047Z",
     "iopub.status.busy": "2020-11-03T14:44:39.280251Z",
     "iopub.status.idle": "2020-11-03T14:44:39.282912Z",
     "shell.execute_reply": "2020-11-03T14:44:39.282448Z"
    }
   },
   "outputs": [],
   "source": [
    "src_y = peak_row - cross_corr_result[0][0] / scale_fac\n",
    "src_x = peak_col - cross_corr_result[0][1] / scale_fac"
   ]
  },
  {
   "cell_type": "code",
   "execution_count": 31,
   "metadata": {
    "execution": {
     "iopub.execute_input": "2020-11-03T14:44:39.287060Z",
     "iopub.status.busy": "2020-11-03T14:44:39.286370Z",
     "iopub.status.idle": "2020-11-03T14:44:39.289698Z",
     "shell.execute_reply": "2020-11-03T14:44:39.290395Z"
    }
   },
   "outputs": [
    {
     "data": {
      "text/plain": [
       "(10, 12)"
      ]
     },
     "execution_count": 1,
     "metadata": {},
     "output_type": "execute_result"
    }
   ],
   "source": [
    "peak_row, peak_col"
   ]
  },
  {
   "cell_type": "code",
   "execution_count": 32,
   "metadata": {
    "execution": {
     "iopub.execute_input": "2020-11-03T14:44:39.294478Z",
     "iopub.status.busy": "2020-11-03T14:44:39.293871Z",
     "iopub.status.idle": "2020-11-03T14:44:39.297078Z",
     "shell.execute_reply": "2020-11-03T14:44:39.296510Z"
    }
   },
   "outputs": [
    {
     "data": {
      "text/plain": [
       "(10.357142653839585, 12.071428530767918)"
      ]
     },
     "execution_count": 1,
     "metadata": {},
     "output_type": "execute_result"
    }
   ],
   "source": [
    "src_y, src_x"
   ]
  },
  {
   "cell_type": "code",
   "execution_count": 33,
   "metadata": {
    "execution": {
     "iopub.execute_input": "2020-11-03T14:44:39.301395Z",
     "iopub.status.busy": "2020-11-03T14:44:39.300634Z",
     "iopub.status.idle": "2020-11-03T14:44:39.302678Z",
     "shell.execute_reply": "2020-11-03T14:44:39.303274Z"
    }
   },
   "outputs": [],
   "source": [
    "src_y_offset = (src_y - img_width // 2) * pix_scale\n",
    "src_x_offset = (src_x - img_width // 2) * pix_scale"
   ]
  },
  {
   "cell_type": "code",
   "execution_count": 34,
   "metadata": {
    "execution": {
     "iopub.execute_input": "2020-11-03T14:44:39.308292Z",
     "iopub.status.busy": "2020-11-03T14:44:39.307589Z",
     "iopub.status.idle": "2020-11-03T14:44:39.311014Z",
     "shell.execute_reply": "2020-11-03T14:44:39.310445Z"
    }
   },
   "outputs": [
    {
     "data": {
      "text/plain": [
       "(<Quantity -245.43609 mas>, <Quantity -209.298258 mas>)"
      ]
     },
     "execution_count": 1,
     "metadata": {},
     "output_type": "execute_result"
    }
   ],
   "source": [
    "src_y_offset.to(u.mas), src_x_offset.to(u.mas)"
   ]
  },
  {
   "cell_type": "code",
   "execution_count": 35,
   "metadata": {
    "execution": {
     "iopub.execute_input": "2020-11-03T14:44:39.314908Z",
     "iopub.status.busy": "2020-11-03T14:44:39.314364Z",
     "iopub.status.idle": "2020-11-03T14:44:39.316962Z",
     "shell.execute_reply": "2020-11-03T14:44:39.316382Z"
    }
   },
   "outputs": [],
   "source": [
    "sigma = (1 / hdr['PIX_LD']) / peak_to_bg_SNR * pix_scale"
   ]
  },
  {
   "cell_type": "code",
   "execution_count": 36,
   "metadata": {
    "execution": {
     "iopub.execute_input": "2020-11-03T14:44:39.321563Z",
     "iopub.status.busy": "2020-11-03T14:44:39.320725Z",
     "iopub.status.idle": "2020-11-03T14:44:39.324512Z",
     "shell.execute_reply": "2020-11-03T14:44:39.323848Z"
    }
   },
   "outputs": [
    {
     "data": {
      "text/latex": [
       "$8.902375 \\; \\mathrm{mas}$"
      ],
      "text/plain": [
       "<Quantity 8.90237501 mas>"
      ]
     },
     "execution_count": 1,
     "metadata": {},
     "output_type": "execute_result"
    }
   ],
   "source": [
    "sigma"
   ]
  }
 ],
 "metadata": {
  "kernelspec": {
   "display_name": "Python 3",
   "language": "python",
   "name": "python3"
  },
  "language_info": {
   "codemirror_mode": {
    "name": "ipython",
    "version": 3
   },
   "file_extension": ".py",
   "mimetype": "text/x-python",
   "name": "python",
   "nbconvert_exporter": "python",
   "pygments_lexer": "ipython3",
   "version": "3.7.9"
  }
 },
 "nbformat": 4,
 "nbformat_minor": 4
}
