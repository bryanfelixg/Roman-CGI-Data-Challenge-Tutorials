{
 "cells": [
  {
   "cell_type": "markdown",
   "metadata": {},
   "source": [
    "# Make a centered model of the HLC PSF "
   ]
  },
  {
   "cell_type": "code",
   "execution_count": 1,
   "metadata": {
    "execution": {
     "iopub.execute_input": "2020-11-03T14:44:04.925513Z",
     "iopub.status.busy": "2020-11-03T14:44:04.924973Z",
     "iopub.status.idle": "2020-11-03T14:44:06.088055Z",
     "shell.execute_reply": "2020-11-03T14:44:06.087372Z"
    }
   },
   "outputs": [],
   "source": [
    "import numpy as np\n",
    "from astropy.io import fits\n",
    "import numpy as np\n",
    "import astropy.units as u\n",
    "import astropy.constants as const\n",
    "import os\n",
    "\n",
    "import matplotlib\n",
    "import matplotlib.pyplot as plt\n",
    "matplotlib.rcParams['image.origin'] = 'lower'\n",
    "matplotlib.rcParams['image.interpolation'] = 'nearest'\n",
    "matplotlib.rcParams['image.cmap'] = 'gray'\n",
    "matplotlib.rcParams['axes.linewidth'] = 1.\n",
    "matplotlib.rcParams['lines.linewidth'] = 2.5\n",
    "matplotlib.rcParams['font.size'] = 15\n",
    "matplotlib.rcParams['font.sans-serif'] = 'Helvetica'\n",
    "\n",
    "plt.style.use('dark_background')\n",
    "\n",
    "import scipy.ndimage.interpolation\n",
    "import scipy.signal\n",
    "import skimage.transform\n",
    "import exoscene.image"
   ]
  },
  {
   "cell_type": "code",
   "execution_count": 2,
   "metadata": {
    "execution": {
     "iopub.execute_input": "2020-11-03T14:44:06.091860Z",
     "iopub.status.busy": "2020-11-03T14:44:06.091272Z",
     "iopub.status.idle": "2020-11-03T14:44:06.094714Z",
     "shell.execute_reply": "2020-11-03T14:44:06.094143Z"
    }
   },
   "outputs": [],
   "source": [
    "cal_data_dir = os.path.relpath(\"../../Data/official2019/HLC/HLC CAL/\")\n",
    "analysis_results_dir = os.path.relpath(\"./results/\")"
   ]
  },
  {
   "cell_type": "markdown",
   "metadata": {},
   "source": [
    "### Load HLC PSF model files"
   ]
  },
  {
   "cell_type": "code",
   "execution_count": 3,
   "metadata": {
    "execution": {
     "iopub.execute_input": "2020-11-03T14:44:06.098536Z",
     "iopub.status.busy": "2020-11-03T14:44:06.097837Z",
     "iopub.status.idle": "2020-11-03T14:44:06.103779Z",
     "shell.execute_reply": "2020-11-03T14:44:06.103204Z"
    }
   },
   "outputs": [
    {
     "data": {
      "text/plain": [
       "['OS6_HLC_PSFs_offset.fits',\n",
       " 'OS6_HLC_PSFs_fine_offset_list.fits',\n",
       " 'unocc_star_psf.png',\n",
       " 'OS6_HLC_PSFs_fine_offset.fits',\n",
       " 'OS6_HLC_PSF_peak_map.fits',\n",
       " 'HLC_scistar_unocc_PSF_model.fits',\n",
       " 'OS6_HLC_PSFs_offset_list.fits',\n",
       " 'hlc_psf_peak_map.png']"
      ]
     },
     "execution_count": 1,
     "metadata": {},
     "output_type": "execute_result"
    }
   ],
   "source": [
    "os.listdir(cal_data_dir)"
   ]
  },
  {
   "cell_type": "code",
   "execution_count": 4,
   "metadata": {
    "execution": {
     "iopub.execute_input": "2020-11-03T14:44:06.107589Z",
     "iopub.status.busy": "2020-11-03T14:44:06.107057Z",
     "iopub.status.idle": "2020-11-03T14:44:06.109557Z",
     "shell.execute_reply": "2020-11-03T14:44:06.109001Z"
    }
   },
   "outputs": [],
   "source": [
    "offset_psfs_fname = os.path.join(cal_data_dir, 'OS6_HLC_PSFs_offset.fits')\n",
    "offset_psfs_offsets_fname = os.path.join(cal_data_dir, 'OS6_HLC_PSFs_offset_list.fits')"
   ]
  },
  {
   "cell_type": "code",
   "execution_count": 5,
   "metadata": {
    "execution": {
     "iopub.execute_input": "2020-11-03T14:44:06.113792Z",
     "iopub.status.busy": "2020-11-03T14:44:06.113228Z",
     "iopub.status.idle": "2020-11-03T14:44:06.119310Z",
     "shell.execute_reply": "2020-11-03T14:44:06.118737Z"
    }
   },
   "outputs": [
    {
     "name": "stdout",
     "output_type": "stream",
     "text": [
      "0.00501914\n",
      "0.1\n"
     ]
    }
   ],
   "source": [
    "cx_os6 = 100 # True center of the high-res OS6 array,\n",
    "             # derived from checking the peak-offset correspondence in the off-axis PSF model. \n",
    "pixscale_as = (fits.getheader(offset_psfs_fname))['PIX_AS']\n",
    "pixscale_LoD = (fits.getheader(offset_psfs_fname))['PIXSCALE']\n",
    "\n",
    "print(pixscale_as)\n",
    "print(pixscale_LoD)"
   ]
  },
  {
   "cell_type": "code",
   "execution_count": 6,
   "metadata": {
    "execution": {
     "iopub.execute_input": "2020-11-03T14:44:06.123451Z",
     "iopub.status.busy": "2020-11-03T14:44:06.122904Z",
     "iopub.status.idle": "2020-11-03T14:44:06.146699Z",
     "shell.execute_reply": "2020-11-03T14:44:06.146070Z"
    }
   },
   "outputs": [
    {
     "name": "stdout",
     "output_type": "stream",
     "text": [
      "(17, 200, 200)\n",
      "(17,)\n",
      "[0.89999998 2.0999999  2.4000001  2.70000005 3.29999995 3.5999999\n",
      " 3.9000001  4.5        4.80000019 5.4000001  6.         7.19999981\n",
      " 8.10000038 8.39999962 8.69999981 9.         9.30000019]\n"
     ]
    }
   ],
   "source": [
    "offset_psfs_os6 = fits.getdata(offset_psfs_fname)\n",
    "offsets_LoD = fits.getdata(offset_psfs_offsets_fname)\n",
    "offsets_as = offsets_LoD * pixscale_as / pixscale_LoD\n",
    "\n",
    "print(offset_psfs_os6.shape)\n",
    "print(offsets_LoD.shape)\n",
    "print(offsets_LoD)"
   ]
  },
  {
   "cell_type": "markdown",
   "metadata": {},
   "source": [
    "### Apply half-pixel shift to OS6 arrays to place center at (99.5, 99.5)"
   ]
  },
  {
   "cell_type": "code",
   "execution_count": 7,
   "metadata": {
    "execution": {
     "iopub.execute_input": "2020-11-03T14:44:06.151495Z",
     "iopub.status.busy": "2020-11-03T14:44:06.150860Z",
     "iopub.status.idle": "2020-11-03T14:44:06.203299Z",
     "shell.execute_reply": "2020-11-03T14:44:06.203830Z"
    }
   },
   "outputs": [
    {
     "data": {
      "text/plain": [
       "(17, 200, 200)"
      ]
     },
     "execution_count": 1,
     "metadata": {},
     "output_type": "execute_result"
    }
   ],
   "source": [
    "offset_psfs = scipy.ndimage.interpolation.shift(offset_psfs_os6, (0, -0.5, -0.5),\n",
    "                                                order = 1, prefilter=False,\n",
    "                                                mode = 'constant', cval=0)\n",
    "offset_psfs.shape"
   ]
  },
  {
   "cell_type": "code",
   "execution_count": 8,
   "metadata": {
    "execution": {
     "iopub.execute_input": "2020-11-03T14:44:06.209298Z",
     "iopub.status.busy": "2020-11-03T14:44:06.208762Z",
     "iopub.status.idle": "2020-11-03T14:44:06.213617Z",
     "shell.execute_reply": "2020-11-03T14:44:06.213051Z"
    }
   },
   "outputs": [
    {
     "name": "stdout",
     "output_type": "stream",
     "text": [
      "Using PSF model with angular separation 6.00 lam/D\n"
     ]
    }
   ],
   "source": [
    "r_p = 60 # offset PSF position with relatively little distortion from FPM or field stop\n",
    "print(\"Using PSF model with angular separation {:.2f} lam/D\".format(r_p * pixscale_LoD))\n",
    "theta = 0 # destination theta\n",
    "r_as = r_p * pixscale_as\n",
    "oi = np.argmin(np.abs(r_as - offsets_as)) # index of closest radial offset in Krist model array\n",
    "dr_as = r_as - offsets_as[oi] # radial shift needed in arcseconds\n",
    "dr_p = dr_as / pixscale_as # radial shift needed in pixels\n",
    "\n",
    "shift_psf = scipy.ndimage.interpolation.shift(offset_psfs[oi], (0, dr_p),\n",
    "                                              order = 1, prefilter=False)\n",
    "\n",
    "cent_shift_psf = np.roll(shift_psf, -r_p, axis=1)"
   ]
  },
  {
   "cell_type": "code",
   "execution_count": 9,
   "metadata": {
    "execution": {
     "iopub.execute_input": "2020-11-03T14:44:06.217541Z",
     "iopub.status.busy": "2020-11-03T14:44:06.216932Z",
     "iopub.status.idle": "2020-11-03T14:44:06.220203Z",
     "shell.execute_reply": "2020-11-03T14:44:06.219648Z"
    }
   },
   "outputs": [
    {
     "data": {
      "text/plain": [
       "(200, 200)"
      ]
     },
     "execution_count": 1,
     "metadata": {},
     "output_type": "execute_result"
    }
   ],
   "source": [
    "cent_shift_psf.shape"
   ]
  },
  {
   "cell_type": "code",
   "execution_count": 10,
   "metadata": {
    "execution": {
     "iopub.execute_input": "2020-11-03T14:44:06.240291Z",
     "iopub.status.busy": "2020-11-03T14:44:06.239766Z",
     "iopub.status.idle": "2020-11-03T14:44:06.445845Z",
     "shell.execute_reply": "2020-11-03T14:44:06.446317Z"
    }
   },
   "outputs": [
    {
     "data": {
      "text/plain": [
       "<matplotlib.colorbar.Colorbar at 0x1a1d30b650>"
      ]
     },
     "execution_count": 1,
     "metadata": {},
     "output_type": "execute_result"
    },
    {
     "data": {
      "image/png": "[encoded data removed]",
      "text/plain": [
       "<Figure size 720x576 with 2 Axes>"
      ]
     },
     "metadata": {},
     "output_type": "display_data"
    }
   ],
   "source": [
    "plt.figure(figsize=(10, 8))\n",
    "plt.imshow(cent_shift_psf)\n",
    "plt.colorbar()"
   ]
  },
  {
   "cell_type": "code",
   "execution_count": 11,
   "metadata": {
    "execution": {
     "iopub.execute_input": "2020-11-03T14:44:06.449971Z",
     "iopub.status.busy": "2020-11-03T14:44:06.449493Z",
     "iopub.status.idle": "2020-11-03T14:44:06.451954Z",
     "shell.execute_reply": "2020-11-03T14:44:06.451393Z"
    }
   },
   "outputs": [],
   "source": [
    "cent_psf_fname = os.path.join(analysis_results_dir, 'hlc_centered_psf.fits')\n",
    "if not os.path.exists(cent_psf_fname):\n",
    "    fits.writeto(cent_psf_fname, cent_shift_psf)"
   ]
  }
 ],
 "metadata": {
  "kernelspec": {
   "display_name": "Python 3",
   "language": "python",
   "name": "python3"
  },
  "language_info": {
   "codemirror_mode": {
    "name": "ipython",
    "version": 3
   },
   "file_extension": ".py",
   "mimetype": "text/x-python",
   "name": "python",
   "nbconvert_exporter": "python",
   "pygments_lexer": "ipython3",
   "version": "3.7.9"
  }
 },
 "nbformat": 4,
 "nbformat_minor": 4
}
