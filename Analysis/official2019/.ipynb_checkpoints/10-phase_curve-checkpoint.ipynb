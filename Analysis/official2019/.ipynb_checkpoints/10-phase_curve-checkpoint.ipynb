{
 "cells": [
  {
   "cell_type": "markdown",
   "metadata": {},
   "source": [
    "# Fit phase curve and albedo"
   ]
  },
  {
   "cell_type": "code",
   "execution_count": null,
   "metadata": {},
   "outputs": [],
   "source": [
    "last_epoch = 4 # last epoch to include, starting from 1"
   ]
  },
  {
   "cell_type": "code",
   "execution_count": 1,
   "metadata": {},
   "outputs": [],
   "source": [
    "import numpy as np\n",
    "import os\n",
    "import multiprocessing as mp\n",
    "import matplotlib\n",
    "import matplotlib.pyplot as plt\n",
    "\n",
    "import astropy.io.ascii\n",
    "import astropy.table\n",
    "import astropy.units as u\n",
    "import astropy.constants as c\n",
    "import astropy.time\n",
    "\n",
    "#import astroquery.simbad\n",
    "\n",
    "import orbitize\n",
    "from orbitize import driver\n",
    "\n",
    "import pandas as pd\n",
    "import bem\n",
    "\n",
    "import exoscene.planet\n",
    "from exoscene.planet import Planet\n",
    "\n",
    "import scipy.optimize\n",
    "\n",
    "#plt.style.use('dark_background')\n",
    "plt.style.use('bmh')\n",
    "matplotlib.rcParams['font.size'] = 16\n",
    "matplotlib.rcParams['font.sans-serif'] = 'Helvetica'"
   ]
  },
  {
   "cell_type": "code",
   "execution_count": 3,
   "metadata": {},
   "outputs": [
    {
     "name": "stdout",
     "output_type": "stream",
     "text": [
      "results\n"
     ]
    }
   ],
   "source": [
    "data_dir = os.path.relpath(\"./results/\")\n",
    "plot_dir = os.path.join(data_dir, \"plots\")\n",
    "print(data_dir)"
   ]
  },
  {
   "cell_type": "markdown",
   "metadata": {},
   "source": [
    "### Select observing epochs to fit"
   ]
  },
  {
   "cell_type": "code",
   "execution_count": 3,
   "metadata": {},
   "outputs": [
    {
     "name": "stdout",
     "output_type": "stream",
     "text": [
      "[0 1 2 3]\n"
     ]
    }
   ],
   "source": [
    "use_epoch_inds = np.arange(last_epoch)\n",
    "num_epochs = len(use_epoch_inds)\n",
    "assert(num_epochs > 0)\n",
    "print(use_epoch_inds)"
   ]
  },
  {
   "cell_type": "markdown",
   "metadata": {},
   "source": [
    "### True planet system parameters, for reference"
   ]
  },
  {
   "cell_type": "code",
   "execution_count": 4,
   "metadata": {},
   "outputs": [
    {
     "name": "stdout",
     "output_type": "stream",
     "text": [
      "72.4528 0.1507 13.802089084311351 pc 0.02870812202744588 pc\n"
     ]
    }
   ],
   "source": [
    "star_name = \"47 UMa\"\n",
    "\n",
    "#customSimbad = astroquery.simbad.Simbad()\n",
    "#customSimbad.add_votable_fields('plx', 'plx_error')\n",
    "#simbad_table = customSimbad.query_object(star_name)\n",
    "#plx = simbad_table['PLX_VALUE'][0]\n",
    "#plx_err = simbad_table['PLX_ERROR'][0]\n",
    "\n",
    "plx = 72.4528\n",
    "plx_err = 0.1507\n",
    "scistar_dist = (1 * u.AU / np.tan(plx * u.mas)).to(u.parsec)\n",
    "scistar_dist_err = ((1 * u.AU / np.tan((plx - plx_err) * u.mas)).to(u.parsec)\n",
    "                    - (1 * u.AU / np.tan((plx + plx_err) * u.mas)).to(u.parsec)) / 2\n",
    "print(plx, plx_err, scistar_dist, scistar_dist_err)"
   ]
  },
  {
   "cell_type": "code",
   "execution_count": 5,
   "metadata": {},
   "outputs": [
    {
     "name": "stderr",
     "output_type": "stream",
     "text": [
      "WARNING: ErfaWarning: ERFA function \"dtf2d\" yielded 1 of \"dubious year (Note 6)\" [astropy._erfa.core]\n"
     ]
    }
   ],
   "source": [
    "system_name = 'official2019v2'\n",
    "\n",
    "wavelens = np.array([575]) * u.nanometer\n",
    "\n",
    "T0 = astropy.time.Time('2026-11-01T00:00:00', format='isot', scale='utc') # first epoch"
   ]
  },
  {
   "cell_type": "markdown",
   "metadata": {},
   "source": [
    "This cell copied directly from the original \"planet_orbit_timeseries\" notebook"
   ]
  },
  {
   "cell_type": "code",
   "execution_count": 6,
   "metadata": {},
   "outputs": [
    {
     "name": "stderr",
     "output_type": "stream",
     "text": [
      "WARNING: ErfaWarning: ERFA function \"utctai\" yielded 1 of \"dubious year (Note 3)\" [astropy._erfa.core]\n"
     ]
    }
   ],
   "source": [
    "if system_name == 'official2019v2':\n",
    "#    data_dir = \"./data_official2019\"\n",
    "\n",
    "    dist = scistar_dist\n",
    "    mass_star = 1.0 * c.M_sun\n",
    "    long_node = 320 * u.deg\n",
    "    long_node_d = 290 * u.deg\n",
    "\n",
    "    sma_b = 2.3 * u.AU\n",
    "    sma_c = 4.24 * u.AU # ~ sma_b * 2.5**(2./3) for 5:2 resonance\n",
    "    sma_d = 7.7 * u.AU # ~ sma_c * 3.0**(2./3) for 3:1 resonance\n",
    "    \n",
    "    mass_b = 0.27 * u.M_jup # approximately Saturn mass\n",
    "    mass_c = 0.94 * u.M_jup\n",
    "    mass_d = 0.32 * u.M_jup\n",
    "\n",
    "    rad_b = 0.8 * u.R_jup\n",
    "    rad_c = 1.0 * u.R_jup\n",
    "    rad_d = 0.8 * u.R_jup\n",
    "    \n",
    "    albedo_b = 0.3\n",
    "    albedo_c = 0.4\n",
    "    albedo_d = 0.5\n",
    "    \n",
    "    P_b = np.sqrt( 4 * np.pi**2 / (c.G * (mass_star + mass_b) ) \n",
    "                  * sma_b**3 ).to(u.year)\n",
    "    P_c = np.sqrt( 4 * np.pi**2 / (c.G * (mass_star + mass_c) ) \n",
    "                  * sma_c**3 ).to(u.year)\n",
    "    P_d = np.sqrt( 4 * np.pi**2 / (c.G * (mass_star + mass_d) ) \n",
    "                  * sma_d**3 ).to(u.year)\n",
    "        \n",
    "    t_peri = -2 * P_c\n",
    "    t_peri_abs = T0 + t_peri\n",
    "\n",
    "    argperi_b = (113 * u.deg - 180 * u.deg - 360 * u.deg * (2 * P_c) / P_b) % (360 * u.deg) # wind back argument of periastron 2 * P_c\n",
    "    argperi_c = 270 * u.deg - 180 * u.deg\n",
    "    argperi_d = (293 * u.deg - 180 * u.deg - 360 * u.deg * (2 * P_c) / P_d) % (360 * u.deg)\n",
    "\n",
    "    planetb = Planet('b', dist=dist, a=sma_b, ecc=0.07, inc=55*u.deg, longnode=long_node,\n",
    "                     argperi=argperi_b, tperi=t_peri, mplan=mass_b,\n",
    "                     radius = rad_b, albedo_wavelens=wavelens, albedo_vals=[albedo_b])\n",
    "    \n",
    "    planetc = Planet('c', dist=dist, a=sma_c, ecc=0.02, inc=57*u.deg, longnode=long_node,\n",
    "                     argperi=argperi_c, tperi=t_peri, mplan=mass_c,\n",
    "                     radius = rad_c, albedo_wavelens=wavelens, albedo_vals=[albedo_c])\n",
    "\n",
    "    planetd = Planet('d', dist=dist, a=sma_d, ecc=0.10, inc=48*u.deg, longnode=long_node_d,\n",
    "                     argperi=argperi_d, tperi=t_peri, mplan=mass_d,\n",
    "                     radius = rad_d, albedo_wavelens=wavelens, albedo_vals=[albedo_d])\n",
    "\n",
    "    planetlist = [planetb, planetc, planetd]\n"
   ]
  },
  {
   "cell_type": "code",
   "execution_count": 7,
   "metadata": {},
   "outputs": [
    {
     "data": {
      "text/plain": [
       "{'name': 'c',\n",
       " 'dist': <Quantity 13.80208908 pc>,\n",
       " 'P': <Quantity 8.72694471 yr>,\n",
       " 'a': <Quantity 4.24 AU>,\n",
       " 'ecc': 0.02,\n",
       " 'tperi': <Quantity -17.45388941 yr>,\n",
       " 'argperi': <Quantity 90. deg>,\n",
       " 'inc': <Quantity 57. deg>,\n",
       " 'longnode': <Quantity 320. deg>,\n",
       " 'albedo_wavelens': <Quantity [575.] nm>,\n",
       " 'albedo_vals': [0.4],\n",
       " 'radius': <Quantity 1. jupiterRad>,\n",
       " 'mstar': <Quantity 1. solMass>,\n",
       " 'mplan': <Quantity 0.94 jupiterMass>}"
      ]
     },
     "execution_count": 7,
     "metadata": {},
     "output_type": "execute_result"
    }
   ],
   "source": [
    "planetc.__dict__"
   ]
  },
  {
   "cell_type": "code",
   "execution_count": 8,
   "metadata": {},
   "outputs": [
    {
     "name": "stdout",
     "output_type": "stream",
     "text": [
      "10.894345309161539 m / s\n"
     ]
    }
   ],
   "source": [
    "true_ecc = planetc.ecc\n",
    "true_inc = planetc.inc\n",
    "true_mtot = planetc.mstar\n",
    "true_sma = planetc.a\n",
    "true_period = planetc.P\n",
    "true_mplan = planetc.mplan\n",
    "true_k = (8.95 * u.centimeter / u.second \n",
    "          / np.sqrt(1 - true_ecc ** 2)\n",
    "          * true_mplan.to(u.M_earth) / u.M_earth * np.sin(true_inc)\n",
    "          * (true_mtot / u.M_sun) ** (-2./3)\n",
    "          * (true_period / u.year) ** (-1./3)).to(u.meter / u.second)\n",
    "print(true_k)"
   ]
  },
  {
   "cell_type": "markdown",
   "metadata": {},
   "source": [
    "### Load astrometry and photometry measurements"
   ]
  },
  {
   "cell_type": "code",
   "execution_count": 9,
   "metadata": {},
   "outputs": [
    {
     "data": {
      "text/html": [
       "<div>\n",
       "<style scoped>\n",
       "    .dataframe tbody tr th:only-of-type {\n",
       "        vertical-align: middle;\n",
       "    }\n",
       "\n",
       "    .dataframe tbody tr th {\n",
       "        vertical-align: top;\n",
       "    }\n",
       "\n",
       "    .dataframe thead th {\n",
       "        text-align: right;\n",
       "    }\n",
       "</style>\n",
       "<table border=\"1\" class=\"dataframe\">\n",
       "  <thead>\n",
       "    <tr style=\"text-align: right;\">\n",
       "      <th></th>\n",
       "      <th>epoch</th>\n",
       "      <th>date (JD)</th>\n",
       "      <th>flux ratio</th>\n",
       "      <th>flux ratio uncertainty</th>\n",
       "      <th>RA offset (mas)</th>\n",
       "      <th>Dec offset (mas)</th>\n",
       "      <th>astrometric uncertainty (mas per axis)</th>\n",
       "    </tr>\n",
       "  </thead>\n",
       "  <tbody>\n",
       "    <tr>\n",
       "      <th>0</th>\n",
       "      <td>1</td>\n",
       "      <td>2461345.50</td>\n",
       "      <td>4.822000e-09</td>\n",
       "      <td>7.662177e-10</td>\n",
       "      <td>129.398949</td>\n",
       "      <td>108.993730</td>\n",
       "      <td>5.7</td>\n",
       "    </tr>\n",
       "    <tr>\n",
       "      <th>1</th>\n",
       "      <td>2</td>\n",
       "      <td>2461400.29</td>\n",
       "      <td>4.171000e-09</td>\n",
       "      <td>6.858936e-10</td>\n",
       "      <td>143.119385</td>\n",
       "      <td>78.468906</td>\n",
       "      <td>6.8</td>\n",
       "    </tr>\n",
       "    <tr>\n",
       "      <th>2</th>\n",
       "      <td>3</td>\n",
       "      <td>2461710.75</td>\n",
       "      <td>3.393000e-09</td>\n",
       "      <td>5.215681e-10</td>\n",
       "      <td>227.900000</td>\n",
       "      <td>-82.800000</td>\n",
       "      <td>5.5</td>\n",
       "    </tr>\n",
       "    <tr>\n",
       "      <th>3</th>\n",
       "      <td>4</td>\n",
       "      <td>2462076.00</td>\n",
       "      <td>1.724000e-09</td>\n",
       "      <td>4.353757e-10</td>\n",
       "      <td>209.298258</td>\n",
       "      <td>-245.436090</td>\n",
       "      <td>8.9</td>\n",
       "    </tr>\n",
       "    <tr>\n",
       "      <th>4</th>\n",
       "      <td>5</td>\n",
       "      <td>2462441.25</td>\n",
       "      <td>3.761000e-10</td>\n",
       "      <td>2.659429e-10</td>\n",
       "      <td>84.321600</td>\n",
       "      <td>-252.964800</td>\n",
       "      <td>20.8</td>\n",
       "    </tr>\n",
       "  </tbody>\n",
       "</table>\n",
       "</div>"
      ],
      "text/plain": [
       "   epoch   date (JD)    flux ratio  flux ratio uncertainty  RA offset (mas)  \\\n",
       "0      1  2461345.50  4.822000e-09            7.662177e-10       129.398949   \n",
       "1      2  2461400.29  4.171000e-09            6.858936e-10       143.119385   \n",
       "2      3  2461710.75  3.393000e-09            5.215681e-10       227.900000   \n",
       "3      4  2462076.00  1.724000e-09            4.353757e-10       209.298258   \n",
       "4      5  2462441.25  3.761000e-10            2.659429e-10        84.321600   \n",
       "\n",
       "   Dec offset (mas)  astrometric uncertainty (mas per axis)  \n",
       "0        108.993730                                     5.7  \n",
       "1         78.468906                                     6.8  \n",
       "2        -82.800000                                     5.5  \n",
       "3       -245.436090                                     8.9  \n",
       "4       -252.964800                                    20.8  "
      ]
     },
     "execution_count": 9,
     "metadata": {},
     "output_type": "execute_result"
    }
   ],
   "source": [
    "planetc_meas_table_fname = os.path.join(data_dir, \"planet_c_in-house.xlsx\")\n",
    "planetc_meas = pd.read_excel(planetc_meas_table_fname, sheet_name=\"reduced\", header=1)\n",
    "planetc_meas"
   ]
  },
  {
   "cell_type": "code",
   "execution_count": 10,
   "metadata": {},
   "outputs": [],
   "source": [
    "dates = planetc_meas['date (JD)'][use_epoch_inds].values\n",
    "raoffs = planetc_meas['RA offset (mas)'][use_epoch_inds].values\n",
    "decoffs = planetc_meas['Dec offset (mas)'][use_epoch_inds].values\n",
    "raoff_errs = planetc_meas['astrometric uncertainty (mas per axis)'][use_epoch_inds].values\n",
    "decoff_errs = raoff_errs\n",
    "fluxratio_meas = planetc_meas['flux ratio'][use_epoch_inds].values\n",
    "fluxratio_meas_errs = planetc_meas['flux ratio uncertainty'][use_epoch_inds].values"
   ]
  },
  {
   "cell_type": "markdown",
   "metadata": {},
   "source": [
    "### Load radvel results"
   ]
  },
  {
   "cell_type": "code",
   "execution_count": 11,
   "metadata": {},
   "outputs": [
    {
     "data": {
      "text/html": [
       "<div>\n",
       "<style scoped>\n",
       "    .dataframe tbody tr th:only-of-type {\n",
       "        vertical-align: middle;\n",
       "    }\n",
       "\n",
       "    .dataframe tbody tr th {\n",
       "        vertical-align: top;\n",
       "    }\n",
       "\n",
       "    .dataframe thead th {\n",
       "        text-align: right;\n",
       "    }\n",
       "</style>\n",
       "<table border=\"1\" class=\"dataframe\">\n",
       "  <thead>\n",
       "    <tr style=\"text-align: right;\">\n",
       "      <th></th>\n",
       "      <th>Unnamed: 0</th>\n",
       "      <th>per1</th>\n",
       "      <th>tc1</th>\n",
       "      <th>w1</th>\n",
       "      <th>e1</th>\n",
       "      <th>k1</th>\n",
       "      <th>per2</th>\n",
       "      <th>tc2</th>\n",
       "      <th>w2</th>\n",
       "      <th>e2</th>\n",
       "      <th>k2</th>\n",
       "    </tr>\n",
       "  </thead>\n",
       "  <tbody>\n",
       "    <tr>\n",
       "      <th>0</th>\n",
       "      <td>0.0225</td>\n",
       "      <td>1251.474849</td>\n",
       "      <td>2.464948e+06</td>\n",
       "      <td>-2.902188</td>\n",
       "      <td>0.001367</td>\n",
       "      <td>3.626360</td>\n",
       "      <td>3153.925574</td>\n",
       "      <td>2.456548e+06</td>\n",
       "      <td>-2.570243</td>\n",
       "      <td>0.011006</td>\n",
       "      <td>10.978032</td>\n",
       "    </tr>\n",
       "    <tr>\n",
       "      <th>1</th>\n",
       "      <td>0.1600</td>\n",
       "      <td>1258.627896</td>\n",
       "      <td>2.464991e+06</td>\n",
       "      <td>-0.938349</td>\n",
       "      <td>0.009451</td>\n",
       "      <td>3.791891</td>\n",
       "      <td>3182.379048</td>\n",
       "      <td>2.456565e+06</td>\n",
       "      <td>-2.107155</td>\n",
       "      <td>0.032025</td>\n",
       "      <td>11.164151</td>\n",
       "    </tr>\n",
       "    <tr>\n",
       "      <th>2</th>\n",
       "      <td>0.5000</td>\n",
       "      <td>1266.317325</td>\n",
       "      <td>2.465038e+06</td>\n",
       "      <td>1.147893</td>\n",
       "      <td>0.031941</td>\n",
       "      <td>3.964905</td>\n",
       "      <td>3224.477783</td>\n",
       "      <td>2.456581e+06</td>\n",
       "      <td>-1.860190</td>\n",
       "      <td>0.056923</td>\n",
       "      <td>11.405191</td>\n",
       "    </tr>\n",
       "    <tr>\n",
       "      <th>3</th>\n",
       "      <td>0.8400</td>\n",
       "      <td>1274.368814</td>\n",
       "      <td>2.465086e+06</td>\n",
       "      <td>2.091532</td>\n",
       "      <td>0.066956</td>\n",
       "      <td>4.134245</td>\n",
       "      <td>3315.337989</td>\n",
       "      <td>2.456598e+06</td>\n",
       "      <td>-1.622766</td>\n",
       "      <td>0.080294</td>\n",
       "      <td>11.722731</td>\n",
       "    </tr>\n",
       "    <tr>\n",
       "      <th>4</th>\n",
       "      <td>0.9775</td>\n",
       "      <td>1283.136958</td>\n",
       "      <td>2.465138e+06</td>\n",
       "      <td>2.934727</td>\n",
       "      <td>0.109002</td>\n",
       "      <td>4.300998</td>\n",
       "      <td>3338.191958</td>\n",
       "      <td>2.456614e+06</td>\n",
       "      <td>-1.198864</td>\n",
       "      <td>0.096945</td>\n",
       "      <td>11.931686</td>\n",
       "    </tr>\n",
       "  </tbody>\n",
       "</table>\n",
       "</div>"
      ],
      "text/plain": [
       "   Unnamed: 0         per1           tc1        w1        e1        k1  \\\n",
       "0      0.0225  1251.474849  2.464948e+06 -2.902188  0.001367  3.626360   \n",
       "1      0.1600  1258.627896  2.464991e+06 -0.938349  0.009451  3.791891   \n",
       "2      0.5000  1266.317325  2.465038e+06  1.147893  0.031941  3.964905   \n",
       "3      0.8400  1274.368814  2.465086e+06  2.091532  0.066956  4.134245   \n",
       "4      0.9775  1283.136958  2.465138e+06  2.934727  0.109002  4.300998   \n",
       "\n",
       "          per2           tc2        w2        e2         k2  \n",
       "0  3153.925574  2.456548e+06 -2.570243  0.011006  10.978032  \n",
       "1  3182.379048  2.456565e+06 -2.107155  0.032025  11.164151  \n",
       "2  3224.477783  2.456581e+06 -1.860190  0.056923  11.405191  \n",
       "3  3315.337989  2.456598e+06 -1.622766  0.080294  11.722731  \n",
       "4  3338.191958  2.456614e+06 -1.198864  0.096945  11.931686  "
      ]
     },
     "execution_count": 11,
     "metadata": {},
     "output_type": "execute_result"
    }
   ],
   "source": [
    "radvel_result_table_fname = os.path.join(data_dir, \"radvel_post.csv\")\n",
    "radvel_result = pd.read_csv(radvel_result_table_fname)\n",
    "radvel_result"
   ]
  },
  {
   "cell_type": "markdown",
   "metadata": {},
   "source": [
    "### Load orbitize results"
   ]
  },
  {
   "cell_type": "code",
   "execution_count": 12,
   "metadata": {},
   "outputs": [
    {
     "data": {
      "text/html": [
       "<div>\n",
       "<style scoped>\n",
       "    .dataframe tbody tr th:only-of-type {\n",
       "        vertical-align: middle;\n",
       "    }\n",
       "\n",
       "    .dataframe tbody tr th {\n",
       "        vertical-align: top;\n",
       "    }\n",
       "\n",
       "    .dataframe thead th {\n",
       "        text-align: right;\n",
       "    }\n",
       "</style>\n",
       "<table border=\"1\" class=\"dataframe\">\n",
       "  <thead>\n",
       "    <tr style=\"text-align: right;\">\n",
       "      <th></th>\n",
       "      <th>sma</th>\n",
       "      <th>inc</th>\n",
       "      <th>ecc</th>\n",
       "      <th>tau</th>\n",
       "      <th>aop</th>\n",
       "      <th>pan</th>\n",
       "      <th>mtot</th>\n",
       "    </tr>\n",
       "  </thead>\n",
       "  <tbody>\n",
       "    <tr>\n",
       "      <th>0</th>\n",
       "      <td>4.129993</td>\n",
       "      <td>50.429143</td>\n",
       "      <td>0.030632</td>\n",
       "      <td>0.615587</td>\n",
       "      <td>21.266052</td>\n",
       "      <td>308.357588</td>\n",
       "      <td>0.933568</td>\n",
       "    </tr>\n",
       "    <tr>\n",
       "      <th>1</th>\n",
       "      <td>4.226288</td>\n",
       "      <td>52.772483</td>\n",
       "      <td>0.067422</td>\n",
       "      <td>0.685948</td>\n",
       "      <td>53.579900</td>\n",
       "      <td>312.844398</td>\n",
       "      <td>0.973821</td>\n",
       "    </tr>\n",
       "    <tr>\n",
       "      <th>2</th>\n",
       "      <td>4.289437</td>\n",
       "      <td>54.985325</td>\n",
       "      <td>0.097764</td>\n",
       "      <td>0.734348</td>\n",
       "      <td>76.897347</td>\n",
       "      <td>317.305290</td>\n",
       "      <td>0.999948</td>\n",
       "    </tr>\n",
       "    <tr>\n",
       "      <th>3</th>\n",
       "      <td>4.357518</td>\n",
       "      <td>56.979564</td>\n",
       "      <td>0.123926</td>\n",
       "      <td>0.770105</td>\n",
       "      <td>93.920603</td>\n",
       "      <td>322.153425</td>\n",
       "      <td>1.025757</td>\n",
       "    </tr>\n",
       "    <tr>\n",
       "      <th>4</th>\n",
       "      <td>4.454844</td>\n",
       "      <td>59.040787</td>\n",
       "      <td>0.157820</td>\n",
       "      <td>0.816507</td>\n",
       "      <td>113.581122</td>\n",
       "      <td>327.361203</td>\n",
       "      <td>1.062909</td>\n",
       "    </tr>\n",
       "  </tbody>\n",
       "</table>\n",
       "</div>"
      ],
      "text/plain": [
       "        sma        inc       ecc       tau         aop         pan      mtot\n",
       "0  4.129993  50.429143  0.030632  0.615587   21.266052  308.357588  0.933568\n",
       "1  4.226288  52.772483  0.067422  0.685948   53.579900  312.844398  0.973821\n",
       "2  4.289437  54.985325  0.097764  0.734348   76.897347  317.305290  0.999948\n",
       "3  4.357518  56.979564  0.123926  0.770105   93.920603  322.153425  1.025757\n",
       "4  4.454844  59.040787  0.157820  0.816507  113.581122  327.361203  1.062909"
      ]
     },
     "execution_count": 12,
     "metadata": {},
     "output_type": "execute_result"
    }
   ],
   "source": [
    "apply_RV_priors = True\n",
    "total_orbits = 40000\n",
    "orbitize_result_table_fname = os.path.join(\n",
    "        data_dir,\n",
    "        \"planet_c_in-house_orbitize_{:d}epochs_RVpriors{:}_totorb{:06d}.csv\".format(\n",
    "        num_epochs, apply_RV_priors, total_orbits))\n",
    "\n",
    "orbitize_result = pd.read_csv(orbitize_result_table_fname)\n",
    "orbitize_result"
   ]
  },
  {
   "cell_type": "markdown",
   "metadata": {},
   "source": [
    "### Define best estimates and lower/upper bounds on relevant planet parameters"
   ]
  },
  {
   "cell_type": "code",
   "execution_count": 13,
   "metadata": {},
   "outputs": [
    {
     "name": "stdout",
     "output_type": "stream",
     "text": [
      "10.978032336304905 m / s 11.405190630737517 m / s 11.931686280919662 m / s\n",
      "0.030632236295217392 0.09776367984465373 0.15782044992392086\n",
      "50.42914342867686 deg 54.98532511422442 deg 59.04078674153968 deg\n",
      "2973.5440625192664 d 3244.9664863973767 d 3554.4652781754776 d\n"
     ]
    }
   ],
   "source": [
    "# 68% confidence interval\n",
    "# min_ind = 1\n",
    "# max_ind = 3\n",
    "# 95% confidence interval\n",
    "min_ind = 0\n",
    "max_ind = 4\n",
    "\n",
    "k_min = radvel_result['k2'][min_ind] * u.meter / u.second\n",
    "k_med = radvel_result['k2'][2] * u.meter / u.second\n",
    "k_max = radvel_result['k2'][max_ind] * u.meter / u.second\n",
    "\n",
    "sma_min = orbitize_result['sma'][min_ind] * u.AU\n",
    "sma_med = orbitize_result['sma'][2] * u.AU\n",
    "sma_max = orbitize_result['sma'][max_ind] * u.AU\n",
    "\n",
    "ecc_min = orbitize_result['ecc'][min_ind]\n",
    "ecc_med = orbitize_result['ecc'][2]\n",
    "ecc_max = orbitize_result['ecc'][max_ind]\n",
    "\n",
    "inc_min = orbitize_result['inc'][min_ind] * u.deg\n",
    "inc_med = orbitize_result['inc'][2] * u.deg\n",
    "inc_max = orbitize_result['inc'][max_ind] * u.deg\n",
    "\n",
    "aop_min = orbitize_result['aop'][min_ind] * u.deg\n",
    "aop_med = orbitize_result['aop'][2] * u.deg\n",
    "aop_max = orbitize_result['aop'][max_ind] * u.deg\n",
    "\n",
    "pan_min = orbitize_result['pan'][min_ind] * u.deg\n",
    "pan_med = orbitize_result['pan'][2] * u.deg\n",
    "pan_max = orbitize_result['pan'][max_ind] * u.deg\n",
    "\n",
    "tau_min = orbitize_result['tau'][min_ind]\n",
    "tau_med = orbitize_result['tau'][2]\n",
    "tau_max = orbitize_result['tau'][max_ind]\n",
    "\n",
    "mtot_min = orbitize_result['mtot'][min_ind] * u.M_sun\n",
    "mtot_med = orbitize_result['mtot'][2] * u.M_sun\n",
    "mtot_max = orbitize_result['mtot'][max_ind] * u.M_sun\n",
    "\n",
    "period_min = np.sqrt( 4 * np.pi**2 / (c.G * mtot_max)\n",
    "                        * sma_min**3 ).to(u.day)\n",
    "period_med = np.sqrt( 4 * np.pi**2 / (c.G * mtot_med)\n",
    "                        * sma_med**3 ).to(u.day)\n",
    "period_max = np.sqrt( 4 * np.pi**2 / (c.G * mtot_min)\n",
    "                        * sma_max**3 ).to(u.day)\n",
    "\n",
    "print(k_min, k_med, k_max)\n",
    "print(ecc_min, ecc_med, ecc_max)\n",
    "print(inc_min, inc_med, inc_max)\n",
    "print(period_min, period_med, period_max)"
   ]
  },
  {
   "cell_type": "markdown",
   "metadata": {},
   "source": [
    "#### Offset AOP and PAN to match the old scene convention"
   ]
  },
  {
   "cell_type": "code",
   "execution_count": 34,
   "metadata": {},
   "outputs": [
    {
     "name": "stdout",
     "output_type": "stream",
     "text": [
      "308.3575884280008 deg 317.305290085146 deg 327.3612028709839 deg\n",
      "21.266052421821247 deg 76.89734741818003 deg 113.58112163600666 deg\n"
     ]
    }
   ],
   "source": [
    "# old ascending node at planet approach, 0 deg at +x axis\n",
    "#longnode_min = (pan_min + 270 * u.deg) % (360 * u.deg)\n",
    "#longnode_med = (pan_med + 270 * u.deg) % (360 * u.deg)\n",
    "#longnode_max = (pan_max + 270 * u.deg) % (360 * u.deg)\n",
    "longnode_min = pan_min\n",
    "longnode_med = pan_med\n",
    "longnode_max = pan_max\n",
    "\n",
    "# argument of periastron measured from old ascending node\n",
    "#argperi_min = (aop_min + 180 * u.deg) % (360 * u.deg)\n",
    "#argperi_med = (aop_med + 180 * u.deg) % (360 * u.deg)\n",
    "#argperi_max = (aop_max + 180 * u.deg) % (360 * u.deg)\n",
    "argperi_min = aop_min\n",
    "argperi_med = aop_med\n",
    "argperi_max = aop_max\n",
    "\n",
    "print(longnode_min, longnode_med, longnode_max)\n",
    "print(argperi_min, argperi_med, argperi_max)"
   ]
  },
  {
   "cell_type": "markdown",
   "metadata": {},
   "source": [
    "#### Get periastron time from orbitize $\\tau$"
   ]
  },
  {
   "cell_type": "code",
   "execution_count": 35,
   "metadata": {},
   "outputs": [
    {
     "name": "stdout",
     "output_type": "stream",
     "text": [
      "61231.93385190609\n",
      "-0.30955824255690684 yr\n",
      "-20.30622673362115 yr -18.078026340557603 yr -16.468637200798234 yr\n",
      "-17.453889414202912 yr\n"
     ]
    },
    {
     "name": "stderr",
     "output_type": "stream",
     "text": [
      "WARNING: ErfaWarning: ERFA function \"taiutc\" yielded 1 of \"dubious year (Note 4)\" [astropy._erfa.core]\n"
     ]
    }
   ],
   "source": [
    "# Orbitize defines tau as orbit fraction from Jan 2020\n",
    "orb_ref_epoch = astropy.time.Time(58849, format='mjd')\n",
    "\n",
    "orb_tperi_med = orb_ref_epoch + period_med * tau_med\n",
    "print(orb_tperi_med)\n",
    "\n",
    "# The old scene defined the periastron as an offset w.r.t. the first observing epoch\n",
    "tperi_med = (orb_tperi_med - T0).to(u.year)\n",
    "print(tperi_med)\n",
    "\n",
    "# Repeat with date offset back by 2 orbit periods\n",
    "tperi_offset_min = (orb_ref_epoch + period_max * (tau_min - 2) - T0).to(u.year)\n",
    "tperi_offset_med = (orb_ref_epoch + period_med * (tau_med - 2) - T0).to(u.year)\n",
    "tperi_offset_max = (orb_ref_epoch + period_min * (tau_max - 2) - T0).to(u.year)\n",
    "\n",
    "print(tperi_offset_min, tperi_offset_med, tperi_offset_max)\n",
    "# Compare against true value in original scene\n",
    "print(planetc.tperi)"
   ]
  },
  {
   "cell_type": "markdown",
   "metadata": {},
   "source": [
    "### Estimate planet mass from RV semi-amplitude, M_tot, P, sin(i), and ecc "
   ]
  },
  {
   "cell_type": "markdown",
   "metadata": {},
   "source": [
    "Use formula from Fischer et al., \"Exoplanet Detection Techniques\", https://arxiv.org/abs/1505.06869"
   ]
  },
  {
   "cell_type": "code",
   "execution_count": 36,
   "metadata": {},
   "outputs": [
    {
     "name": "stdout",
     "output_type": "stream",
     "text": [
      "0.8539629849774285 jupiterMass 1.0090351970886862 jupiterMass 1.209423152659304 jupiterMass\n"
     ]
    }
   ],
   "source": [
    "mplan_min = ((k_min.to(u.cm / u.second) / (8.95 * u.cm / u.second)\n",
    "             * np.sqrt(1 - ecc_max ** 2) / np.sin(inc_max)\n",
    "             * (mtot_min.to(u.M_sun) / u.M_sun) ** (2./3) \n",
    "             * (period_min.to(u.year) / u.year) ** (1./3))\n",
    "             * u.M_earth).to(u.M_jup)\n",
    "\n",
    "mplan_med = ((k_med.to(u.cm / u.second) / (8.95 * u.cm / u.second)\n",
    "             * np.sqrt(1 - ecc_med ** 2) / np.sin(inc_med)\n",
    "             * (mtot_med.to(u.M_sun) / u.M_sun) ** (2./3)\n",
    "             * (period_med.to(u.year) / u.year) ** (1./3))\n",
    "             * u.M_earth).to(u.M_jup)\n",
    "\n",
    "mplan_max = ((k_max.to(u.cm / u.second) / (8.95 * u.cm / u.second)\n",
    "             * np.sqrt(1 - ecc_min ** 2) / np.sin(inc_min)\n",
    "             * (mtot_max.to(u.M_sun) / u.M_sun) ** (2./3) \n",
    "             * (period_max.to(u.year) / u.year) ** (1./3))\n",
    "             * u.M_earth).to(u.M_jup)\n",
    "\n",
    "print(mplan_min, mplan_med, mplan_max)"
   ]
  },
  {
   "cell_type": "markdown",
   "metadata": {},
   "source": [
    "### Estimate the planet equilibrium temperature"
   ]
  },
  {
   "cell_type": "markdown",
   "metadata": {},
   "source": [
    "Apply Eqn 5 from Laughlin & Lissauer (2015), https://arxiv.org/abs/1501.05685"
   ]
  },
  {
   "cell_type": "markdown",
   "metadata": {},
   "source": [
    "Stellar parameters from NASA Exoplanet Archive,<br>https://exoplanetarchive.ipac.caltech.edu/applications/Inventory/search.html"
   ]
  },
  {
   "cell_type": "code",
   "execution_count": 37,
   "metadata": {},
   "outputs": [
    {
     "name": "stdout",
     "output_type": "stream",
     "text": [
      "95.9122455512341 K 128.22940520612877 K 157.861484737579 K\n"
     ]
    }
   ],
   "source": [
    "Rstar_med = 1.21 * u.R_sun # 1.2075405 +0.0497083/-0.0470408, Gaia DR2\n",
    "Rstar_min = Rstar_med - 0.05 * u.R_sun\n",
    "Rstar_max = Rstar_med + 0.05 * u.R_sun\n",
    "\n",
    "Tstar_med = 5947 * u.K # 5947.000 +119.333/-118.750, Gaia DR2\n",
    "Tstar_min = Tstar_med - 119 * u.K\n",
    "Tstar_max = Tstar_med + 119 * u.K\n",
    "\n",
    "# Bond albedo\n",
    "bond_A_min = 0.1 # Mercury \n",
    "bond_A_med = 0.5 # Jupiter\n",
    "bond_A_max = 0.8 # Venus\n",
    "\n",
    "Teq_med = (np.sqrt(Rstar_med / (2 * sma_med)) / (1 - ecc_med ** 2) ** (1./8)\n",
    "           * Tstar_med * (1 - bond_A_med) ** (1./4)).to(u.K)\n",
    "\n",
    "Teq_min = (np.sqrt(Rstar_min / (2 * sma_max)) / (1 - ecc_min ** 2) ** (1./8)\n",
    "           * Tstar_min * (1 - bond_A_max) ** (1./4)).to(u.K)\n",
    "\n",
    "Teq_max = (np.sqrt(Rstar_max / (2 * sma_min)) / (1 - ecc_max ** 2) ** (1./8)\n",
    "           * Tstar_max   * (1 - bond_A_min) ** (1./4)).to(u.K)\n",
    "\n",
    "print(Teq_min, Teq_med, Teq_max)"
   ]
  },
  {
   "cell_type": "markdown",
   "metadata": {},
   "source": [
    "### Estimate planet radius from the BEM mass-radius model"
   ]
  },
  {
   "cell_type": "code",
   "execution_count": 38,
   "metadata": {},
   "outputs": [
    {
     "name": "stdout",
     "output_type": "stream",
     "text": [
      "\n",
      "Loading exoplanet dataset and solar system planets:\n",
      "Converting planet's mass/radius in Earth masses/radii\n",
      "\n",
      "Kepler 10 c changing mass\n",
      "5466.6485934284065\n",
      "17.2 \n",
      "\n",
      "Computing planet's equilibrium temperature\n",
      "Computing stellar luminosity\n",
      "\n",
      "Number of planets:  509\n",
      "\n",
      "                     mass  semi_major_axis  star_luminosity      temp_eq  \\\n",
      "51 Peg b      149.379351         0.052000         1.620586  1378.334390   \n",
      "55 Cnc e        8.590902         0.015439         0.628520  1996.404187   \n",
      "BD+20 594 b    16.304597         0.241000         0.854644   545.598795   \n",
      "BD-10 3166 b  146.201067         0.046000         2.232327  1587.640134   \n",
      "CoRoT-1 b     327.363259         0.025400         1.740392  2007.615709   \n",
      "\n",
      "              eccentricity  star_metallicity  star_radius  star_teff  \\\n",
      "51 Peg b            0.0069              0.20        1.266     5793.0   \n",
      "55 Cnc e            0.0280              0.31        0.980     5196.0   \n",
      "BD+20 594 b         0.0000             -0.15        0.928     5766.0   \n",
      "BD-10 3166 b        0.0104              0.50        1.710     5400.0   \n",
      "CoRoT-1 b           0.0000              0.06        1.110     6298.0   \n",
      "\n",
      "              star_mass     radius  \n",
      "51 Peg b          1.110  21.297063  \n",
      "55 Cnc e          1.015   1.947000  \n",
      "BD+20 594 b       0.961   2.230587  \n",
      "BD-10 3166 b      0.990  11.545250  \n",
      "CoRoT-1 b         0.950  16.701381  \n",
      "Selecting features:\n",
      "['mass',\n",
      " 'semi_major_axis',\n",
      " 'temp_eq',\n",
      " 'star_luminosity',\n",
      " 'star_radius',\n",
      " 'star_teff',\n",
      " 'star_mass',\n",
      " 'radius']\n"
     ]
    }
   ],
   "source": [
    "# Load exoplanet and solar system planets dataset\n",
    "dataset = bem.load_dataset()\n",
    "# Plot the dataset radius as a function of mass and equilibrium temperature\n",
    "#bem.plot_dataset(dataset)"
   ]
  },
  {
   "cell_type": "code",
   "execution_count": 39,
   "metadata": {},
   "outputs": [
    {
     "name": "stdout",
     "output_type": "stream",
     "text": [
      "\n",
      "HATS-12 b removes from test set\n",
      "\n",
      "\n",
      "K2-95 b removes from training set\n",
      "\n",
      "\n",
      "Kepler-11 g removes from training set\n",
      "\n",
      "Loading random forest model:  /Users/nzimmerm/anaconda3/envs/orbitize/published_output/r2_0.84_2019-07-23_17:05.pkl\n",
      "Test set, R-2 score: 0.872\n",
      "\n",
      "Test set, Pearson correlation: 0.934\n",
      "Root mean squared errors\n",
      "Train set:  1.0712067436555983 \n",
      "Test set:   1.8217885230986104\n",
      "\n",
      "Feature importance\n",
      "mass :  \t 0.6549413709632546\n",
      "semi_major_axis :  \t 0.020966423275317517\n",
      "temp_eq :  \t 0.20624632338949767\n",
      "star_luminosity :  \t 0.024778647412328332\n",
      "star_radius :  \t 0.025302075323870576\n",
      "star_teff :  \t 0.017188989152312366\n",
      "star_mass :  \t 0.050576170483418975\n"
     ]
    }
   ],
   "source": [
    "# Build the random forest model and predict radius of the dataset\n",
    "regr, y_test_predict, _, train_test_sets = bem.random_forest_regression(dataset)"
   ]
  },
  {
   "cell_type": "markdown",
   "metadata": {},
   "source": [
    "#### N.B. The planet radius is a relatively shallow function of mass in the regime of planet c, so with a lower bound > 0.3 M_jup, the planet mass uncertainty alone translates to very small uncertainty in the radius predicted by the BEM model."
   ]
  },
  {
   "cell_type": "code",
   "execution_count": 40,
   "metadata": {},
   "outputs": [
    {
     "name": "stdout",
     "output_type": "stream",
     "text": [
      "\n",
      "Predicting radius for planet:\n",
      "\n",
      "Planet with error bars\n",
      " mass                      320.700049\n",
      "mass_error                 56.487669\n",
      "star_luminosity             1.643056\n",
      "star_luminosity_error       0.189034\n",
      "temp_eq                   152.491321\n",
      "temp_eq_error               5.252215\n",
      "semi_major_axis             4.289437\n",
      "semi_major_axis_error       0.162425\n",
      "eccentricity                0.097764\n",
      "eccentricity_error          0.030028\n",
      "star_radius                 1.210000\n",
      "star_radius_error           0.050000\n",
      "star_teff                5947.000000\n",
      "star_teff_error           119.000000\n",
      "star_mass                   0.999948\n",
      "star_mass_error             0.064671\n",
      "Name: orbitize planet c, dtype: float64\n",
      "Predicted radius (Rearth):  [10.70895631] +- 0.5033017578150235\n",
      "Radius:  10.708956309250919 +- 0.5033017578150235\n",
      "0.9104890798203056 jupiterRad 0.9553907323341533 jupiterRad 1.000292384848001 jupiterRad\n"
     ]
    }
   ],
   "source": [
    "# Predict a new radius                              with error\n",
    "# my_planet = [planetary_mass (Me, Mj)              or  my_planet = [planetary_mass, planetary mass error,\n",
    "#              semi major axis (AU),                                semi major axis, semi major axis error,\n",
    "#              eccentricity,                                        eccentricity, eccentricity error,\n",
    "#              stellar radius (Rsun),                               stellar radius, stellar radius error,\n",
    "#              stellar effective temperature (K),                   stellar effective temperature, teff error,\n",
    "#              stellar mass (Msun)]                                 stellar mass (Msun), stellar mass error]\n",
    "\n",
    "radius, my_pred_planet = bem.predict_radius(\n",
    "        my_planet=np.array([[mplan_med.value, (mplan_max - mplan_min).value / 2,\n",
    "                             sma_med.value, (sma_max - sma_min).value / 2,\n",
    "                             ecc_med, (ecc_max - ecc_med) / 2,\n",
    "                             Rstar_med.value, (Rstar_max - Rstar_min).value / 2,\n",
    "                             Tstar_med.value, (Tstar_max - Tstar_min).value / 2,\n",
    "                             mtot_med.value, (mtot_max - mtot_min).value / 2]]),\n",
    "        my_name=np.array(['orbitize planet c']),\n",
    "        regr=regr,\n",
    "        jupiter_mass=True,\n",
    "        error_bar=True)\n",
    "\n",
    "print('Radius: ', radius[0][0], '+-', radius[1])\n",
    "\n",
    "Rplan_bem_med = (radius[0][0] * u.R_earth).to(u.R_jup)\n",
    "Rplan_bem_min = Rplan_bem_med - (radius[1] * u.R_earth).to(u.R_jup)\n",
    "Rplan_bem_max = Rplan_bem_med + (radius[1] * u.R_earth).to(u.R_jup)\n",
    "print(Rplan_bem_min, Rplan_bem_med, Rplan_bem_max)"
   ]
  },
  {
   "cell_type": "markdown",
   "metadata": {},
   "source": [
    "### Estimate planet radius from Chen & Kipping mass-radius model (disfavored due to lack of temperature consideration)"
   ]
  },
  {
   "cell_type": "markdown",
   "metadata": {},
   "source": [
    "The forecaster code (https://github.com/chenjj2/forecaster) only runs in Python 2.7, so I ran it exterernally and simply copy here the results of applying the mass and confidence interval from above."
   ]
  },
  {
   "cell_type": "markdown",
   "metadata": {},
   "source": [
    "Rmedian, Rplus, Rminus = mr.Mstat2R(mean=1.01, std=0.1, unit='Jupiter', sample_size=10000)  \n",
    "In [26]: print(Rmedian, Rplus, Rminus)  \n",
    "(1.2218265721462764, 0.22161018474805827, 0.19074400662509006)  "
   ]
  },
  {
   "cell_type": "code",
   "execution_count": 41,
   "metadata": {},
   "outputs": [
    {
     "data": {
      "text/latex": [
       "$13.674956 \\; \\mathrm{R_{\\oplus}}$"
      ],
      "text/plain": [
       "<Quantity 13.67495649 earthRad>"
      ]
     },
     "execution_count": 41,
     "metadata": {},
     "output_type": "execute_result"
    }
   ],
   "source": [
    "Rplan_forecaster_med = 1.22 * u.R_jup\n",
    "Rplan_forecaster_min = Rplan_forecaster_med - 0.19 * u.R_jup\n",
    "Rplan_forecaster_max = Rplan_forecaster_med + 0.22 * u.R_jup\n",
    "\n",
    "Rplan_forecaster_med.to(u.R_earth)"
   ]
  },
  {
   "cell_type": "markdown",
   "metadata": {},
   "source": [
    "### Set photometry dates w.r.t. first epoch"
   ]
  },
  {
   "cell_type": "code",
   "execution_count": 42,
   "metadata": {},
   "outputs": [
    {
     "name": "stdout",
     "output_type": "stream",
     "text": [
      "[<Quantity 0. yr>, <Quantity 0.15000684 yr>, <Quantity 1. yr>, <Quantity 2. yr>]\n"
     ]
    },
    {
     "name": "stderr",
     "output_type": "stream",
     "text": [
      "WARNING: ErfaWarning: ERFA function \"utctai\" yielded 1 of \"dubious year (Note 3)\" [astropy._erfa.core]\n"
     ]
    }
   ],
   "source": [
    "dates_jd = [astropy.time.Time(date, format='jd') for date in dates]\n",
    "delta_dates = [(date_jd - T0).to(u.year) for date_jd in dates_jd]\n",
    "print(delta_dates)"
   ]
  },
  {
   "cell_type": "code",
   "execution_count": 43,
   "metadata": {},
   "outputs": [],
   "source": [
    "tseries, delx, dely, beta, phasefunc, orad = planetc.compute_ephem(tarray = delta_dates)\n",
    "fluxratio_true = phasefunc * planetc.albedo_vals[0] * (planetc.radius.to(u.AU) / orad)**2"
   ]
  },
  {
   "cell_type": "code",
   "execution_count": 44,
   "metadata": {},
   "outputs": [
    {
     "data": {
      "text/plain": [
       "[<Quantity 0. yr>,\n",
       " <Quantity 0.15000684 yr>,\n",
       " <Quantity 1. yr>,\n",
       " <Quantity 2. yr>]"
      ]
     },
     "execution_count": 44,
     "metadata": {},
     "output_type": "execute_result"
    }
   ],
   "source": [
    "tseries"
   ]
  },
  {
   "cell_type": "code",
   "execution_count": 45,
   "metadata": {},
   "outputs": [
    {
     "data": {
      "text/latex": [
       "$[4.5411777 \\times 10^{-9},~4.5172256 \\times 10^{-9},~3.6048464 \\times 10^{-9},~1.8240601 \\times 10^{-9}] \\; \\mathrm{}$"
      ],
      "text/plain": [
       "<Quantity [4.54117774e-09, 4.51722555e-09, 3.60484639e-09, 1.82406011e-09]>"
      ]
     },
     "execution_count": 45,
     "metadata": {},
     "output_type": "execute_result"
    }
   ],
   "source": [
    "fluxratio_true"
   ]
  },
  {
   "cell_type": "markdown",
   "metadata": {},
   "source": [
    "#### $\\chi^2$ photometric fit metric"
   ]
  },
  {
   "cell_type": "code",
   "execution_count": 46,
   "metadata": {},
   "outputs": [
    {
     "data": {
      "text/latex": [
       "$2.5180558 \\times 10^{-10} \\; \\mathrm{}$"
      ],
      "text/plain": [
       "<Quantity 2.51805575e-10>"
      ]
     },
     "execution_count": 46,
     "metadata": {},
     "output_type": "execute_result"
    }
   ],
   "source": [
    "np.sqrt(np.mean((fluxratio_meas - fluxratio_true) ** 2))"
   ]
  },
  {
   "cell_type": "markdown",
   "metadata": {},
   "source": [
    "#### $\\chi^2$ for zero-value albedo model"
   ]
  },
  {
   "cell_type": "code",
   "execution_count": 47,
   "metadata": {},
   "outputs": [
    {
     "data": {
      "text/plain": [
       "3.712598483542221e-09"
      ]
     },
     "execution_count": 47,
     "metadata": {},
     "output_type": "execute_result"
    }
   ],
   "source": [
    "np.sqrt(np.mean((fluxratio_meas) ** 2))"
   ]
  },
  {
   "cell_type": "markdown",
   "metadata": {},
   "source": [
    "## Solve for albedo"
   ]
  },
  {
   "cell_type": "markdown",
   "metadata": {},
   "source": [
    "#### Method\n",
    "\n",
    "- Create a planet object with the best fit orbitize parameters\n",
    "\n",
    "- Solve for planet mass\n",
    "\n",
    "- Apply mass-radius relationship to estimate radius\n",
    "\n",
    "- Define least-squares cost function to relate measured flux ratio time series to the flux ratio time series expected for a planet with the estimated orbit and radius"
   ]
  },
  {
   "cell_type": "code",
   "execution_count": 48,
   "metadata": {},
   "outputs": [],
   "source": [
    "def fluxratio_chi2_func(albedo, planet, times, fluxratio_meas):    \n",
    "    tseries, delx, dely, beta, phasefunc, orad = planet.compute_ephem(tarray = times)\n",
    "    planet.albedo_vals = [albedo]\n",
    "    fluxratio_predic = phasefunc * planet.albedo_vals[0] * (planet.radius.to(u.AU) / orad)**2\n",
    "    \n",
    "    return np.sqrt(np.mean((fluxratio_predic - fluxratio_meas) ** 2))"
   ]
  },
  {
   "cell_type": "code",
   "execution_count": 49,
   "metadata": {},
   "outputs": [],
   "source": [
    "# Use median values of all parameters\n",
    "planet_med = Planet('c median', dist = scistar_dist, a = sma_med, ecc = ecc_med,\n",
    "                    inc = inc_med, longnode = longnode_med, argperi=argperi_med,\n",
    "                    tperi = tperi_offset_med, mplan = mplan_med, mstar=mtot_med,\n",
    "                    radius = Rplan_bem_med, albedo_wavelens=wavelens)\n",
    "\n",
    "# First test, just apply the bounds in eccentricity, inclination, and planet radius that minimize/maximize albedo\n",
    "\n",
    "# Use bounds of SMA and radius parameters to estimate albedo lower bound\n",
    "#planet_minalbedo = scene_utils.planet('c min albedo', dist = scistar_dist, a = sma_med, ecc = ecc_max,\n",
    "#                                      inc = inc_max, longnode = longnode_med, argperi=argperi_med,\n",
    "#                                      tperi = tperi_offset_med, mplan = mplan_med, mstar=mtot_med,\n",
    "#                                      radius = Rplan_bem_max, albedo_wavelens=wavelens)\n",
    "\n",
    "# Use bounds of SMA and radius parameters to estimate albedo upper bound\n",
    "#planet_maxalbedo = scene_utils.planet('c max albedo', dist = scistar_dist, a = sma_med, ecc = ecc_min,\n",
    "#                                      inc = inc_min, longnode = longnode_med, argperi=argperi_med,\n",
    "#                                      tperi = tperi_offset_med, mplan = mplan_med, mstar=mtot_med,\n",
    "#                                      radius = Rplan_bem_min, albedo_wavelens=wavelens)\n",
    "\n",
    "# Now, apply the bounds in SMA, arg of periastron, time of periastron, and Mtot.\n",
    "\n",
    "planet_minalbedo = Planet('c median', dist = scistar_dist, a = sma_min, ecc = ecc_max,\n",
    "                          inc = inc_max, longnode = longnode_med, argperi = argperi_max,\n",
    "                          tperi = tperi_offset_max, mplan = mplan_med, mstar = mtot_max,\n",
    "                          radius = Rplan_bem_max, albedo_wavelens=wavelens)\n",
    "\n",
    "planet_maxalbedo = Planet('c median', dist = scistar_dist, a = sma_max, ecc = ecc_min,\n",
    "                          inc = inc_min, longnode = longnode_med, argperi = argperi_min,\n",
    "                          tperi = tperi_offset_min, mplan = mplan_med, mstar = mtot_min,\n",
    "                          radius = Rplan_bem_min, albedo_wavelens=wavelens)"
   ]
  },
  {
   "cell_type": "code",
   "execution_count": 50,
   "metadata": {},
   "outputs": [
    {
     "data": {
      "text/plain": [
       "(<Quantity 0.91048908 jupiterRad>,\n",
       " <Quantity 0.95539073 jupiterRad>,\n",
       " <Quantity 1.00029238 jupiterRad>)"
      ]
     },
     "execution_count": 50,
     "metadata": {},
     "output_type": "execute_result"
    }
   ],
   "source": [
    "Rplan_bem_min, Rplan_bem_med, Rplan_bem_max"
   ]
  },
  {
   "cell_type": "code",
   "execution_count": 51,
   "metadata": {},
   "outputs": [
    {
     "data": {
      "text/plain": [
       "(<Quantity 4.12999346 AU>, <Quantity 4.28943705 AU>, <Quantity 4.45484376 AU>)"
      ]
     },
     "execution_count": 51,
     "metadata": {},
     "output_type": "execute_result"
    }
   ],
   "source": [
    "sma_min, sma_med, sma_max"
   ]
  },
  {
   "cell_type": "code",
   "execution_count": 52,
   "metadata": {},
   "outputs": [],
   "source": [
    "albedo_bounds = [0.0, 1.0]\n",
    "\n",
    "res_med_planet = scipy.optimize.minimize_scalar(fluxratio_chi2_func,\n",
    "                                                args = (planet_med, delta_dates, fluxratio_meas),\n",
    "                                                bounds = albedo_bounds, method = 'bounded')\n",
    "\n",
    "res_minalbedo = scipy.optimize.minimize_scalar(fluxratio_chi2_func,\n",
    "                                               args = (planet_minalbedo, delta_dates,\n",
    "                                                       fluxratio_meas - fluxratio_meas_errs),\n",
    "                                               bounds = albedo_bounds, method = 'bounded')\n",
    "\n",
    "res_maxalbedo = scipy.optimize.minimize_scalar(fluxratio_chi2_func,\n",
    "                                               args = (planet_maxalbedo, delta_dates,\n",
    "                                                       fluxratio_meas + fluxratio_meas_errs),\n",
    "                                               bounds = albedo_bounds, method = 'bounded')"
   ]
  },
  {
   "cell_type": "code",
   "execution_count": 53,
   "metadata": {},
   "outputs": [
    {
     "data": {
      "text/plain": [
       "     fun: <Quantity 3.11833104e-10>\n",
       " message: 'Solution found.'\n",
       "    nfev: 10\n",
       "  status: 0\n",
       " success: True\n",
       "       x: 0.40165361943327926"
      ]
     },
     "execution_count": 53,
     "metadata": {},
     "output_type": "execute_result"
    }
   ],
   "source": [
    "res_med_planet"
   ]
  },
  {
   "cell_type": "markdown",
   "metadata": {},
   "source": [
    "#### Best-fit albedo values"
   ]
  },
  {
   "cell_type": "code",
   "execution_count": 54,
   "metadata": {},
   "outputs": [
    {
     "name": "stdout",
     "output_type": "stream",
     "text": [
      "0.3034422683029183 0.40165361943327926 0.5850666262207487\n"
     ]
    }
   ],
   "source": [
    "albedo_min = res_minalbedo.x\n",
    "albedo_med = res_med_planet.x\n",
    "albedo_max = res_maxalbedo.x\n",
    "print(albedo_min, albedo_med, albedo_max)"
   ]
  },
  {
   "cell_type": "markdown",
   "metadata": {},
   "source": [
    "#### relative uncertainty"
   ]
  },
  {
   "cell_type": "code",
   "execution_count": 55,
   "metadata": {},
   "outputs": [
    {
     "data": {
      "text/plain": [
       "0.35058112798185853"
      ]
     },
     "execution_count": 55,
     "metadata": {},
     "output_type": "execute_result"
    }
   ],
   "source": [
    "(albedo_max - albedo_min) / 2 / albedo_med"
   ]
  },
  {
   "cell_type": "code",
   "execution_count": 56,
   "metadata": {},
   "outputs": [],
   "source": [
    "albedos_test = np.linspace(0, 1, 100)\n",
    "fluxratio_chi2_med = np.zeros(albedos_test.shape)\n",
    "fluxratio_chi2_minalbedo = np.zeros(albedos_test.shape)\n",
    "fluxratio_chi2_maxalbedo = np.zeros(albedos_test.shape)\n",
    "\n",
    "for i, albedo_test in enumerate(albedos_test):\n",
    "    fluxratio_chi2_med[i] = fluxratio_chi2_func(albedo_test, planet_med, delta_dates, fluxratio_meas)\n",
    "    fluxratio_chi2_minalbedo[i] = fluxratio_chi2_func(albedo_test, planet_minalbedo, delta_dates,\n",
    "                                                      fluxratio_meas - fluxratio_meas_errs)\n",
    "    fluxratio_chi2_maxalbedo[i] = fluxratio_chi2_func(albedo_test, planet_maxalbedo, delta_dates,\n",
    "                                                      fluxratio_meas + fluxratio_meas_errs)"
   ]
  },
  {
   "cell_type": "code",
   "execution_count": 57,
   "metadata": {},
   "outputs": [
    {
     "data": {
      "image/png": "[encoded data removed]",
      "text/plain": [
       "<Figure size 468x360 with 1 Axes>"
      ]
     },
     "metadata": {
      "needs_background": "light"
     },
     "output_type": "display_data"
    }
   ],
   "source": [
    "ymax = 4E-9\n",
    "\n",
    "plt.figure(figsize=(6.5, 5))\n",
    "plt.plot(albedos_test, fluxratio_chi2_minalbedo)\n",
    "plt.plot(albedos_test, fluxratio_chi2_med)\n",
    "plt.plot(albedos_test, fluxratio_chi2_maxalbedo)\n",
    "\n",
    "plt.vlines(planetc.albedo_vals[0], 0, ymax, linestyles='dashed', color='k')\n",
    "\n",
    "plt.legend(['lower bound: {:.2f}'.format(albedo_min),\n",
    "            'median fit: {:.2f}'.format(albedo_med),\n",
    "            'upper bound fit: {:.2f}'.format(albedo_max),\n",
    "            'true value: {:.2f}'.format(planetc.albedo_vals[0])],\n",
    "           loc = 'upper right')\n",
    "\n",
    "plt.ylim([0, ymax])\n",
    "plt.xlim([0, 1.0])\n",
    "\n",
    "plt.xlabel('geometric albedo')\n",
    "plt.ylabel('photometric fit $\\chi^2$')\n",
    "\n",
    "plot_fname = os.path.join(\n",
    "        plot_dir,\n",
    "        \"albedo_fit_{:d}epochs_RVpriors{:}_totorb{:06d}.png\".format(\n",
    "        num_epochs, apply_RV_priors, total_orbits))\n",
    "plt.savefig(plot_fname, dpi=200)"
   ]
  },
  {
   "cell_type": "markdown",
   "metadata": {},
   "source": [
    "### Tabulate mass, radius, and albedo estimates"
   ]
  },
  {
   "cell_type": "code",
   "execution_count": 58,
   "metadata": {},
   "outputs": [
    {
     "name": "stdout",
     "output_type": "stream",
     "text": [
      "Wrote mass, radius, and albedo results to\n",
      "/Users/nzimmerm/Box Sync/Roman/Data_Challenges/paper1 analysis/planet_c_in-house_mass-radius-albedo_4epochs_RVpriorsTrue_totorb040000.csv\n"
     ]
    }
   ],
   "source": [
    "planetc_massradiusalbedo_table_fname = os.path.join(\n",
    "        data_dir,\n",
    "        \"planet_c_in-house_mass-radius-albedo_{:d}epochs_RVpriors{:}_totorb{:06d}.csv\".format(\n",
    "        num_epochs, apply_RV_priors, total_orbits))\n",
    "planetc_massradiusalbedo_table = astropy.table.Table()\n",
    "\n",
    "rowlabel_col = astropy.table.Table.Column(name = 'value',\n",
    "                                          data = [\"lower\", \"median\", \"upper\"], dtype = str)\n",
    "\n",
    "mplan_col = astropy.table.Table.Column(name = 'mass (M_jup)',\n",
    "                                       data = [mplan_min.to(u.M_jup).value,\n",
    "                                               mplan_med.to(u.M_jup).value,\n",
    "                                               mplan_max.to(u.M_jup).value],\n",
    "                                       dtype = float, format=\"{:.2f}\")\n",
    "\n",
    "Rplan_col = astropy.table.Table.Column(name = 'radius (M_jup)',\n",
    "                                       data = [Rplan_bem_min.to(u.R_jup).value,\n",
    "                                               Rplan_bem_med.to(u.R_jup).value,\n",
    "                                               Rplan_bem_max.to(u.R_jup).value],\n",
    "                                       dtype = float, format=\"{:.2f}\")\n",
    "\n",
    "albedo_col = astropy.table.Table.Column(name = 'albedo',\n",
    "                                        data = [albedo_min,\n",
    "                                                albedo_med,\n",
    "                                                albedo_max],\n",
    "                                       dtype = float, format=\"{:.2f}\")\n",
    "\n",
    "planetc_massradiusalbedo_table.add_column(rowlabel_col, index = 0)\n",
    "planetc_massradiusalbedo_table.add_column(mplan_col, index = 1)\n",
    "planetc_massradiusalbedo_table.add_column(Rplan_col, index = 2)\n",
    "planetc_massradiusalbedo_table.add_column(albedo_col, index = 3)\n",
    "\n",
    "planetc_massradiusalbedo_table.write(planetc_massradiusalbedo_table_fname, overwrite=True)\n",
    "print(\"Wrote mass, radius, and albedo results to\\n{:s}\".format(planetc_massradiusalbedo_table_fname))"
   ]
  },
  {
   "cell_type": "code",
   "execution_count": 59,
   "metadata": {},
   "outputs": [
    {
     "data": {
      "text/html": [
       "<i>Table length=3</i>\n",
       "<table id=\"table112310661976\" class=\"table-striped table-bordered table-condensed\">\n",
       "<thead><tr><th>value</th><th>mass (M_jup)</th><th>radius (M_jup)</th><th>albedo</th></tr></thead>\n",
       "<thead><tr><th>str6</th><th>float64</th><th>float64</th><th>float64</th></tr></thead>\n",
       "<tr><td>lower</td><td>0.85</td><td>0.91</td><td>0.30</td></tr>\n",
       "<tr><td>median</td><td>1.01</td><td>0.96</td><td>0.40</td></tr>\n",
       "<tr><td>upper</td><td>1.21</td><td>1.00</td><td>0.59</td></tr>\n",
       "</table>"
      ],
      "text/plain": [
       "<Table length=3>\n",
       "value  mass (M_jup) radius (M_jup)  albedo\n",
       " str6    float64       float64     float64\n",
       "------ ------------ -------------- -------\n",
       " lower         0.85           0.91    0.30\n",
       "median         1.01           0.96    0.40\n",
       " upper         1.21           1.00    0.59"
      ]
     },
     "execution_count": 59,
     "metadata": {},
     "output_type": "execute_result"
    }
   ],
   "source": [
    "planetc_massradiusalbedo_table"
   ]
  },
  {
   "cell_type": "markdown",
   "metadata": {},
   "source": [
    "### Visualize fit to phase function"
   ]
  },
  {
   "cell_type": "code",
   "execution_count": 60,
   "metadata": {},
   "outputs": [
    {
     "data": {
      "text/plain": [
       "[<Quantity 0. yr>,\n",
       " <Quantity 0.15000684 yr>,\n",
       " <Quantity 1. yr>,\n",
       " <Quantity 2. yr>]"
      ]
     },
     "execution_count": 60,
     "metadata": {},
     "output_type": "execute_result"
    }
   ],
   "source": [
    "delta_dates"
   ]
  },
  {
   "cell_type": "code",
   "execution_count": 61,
   "metadata": {},
   "outputs": [],
   "source": [
    "def get_fluxratio_curve(albedo, planet, times):\n",
    "    tseries, delx, dely, beta, phasefunc, orad = planet.compute_ephem(tarray = times)\n",
    "    fluxratio_curve = phasefunc * albedo * (planet.radius.to(u.AU) / orad)**2\n",
    "    return fluxratio_curve"
   ]
  },
  {
   "cell_type": "code",
   "execution_count": 62,
   "metadata": {},
   "outputs": [],
   "source": [
    "plot_times = np.linspace(-2, 12, 100) * u.year\n",
    "\n",
    "fluxratio_curve_med = get_fluxratio_curve(albedo_med, planet_med, plot_times)\n",
    "fluxratio_curve_minalbedo = get_fluxratio_curve(albedo_min, planet_minalbedo, plot_times)\n",
    "fluxratio_curve_maxalbedo = get_fluxratio_curve(albedo_max, planet_maxalbedo, plot_times)"
   ]
  },
  {
   "cell_type": "code",
   "execution_count": 63,
   "metadata": {},
   "outputs": [
    {
     "data": {
      "image/png": "[encoded data removed]",
      "text/plain": [
       "<Figure size 432x360 with 1 Axes>"
      ]
     },
     "metadata": {
      "needs_background": "light"
     },
     "output_type": "display_data"
    }
   ],
   "source": [
    "planetc_photo_fit_plot_fname = os.path.join(\n",
    "        plot_dir,\n",
    "        \"planet_c_in-house_photometric-fit_{:d}epochs_RVpriors{:}_totorb{:06d}.png\".format(\n",
    "        num_epochs, apply_RV_priors, total_orbits))\n",
    "\n",
    "delta_date_array = np.array([date.value for date in delta_dates])\n",
    "\n",
    "plt.figure(figsize=(6,5))\n",
    "\n",
    "min_curve = plt.plot(plot_times, fluxratio_curve_minalbedo)\n",
    "med_curve = plt.plot(plot_times, fluxratio_curve_med)\n",
    "max_curve = plt.plot(plot_times, fluxratio_curve_maxalbedo)\n",
    "\n",
    "data_pts = plt.errorbar(delta_date_array, fluxratio_meas, yerr = fluxratio_meas_errs,\n",
    "                        color='k', capsize=20, capthick=3, linestyle='',\n",
    "                        marker='.', markersize=16, zorder=99)\n",
    "\n",
    "plt.ylim([0, 8.3E-9])\n",
    "plt.xlim([-1, 10.0])\n",
    "\n",
    "plt.legend((data_pts[0], min_curve[0], med_curve[0], max_curve[0]),\n",
    "           ('Measurements',\n",
    "            'Lower bound model (albedo = {:.2f})'.format(albedo_min),\n",
    "            'Best fit model (albedo = {:.2f})'.format(albedo_med),\n",
    "            'Upper bound model (albedo = {:.2f})'.format(albedo_max)),\n",
    "            fontsize=14)\n",
    "\n",
    "plt.ylabel('Flux ratio')\n",
    "plt.xlabel('Time elapsed from first epoch (years)')\n",
    "\n",
    "plt.savefig(planetc_photo_fit_plot_fname, dpi=200)"
   ]
  },
  {
   "cell_type": "code",
   "execution_count": 64,
   "metadata": {},
   "outputs": [
    {
     "data": {
      "text/plain": [
       "<matplotlib.lines.Line2D at 0x1a25b59fd0>"
      ]
     },
     "execution_count": 64,
     "metadata": {},
     "output_type": "execute_result"
    }
   ],
   "source": [
    "data_pts[0]"
   ]
  },
  {
   "cell_type": "code",
   "execution_count": null,
   "metadata": {},
   "outputs": [],
   "source": []
  }
 ],
 "metadata": {
  "kernelspec": {
   "display_name": "Python 3",
   "language": "python",
   "name": "python3"
  },
  "language_info": {
   "codemirror_mode": {
    "name": "ipython",
    "version": 3
   },
   "file_extension": ".py",
   "mimetype": "text/x-python",
   "name": "python",
   "nbconvert_exporter": "python",
   "pygments_lexer": "ipython3",
   "version": "3.7.3"
  }
 },
 "nbformat": 4,
 "nbformat_minor": 4
}
